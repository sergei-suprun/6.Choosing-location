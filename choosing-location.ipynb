{
 "cells": [
  {
   "cell_type": "markdown",
   "metadata": {},
   "source": [
    "# Выбор локации для скважины"
   ]
  },
  {
   "cell_type": "markdown",
   "metadata": {},
   "source": [
    "## Описание и цели проекта\n",
    "\n",
    "Нефтяной добывающей компании необходимо решить в каком регионе бурить скважину.\n",
    "\n",
    "Шаги для выбора локации обычно такие:\n",
    "- В избранном регионе собирают характеристики для скважин: качество нефти и объём её запасов;\n",
    "- Строят модель для предсказания объёма запасов в новых скважинах;\n",
    "- Выбирают скважины с самыми высокими оценками значений;\n",
    "- Определяют регион с максимальной суммарной прибылью отобранных скважин.\n",
    "\n",
    "Для поиска и принятия решения предоставлены пробы нефти в трёх регионах: в каждом 100 000 месторождений, где измерили качество нефти и объём её запасов. Нужно построить модель машинного обучения, которая поможет определить регион, где добыча принесёт наибольшую прибыль. Затем проанализировать возможную прибыль и риски убытков.\n",
    "\n",
    "`План исследования:`\n",
    "- Загружаем и подготавливаем данные.\n",
    "- Обучаем и проверяем модель для каждого региона.\n",
    "- Находим средний запас предсказанного сырья и RMSE модели.\n",
    "- Рассчитываем достаточный объём сырья для безубыточной разработки новой скважины.\n",
    "- Сравниваем полученный объём сырья со средним запасом в каждом регионе. \n",
    "- Пишем функцию для расчёта прибыли по выбранным скважинам и предсказаниям модели\n",
    "- Выбераем скважины с максимальными значениями предсказаний. \n",
    "- Рассчитываем прибыль для полученного объёма сырья и считаем риски и прибыль для каждого региона. Для того, чтобы найти распределение прибыли применим технику Bootstrap с 1000 выборок.\n",
    "- Находим среднюю прибыль, 95%-й доверительный интервал и риск убытков\n",
    "- На основании полученных результатов предлагаем регион для разработки скважин.\n",
    "\n",
    "`Описание данных`\n",
    "- id — уникальный идентификатор скважины;\n",
    "- f0, f1, f2 — три признака точек (неважно, что они означают, но сами признаки значимы);\n",
    "- product — объём запасов в скважине (тыс. баррелей).\n",
    "\n",
    "`Условия задачи:`\n",
    "- Для обучения модели подходит только линейная регрессия (остальные — недостаточно предсказуемые).\n",
    "- При разведке региона исследуют 500 точек, из которых с помощью машинного обучения выбирают 200 лучших для разработки.\n",
    "- Бюджет на разработку скважин в регионе — 10 млрд рублей.\n",
    "- При нынешних ценах один баррель сырья приносит 450 рублей дохода. Доход с каждой единицы продукта составляет 450 тыс. рублей, поскольку объём указан в тысячах баррелей.\n",
    "- После оценки рисков нужно оставить лишь те регионы, в которых вероятность убытков меньше 2.5%. Среди них выбирать регион с наибольшей средней прибылью.\n",
    "- Данные синтетические: детали контрактов и характеристики месторождений не разглашаются."
   ]
  },
  {
   "cell_type": "markdown",
   "metadata": {},
   "source": [
    "## Загрузка и подготовка данных"
   ]
  },
  {
   "cell_type": "code",
   "execution_count": 6,
   "metadata": {},
   "outputs": [],
   "source": [
    "#pip install ydata-profiling"
   ]
  },
  {
   "cell_type": "code",
   "execution_count": 5,
   "metadata": {},
   "outputs": [],
   "source": [
    "import pandas as pd\n",
    "import numpy as np\n",
    "import seaborn as sns\n",
    "from termcolor import colored\n",
    "from sklearn.model_selection import train_test_split\n",
    "from sklearn.linear_model import LinearRegression\n",
    "from sklearn.metrics import mean_squared_error\n",
    "#from ydata_profiling import ProfileReport"
   ]
  },
  {
   "cell_type": "code",
   "execution_count": 3,
   "metadata": {},
   "outputs": [],
   "source": [
    "try:\n",
    "    df_1 = pd.read_csv('/datasets/geo_data_0.csv')\n",
    "    df_2 = pd.read_csv('/datasets/geo_data_1.csv')\n",
    "    df_3 = pd.read_csv('/datasets/geo_data_2.csv')\n",
    "except:\n",
    "    df_1 = pd.read_csv('https://code.s3.yandex.net/datasets/geo_data_0.csv')\n",
    "    df_2 = pd.read_csv('https://code.s3.yandex.net/datasets/geo_data_1.csv')\n",
    "    df_3 = pd.read_csv('https://code.s3.yandex.net/datasets/geo_data_2.csv')\n",
    "pd.set_option('display.max_columns', None)\n",
    "pd.set_option('display.float_format', '{:,.2f}'.format)\n"
   ]
  },
  {
   "cell_type": "code",
   "execution_count": null,
   "metadata": {},
   "outputs": [],
   "source": [
    "#ProfileReport(df_1)"
   ]
  },
  {
   "cell_type": "code",
   "execution_count": 5,
   "metadata": {},
   "outputs": [],
   "source": [
    "# Для более быстрого получения информации о данных создадим словарь\n",
    "group_df = {'region_1':df_1, 'region_2':df_2, 'region_3':df_3}"
   ]
  },
  {
   "cell_type": "code",
   "execution_count": 6,
   "metadata": {},
   "outputs": [
    {
     "name": "stdout",
     "output_type": "stream",
     "text": [
      "\u001b[1mregion_1\u001b[0m\n",
      "\n",
      "<class 'pandas.core.frame.DataFrame'>\n",
      "RangeIndex: 100000 entries, 0 to 99999\n",
      "Data columns (total 5 columns):\n",
      " #   Column   Non-Null Count   Dtype  \n",
      "---  ------   --------------   -----  \n",
      " 0   id       100000 non-null  object \n",
      " 1   f0       100000 non-null  float64\n",
      " 2   f1       100000 non-null  float64\n",
      " 3   f2       100000 non-null  float64\n",
      " 4   product  100000 non-null  float64\n",
      "dtypes: float64(4), object(1)\n",
      "memory usage: 3.8+ MB\n"
     ]
    },
    {
     "data": {
      "text/html": [
       "<div>\n",
       "<style scoped>\n",
       "    .dataframe tbody tr th:only-of-type {\n",
       "        vertical-align: middle;\n",
       "    }\n",
       "\n",
       "    .dataframe tbody tr th {\n",
       "        vertical-align: top;\n",
       "    }\n",
       "\n",
       "    .dataframe thead th {\n",
       "        text-align: right;\n",
       "    }\n",
       "</style>\n",
       "<table border=\"1\" class=\"dataframe\">\n",
       "  <thead>\n",
       "    <tr style=\"text-align: right;\">\n",
       "      <th></th>\n",
       "      <th>id</th>\n",
       "      <th>f0</th>\n",
       "      <th>f1</th>\n",
       "      <th>f2</th>\n",
       "      <th>product</th>\n",
       "    </tr>\n",
       "  </thead>\n",
       "  <tbody>\n",
       "    <tr>\n",
       "      <th>0</th>\n",
       "      <td>txEyH</td>\n",
       "      <td>0.71</td>\n",
       "      <td>-0.50</td>\n",
       "      <td>1.22</td>\n",
       "      <td>105.28</td>\n",
       "    </tr>\n",
       "    <tr>\n",
       "      <th>1</th>\n",
       "      <td>2acmU</td>\n",
       "      <td>1.33</td>\n",
       "      <td>-0.34</td>\n",
       "      <td>4.37</td>\n",
       "      <td>73.04</td>\n",
       "    </tr>\n",
       "    <tr>\n",
       "      <th>2</th>\n",
       "      <td>409Wp</td>\n",
       "      <td>1.02</td>\n",
       "      <td>0.15</td>\n",
       "      <td>1.42</td>\n",
       "      <td>85.27</td>\n",
       "    </tr>\n",
       "    <tr>\n",
       "      <th>3</th>\n",
       "      <td>iJLyR</td>\n",
       "      <td>-0.03</td>\n",
       "      <td>0.14</td>\n",
       "      <td>2.98</td>\n",
       "      <td>168.62</td>\n",
       "    </tr>\n",
       "    <tr>\n",
       "      <th>4</th>\n",
       "      <td>Xdl7t</td>\n",
       "      <td>1.99</td>\n",
       "      <td>0.16</td>\n",
       "      <td>4.75</td>\n",
       "      <td>154.04</td>\n",
       "    </tr>\n",
       "  </tbody>\n",
       "</table>\n",
       "</div>"
      ],
      "text/plain": [
       "      id    f0    f1   f2  product\n",
       "0  txEyH  0.71 -0.50 1.22   105.28\n",
       "1  2acmU  1.33 -0.34 4.37    73.04\n",
       "2  409Wp  1.02  0.15 1.42    85.27\n",
       "3  iJLyR -0.03  0.14 2.98   168.62\n",
       "4  Xdl7t  1.99  0.16 4.75   154.04"
      ]
     },
     "metadata": {},
     "output_type": "display_data"
    },
    {
     "data": {
      "text/plain": [
       "None"
      ]
     },
     "metadata": {},
     "output_type": "display_data"
    },
    {
     "data": {
      "text/html": [
       "<div>\n",
       "<style scoped>\n",
       "    .dataframe tbody tr th:only-of-type {\n",
       "        vertical-align: middle;\n",
       "    }\n",
       "\n",
       "    .dataframe tbody tr th {\n",
       "        vertical-align: top;\n",
       "    }\n",
       "\n",
       "    .dataframe thead th {\n",
       "        text-align: right;\n",
       "    }\n",
       "</style>\n",
       "<table border=\"1\" class=\"dataframe\">\n",
       "  <thead>\n",
       "    <tr style=\"text-align: right;\">\n",
       "      <th></th>\n",
       "      <th>f0</th>\n",
       "      <th>f1</th>\n",
       "      <th>f2</th>\n",
       "      <th>product</th>\n",
       "    </tr>\n",
       "  </thead>\n",
       "  <tbody>\n",
       "    <tr>\n",
       "      <th>count</th>\n",
       "      <td>100,000.00</td>\n",
       "      <td>100,000.00</td>\n",
       "      <td>100,000.00</td>\n",
       "      <td>100,000.00</td>\n",
       "    </tr>\n",
       "    <tr>\n",
       "      <th>mean</th>\n",
       "      <td>0.50</td>\n",
       "      <td>0.25</td>\n",
       "      <td>2.50</td>\n",
       "      <td>92.50</td>\n",
       "    </tr>\n",
       "    <tr>\n",
       "      <th>std</th>\n",
       "      <td>0.87</td>\n",
       "      <td>0.50</td>\n",
       "      <td>3.25</td>\n",
       "      <td>44.29</td>\n",
       "    </tr>\n",
       "    <tr>\n",
       "      <th>min</th>\n",
       "      <td>-1.41</td>\n",
       "      <td>-0.85</td>\n",
       "      <td>-12.09</td>\n",
       "      <td>0.00</td>\n",
       "    </tr>\n",
       "    <tr>\n",
       "      <th>25%</th>\n",
       "      <td>-0.07</td>\n",
       "      <td>-0.20</td>\n",
       "      <td>0.29</td>\n",
       "      <td>56.50</td>\n",
       "    </tr>\n",
       "    <tr>\n",
       "      <th>50%</th>\n",
       "      <td>0.50</td>\n",
       "      <td>0.25</td>\n",
       "      <td>2.52</td>\n",
       "      <td>91.85</td>\n",
       "    </tr>\n",
       "    <tr>\n",
       "      <th>75%</th>\n",
       "      <td>1.07</td>\n",
       "      <td>0.70</td>\n",
       "      <td>4.72</td>\n",
       "      <td>128.56</td>\n",
       "    </tr>\n",
       "    <tr>\n",
       "      <th>max</th>\n",
       "      <td>2.36</td>\n",
       "      <td>1.34</td>\n",
       "      <td>16.00</td>\n",
       "      <td>185.36</td>\n",
       "    </tr>\n",
       "  </tbody>\n",
       "</table>\n",
       "</div>"
      ],
      "text/plain": [
       "              f0         f1         f2    product\n",
       "count 100,000.00 100,000.00 100,000.00 100,000.00\n",
       "mean        0.50       0.25       2.50      92.50\n",
       "std         0.87       0.50       3.25      44.29\n",
       "min        -1.41      -0.85     -12.09       0.00\n",
       "25%        -0.07      -0.20       0.29      56.50\n",
       "50%         0.50       0.25       2.52      91.85\n",
       "75%         1.07       0.70       4.72     128.56\n",
       "max         2.36       1.34      16.00     185.36"
      ]
     },
     "metadata": {},
     "output_type": "display_data"
    },
    {
     "name": "stdout",
     "output_type": "stream",
     "text": [
      "--------------------------------\n",
      "\u001b[1mregion_2\u001b[0m\n",
      "\n",
      "<class 'pandas.core.frame.DataFrame'>\n",
      "RangeIndex: 100000 entries, 0 to 99999\n",
      "Data columns (total 5 columns):\n",
      " #   Column   Non-Null Count   Dtype  \n",
      "---  ------   --------------   -----  \n",
      " 0   id       100000 non-null  object \n",
      " 1   f0       100000 non-null  float64\n",
      " 2   f1       100000 non-null  float64\n",
      " 3   f2       100000 non-null  float64\n",
      " 4   product  100000 non-null  float64\n",
      "dtypes: float64(4), object(1)\n",
      "memory usage: 3.8+ MB\n"
     ]
    },
    {
     "data": {
      "text/html": [
       "<div>\n",
       "<style scoped>\n",
       "    .dataframe tbody tr th:only-of-type {\n",
       "        vertical-align: middle;\n",
       "    }\n",
       "\n",
       "    .dataframe tbody tr th {\n",
       "        vertical-align: top;\n",
       "    }\n",
       "\n",
       "    .dataframe thead th {\n",
       "        text-align: right;\n",
       "    }\n",
       "</style>\n",
       "<table border=\"1\" class=\"dataframe\">\n",
       "  <thead>\n",
       "    <tr style=\"text-align: right;\">\n",
       "      <th></th>\n",
       "      <th>id</th>\n",
       "      <th>f0</th>\n",
       "      <th>f1</th>\n",
       "      <th>f2</th>\n",
       "      <th>product</th>\n",
       "    </tr>\n",
       "  </thead>\n",
       "  <tbody>\n",
       "    <tr>\n",
       "      <th>0</th>\n",
       "      <td>kBEdx</td>\n",
       "      <td>-15.00</td>\n",
       "      <td>-8.28</td>\n",
       "      <td>-0.01</td>\n",
       "      <td>3.18</td>\n",
       "    </tr>\n",
       "    <tr>\n",
       "      <th>1</th>\n",
       "      <td>62mP7</td>\n",
       "      <td>14.27</td>\n",
       "      <td>-3.48</td>\n",
       "      <td>1.00</td>\n",
       "      <td>26.95</td>\n",
       "    </tr>\n",
       "    <tr>\n",
       "      <th>2</th>\n",
       "      <td>vyE1P</td>\n",
       "      <td>6.26</td>\n",
       "      <td>-5.95</td>\n",
       "      <td>5.00</td>\n",
       "      <td>134.77</td>\n",
       "    </tr>\n",
       "    <tr>\n",
       "      <th>3</th>\n",
       "      <td>KcrkZ</td>\n",
       "      <td>-13.08</td>\n",
       "      <td>-11.51</td>\n",
       "      <td>5.00</td>\n",
       "      <td>137.95</td>\n",
       "    </tr>\n",
       "    <tr>\n",
       "      <th>4</th>\n",
       "      <td>AHL4O</td>\n",
       "      <td>12.70</td>\n",
       "      <td>-8.15</td>\n",
       "      <td>5.00</td>\n",
       "      <td>134.77</td>\n",
       "    </tr>\n",
       "  </tbody>\n",
       "</table>\n",
       "</div>"
      ],
      "text/plain": [
       "      id     f0     f1    f2  product\n",
       "0  kBEdx -15.00  -8.28 -0.01     3.18\n",
       "1  62mP7  14.27  -3.48  1.00    26.95\n",
       "2  vyE1P   6.26  -5.95  5.00   134.77\n",
       "3  KcrkZ -13.08 -11.51  5.00   137.95\n",
       "4  AHL4O  12.70  -8.15  5.00   134.77"
      ]
     },
     "metadata": {},
     "output_type": "display_data"
    },
    {
     "data": {
      "text/plain": [
       "None"
      ]
     },
     "metadata": {},
     "output_type": "display_data"
    },
    {
     "data": {
      "text/html": [
       "<div>\n",
       "<style scoped>\n",
       "    .dataframe tbody tr th:only-of-type {\n",
       "        vertical-align: middle;\n",
       "    }\n",
       "\n",
       "    .dataframe tbody tr th {\n",
       "        vertical-align: top;\n",
       "    }\n",
       "\n",
       "    .dataframe thead th {\n",
       "        text-align: right;\n",
       "    }\n",
       "</style>\n",
       "<table border=\"1\" class=\"dataframe\">\n",
       "  <thead>\n",
       "    <tr style=\"text-align: right;\">\n",
       "      <th></th>\n",
       "      <th>f0</th>\n",
       "      <th>f1</th>\n",
       "      <th>f2</th>\n",
       "      <th>product</th>\n",
       "    </tr>\n",
       "  </thead>\n",
       "  <tbody>\n",
       "    <tr>\n",
       "      <th>count</th>\n",
       "      <td>100,000.00</td>\n",
       "      <td>100,000.00</td>\n",
       "      <td>100,000.00</td>\n",
       "      <td>100,000.00</td>\n",
       "    </tr>\n",
       "    <tr>\n",
       "      <th>mean</th>\n",
       "      <td>1.14</td>\n",
       "      <td>-4.80</td>\n",
       "      <td>2.49</td>\n",
       "      <td>68.83</td>\n",
       "    </tr>\n",
       "    <tr>\n",
       "      <th>std</th>\n",
       "      <td>8.97</td>\n",
       "      <td>5.12</td>\n",
       "      <td>1.70</td>\n",
       "      <td>45.94</td>\n",
       "    </tr>\n",
       "    <tr>\n",
       "      <th>min</th>\n",
       "      <td>-31.61</td>\n",
       "      <td>-26.36</td>\n",
       "      <td>-0.02</td>\n",
       "      <td>0.00</td>\n",
       "    </tr>\n",
       "    <tr>\n",
       "      <th>25%</th>\n",
       "      <td>-6.30</td>\n",
       "      <td>-8.27</td>\n",
       "      <td>1.00</td>\n",
       "      <td>26.95</td>\n",
       "    </tr>\n",
       "    <tr>\n",
       "      <th>50%</th>\n",
       "      <td>1.15</td>\n",
       "      <td>-4.81</td>\n",
       "      <td>2.01</td>\n",
       "      <td>57.09</td>\n",
       "    </tr>\n",
       "    <tr>\n",
       "      <th>75%</th>\n",
       "      <td>8.62</td>\n",
       "      <td>-1.33</td>\n",
       "      <td>4.00</td>\n",
       "      <td>107.81</td>\n",
       "    </tr>\n",
       "    <tr>\n",
       "      <th>max</th>\n",
       "      <td>29.42</td>\n",
       "      <td>18.73</td>\n",
       "      <td>5.02</td>\n",
       "      <td>137.95</td>\n",
       "    </tr>\n",
       "  </tbody>\n",
       "</table>\n",
       "</div>"
      ],
      "text/plain": [
       "              f0         f1         f2    product\n",
       "count 100,000.00 100,000.00 100,000.00 100,000.00\n",
       "mean        1.14      -4.80       2.49      68.83\n",
       "std         8.97       5.12       1.70      45.94\n",
       "min       -31.61     -26.36      -0.02       0.00\n",
       "25%        -6.30      -8.27       1.00      26.95\n",
       "50%         1.15      -4.81       2.01      57.09\n",
       "75%         8.62      -1.33       4.00     107.81\n",
       "max        29.42      18.73       5.02     137.95"
      ]
     },
     "metadata": {},
     "output_type": "display_data"
    },
    {
     "name": "stdout",
     "output_type": "stream",
     "text": [
      "--------------------------------\n",
      "\u001b[1mregion_3\u001b[0m\n",
      "\n",
      "<class 'pandas.core.frame.DataFrame'>\n",
      "RangeIndex: 100000 entries, 0 to 99999\n",
      "Data columns (total 5 columns):\n",
      " #   Column   Non-Null Count   Dtype  \n",
      "---  ------   --------------   -----  \n",
      " 0   id       100000 non-null  object \n",
      " 1   f0       100000 non-null  float64\n",
      " 2   f1       100000 non-null  float64\n",
      " 3   f2       100000 non-null  float64\n",
      " 4   product  100000 non-null  float64\n",
      "dtypes: float64(4), object(1)\n",
      "memory usage: 3.8+ MB\n"
     ]
    },
    {
     "data": {
      "text/html": [
       "<div>\n",
       "<style scoped>\n",
       "    .dataframe tbody tr th:only-of-type {\n",
       "        vertical-align: middle;\n",
       "    }\n",
       "\n",
       "    .dataframe tbody tr th {\n",
       "        vertical-align: top;\n",
       "    }\n",
       "\n",
       "    .dataframe thead th {\n",
       "        text-align: right;\n",
       "    }\n",
       "</style>\n",
       "<table border=\"1\" class=\"dataframe\">\n",
       "  <thead>\n",
       "    <tr style=\"text-align: right;\">\n",
       "      <th></th>\n",
       "      <th>id</th>\n",
       "      <th>f0</th>\n",
       "      <th>f1</th>\n",
       "      <th>f2</th>\n",
       "      <th>product</th>\n",
       "    </tr>\n",
       "  </thead>\n",
       "  <tbody>\n",
       "    <tr>\n",
       "      <th>0</th>\n",
       "      <td>fwXo0</td>\n",
       "      <td>-1.15</td>\n",
       "      <td>0.96</td>\n",
       "      <td>-0.83</td>\n",
       "      <td>27.76</td>\n",
       "    </tr>\n",
       "    <tr>\n",
       "      <th>1</th>\n",
       "      <td>WJtFt</td>\n",
       "      <td>0.26</td>\n",
       "      <td>0.27</td>\n",
       "      <td>-2.53</td>\n",
       "      <td>56.07</td>\n",
       "    </tr>\n",
       "    <tr>\n",
       "      <th>2</th>\n",
       "      <td>ovLUW</td>\n",
       "      <td>0.19</td>\n",
       "      <td>0.29</td>\n",
       "      <td>-5.59</td>\n",
       "      <td>62.87</td>\n",
       "    </tr>\n",
       "    <tr>\n",
       "      <th>3</th>\n",
       "      <td>q6cA6</td>\n",
       "      <td>2.24</td>\n",
       "      <td>-0.55</td>\n",
       "      <td>0.93</td>\n",
       "      <td>114.57</td>\n",
       "    </tr>\n",
       "    <tr>\n",
       "      <th>4</th>\n",
       "      <td>WPMUX</td>\n",
       "      <td>-0.52</td>\n",
       "      <td>1.72</td>\n",
       "      <td>5.90</td>\n",
       "      <td>149.60</td>\n",
       "    </tr>\n",
       "  </tbody>\n",
       "</table>\n",
       "</div>"
      ],
      "text/plain": [
       "      id    f0    f1    f2  product\n",
       "0  fwXo0 -1.15  0.96 -0.83    27.76\n",
       "1  WJtFt  0.26  0.27 -2.53    56.07\n",
       "2  ovLUW  0.19  0.29 -5.59    62.87\n",
       "3  q6cA6  2.24 -0.55  0.93   114.57\n",
       "4  WPMUX -0.52  1.72  5.90   149.60"
      ]
     },
     "metadata": {},
     "output_type": "display_data"
    },
    {
     "data": {
      "text/plain": [
       "None"
      ]
     },
     "metadata": {},
     "output_type": "display_data"
    },
    {
     "data": {
      "text/html": [
       "<div>\n",
       "<style scoped>\n",
       "    .dataframe tbody tr th:only-of-type {\n",
       "        vertical-align: middle;\n",
       "    }\n",
       "\n",
       "    .dataframe tbody tr th {\n",
       "        vertical-align: top;\n",
       "    }\n",
       "\n",
       "    .dataframe thead th {\n",
       "        text-align: right;\n",
       "    }\n",
       "</style>\n",
       "<table border=\"1\" class=\"dataframe\">\n",
       "  <thead>\n",
       "    <tr style=\"text-align: right;\">\n",
       "      <th></th>\n",
       "      <th>f0</th>\n",
       "      <th>f1</th>\n",
       "      <th>f2</th>\n",
       "      <th>product</th>\n",
       "    </tr>\n",
       "  </thead>\n",
       "  <tbody>\n",
       "    <tr>\n",
       "      <th>count</th>\n",
       "      <td>100,000.00</td>\n",
       "      <td>100,000.00</td>\n",
       "      <td>100,000.00</td>\n",
       "      <td>100,000.00</td>\n",
       "    </tr>\n",
       "    <tr>\n",
       "      <th>mean</th>\n",
       "      <td>0.00</td>\n",
       "      <td>-0.00</td>\n",
       "      <td>2.50</td>\n",
       "      <td>95.00</td>\n",
       "    </tr>\n",
       "    <tr>\n",
       "      <th>std</th>\n",
       "      <td>1.73</td>\n",
       "      <td>1.73</td>\n",
       "      <td>3.47</td>\n",
       "      <td>44.75</td>\n",
       "    </tr>\n",
       "    <tr>\n",
       "      <th>min</th>\n",
       "      <td>-8.76</td>\n",
       "      <td>-7.08</td>\n",
       "      <td>-11.97</td>\n",
       "      <td>0.00</td>\n",
       "    </tr>\n",
       "    <tr>\n",
       "      <th>25%</th>\n",
       "      <td>-1.16</td>\n",
       "      <td>-1.17</td>\n",
       "      <td>0.13</td>\n",
       "      <td>59.45</td>\n",
       "    </tr>\n",
       "    <tr>\n",
       "      <th>50%</th>\n",
       "      <td>0.01</td>\n",
       "      <td>-0.01</td>\n",
       "      <td>2.48</td>\n",
       "      <td>94.93</td>\n",
       "    </tr>\n",
       "    <tr>\n",
       "      <th>75%</th>\n",
       "      <td>1.16</td>\n",
       "      <td>1.16</td>\n",
       "      <td>4.86</td>\n",
       "      <td>130.60</td>\n",
       "    </tr>\n",
       "    <tr>\n",
       "      <th>max</th>\n",
       "      <td>7.24</td>\n",
       "      <td>7.84</td>\n",
       "      <td>16.74</td>\n",
       "      <td>190.03</td>\n",
       "    </tr>\n",
       "  </tbody>\n",
       "</table>\n",
       "</div>"
      ],
      "text/plain": [
       "              f0         f1         f2    product\n",
       "count 100,000.00 100,000.00 100,000.00 100,000.00\n",
       "mean        0.00      -0.00       2.50      95.00\n",
       "std         1.73       1.73       3.47      44.75\n",
       "min        -8.76      -7.08     -11.97       0.00\n",
       "25%        -1.16      -1.17       0.13      59.45\n",
       "50%         0.01      -0.01       2.48      94.93\n",
       "75%         1.16       1.16       4.86     130.60\n",
       "max         7.24       7.84      16.74     190.03"
      ]
     },
     "metadata": {},
     "output_type": "display_data"
    },
    {
     "name": "stdout",
     "output_type": "stream",
     "text": [
      "--------------------------------\n"
     ]
    }
   ],
   "source": [
    "# Посмотрим на исходные данные\n",
    "for name,i in group_df.items():\n",
    "    print(colored(name, attrs=['bold']))\n",
    "    print('')\n",
    "    display(i.head(), i.info(), i.describe())\n",
    "    print('--------------------------------')"
   ]
  },
  {
   "cell_type": "code",
   "execution_count": 7,
   "metadata": {},
   "outputs": [
    {
     "name": "stdout",
     "output_type": "stream",
     "text": [
      "region_1 : Количество дубликатов 10\n"
     ]
    },
    {
     "data": {
      "text/html": [
       "<div>\n",
       "<style scoped>\n",
       "    .dataframe tbody tr th:only-of-type {\n",
       "        vertical-align: middle;\n",
       "    }\n",
       "\n",
       "    .dataframe tbody tr th {\n",
       "        vertical-align: top;\n",
       "    }\n",
       "\n",
       "    .dataframe thead th {\n",
       "        text-align: right;\n",
       "    }\n",
       "</style>\n",
       "<table border=\"1\" class=\"dataframe\">\n",
       "  <thead>\n",
       "    <tr style=\"text-align: right;\">\n",
       "      <th></th>\n",
       "      <th>id</th>\n",
       "      <th>f0</th>\n",
       "      <th>f1</th>\n",
       "      <th>f2</th>\n",
       "      <th>product</th>\n",
       "    </tr>\n",
       "  </thead>\n",
       "  <tbody>\n",
       "    <tr>\n",
       "      <th>66136</th>\n",
       "      <td>74z30</td>\n",
       "      <td>1.08</td>\n",
       "      <td>-0.31</td>\n",
       "      <td>6.99</td>\n",
       "      <td>127.64</td>\n",
       "    </tr>\n",
       "    <tr>\n",
       "      <th>64022</th>\n",
       "      <td>74z30</td>\n",
       "      <td>0.74</td>\n",
       "      <td>0.46</td>\n",
       "      <td>5.15</td>\n",
       "      <td>140.77</td>\n",
       "    </tr>\n",
       "    <tr>\n",
       "      <th>51970</th>\n",
       "      <td>A5aEY</td>\n",
       "      <td>-0.18</td>\n",
       "      <td>0.94</td>\n",
       "      <td>-2.09</td>\n",
       "      <td>33.02</td>\n",
       "    </tr>\n",
       "    <tr>\n",
       "      <th>3389</th>\n",
       "      <td>A5aEY</td>\n",
       "      <td>-0.04</td>\n",
       "      <td>0.16</td>\n",
       "      <td>0.21</td>\n",
       "      <td>89.25</td>\n",
       "    </tr>\n",
       "    <tr>\n",
       "      <th>69163</th>\n",
       "      <td>AGS9W</td>\n",
       "      <td>-0.93</td>\n",
       "      <td>0.12</td>\n",
       "      <td>-3.66</td>\n",
       "      <td>19.23</td>\n",
       "    </tr>\n",
       "    <tr>\n",
       "      <th>42529</th>\n",
       "      <td>AGS9W</td>\n",
       "      <td>1.45</td>\n",
       "      <td>-0.48</td>\n",
       "      <td>0.68</td>\n",
       "      <td>126.37</td>\n",
       "    </tr>\n",
       "    <tr>\n",
       "      <th>931</th>\n",
       "      <td>HZww2</td>\n",
       "      <td>0.76</td>\n",
       "      <td>0.37</td>\n",
       "      <td>1.86</td>\n",
       "      <td>30.68</td>\n",
       "    </tr>\n",
       "    <tr>\n",
       "      <th>7530</th>\n",
       "      <td>HZww2</td>\n",
       "      <td>1.06</td>\n",
       "      <td>-0.37</td>\n",
       "      <td>10.43</td>\n",
       "      <td>158.83</td>\n",
       "    </tr>\n",
       "    <tr>\n",
       "      <th>63593</th>\n",
       "      <td>QcMuo</td>\n",
       "      <td>0.64</td>\n",
       "      <td>-0.47</td>\n",
       "      <td>0.86</td>\n",
       "      <td>64.58</td>\n",
       "    </tr>\n",
       "    <tr>\n",
       "      <th>1949</th>\n",
       "      <td>QcMuo</td>\n",
       "      <td>0.51</td>\n",
       "      <td>-0.32</td>\n",
       "      <td>-2.22</td>\n",
       "      <td>75.50</td>\n",
       "    </tr>\n",
       "    <tr>\n",
       "      <th>75715</th>\n",
       "      <td>Tdehs</td>\n",
       "      <td>0.11</td>\n",
       "      <td>0.43</td>\n",
       "      <td>3.22</td>\n",
       "      <td>60.96</td>\n",
       "    </tr>\n",
       "    <tr>\n",
       "      <th>21426</th>\n",
       "      <td>Tdehs</td>\n",
       "      <td>0.83</td>\n",
       "      <td>0.30</td>\n",
       "      <td>-0.05</td>\n",
       "      <td>96.04</td>\n",
       "    </tr>\n",
       "    <tr>\n",
       "      <th>92341</th>\n",
       "      <td>TtcGQ</td>\n",
       "      <td>0.11</td>\n",
       "      <td>1.02</td>\n",
       "      <td>0.91</td>\n",
       "      <td>101.32</td>\n",
       "    </tr>\n",
       "    <tr>\n",
       "      <th>60140</th>\n",
       "      <td>TtcGQ</td>\n",
       "      <td>0.57</td>\n",
       "      <td>-0.10</td>\n",
       "      <td>6.44</td>\n",
       "      <td>85.35</td>\n",
       "    </tr>\n",
       "    <tr>\n",
       "      <th>89582</th>\n",
       "      <td>bsk9y</td>\n",
       "      <td>0.40</td>\n",
       "      <td>-0.40</td>\n",
       "      <td>10.12</td>\n",
       "      <td>163.43</td>\n",
       "    </tr>\n",
       "    <tr>\n",
       "      <th>97785</th>\n",
       "      <td>bsk9y</td>\n",
       "      <td>0.38</td>\n",
       "      <td>0.01</td>\n",
       "      <td>0.16</td>\n",
       "      <td>160.64</td>\n",
       "    </tr>\n",
       "    <tr>\n",
       "      <th>41724</th>\n",
       "      <td>bxg6G</td>\n",
       "      <td>-0.82</td>\n",
       "      <td>0.55</td>\n",
       "      <td>3.63</td>\n",
       "      <td>93.01</td>\n",
       "    </tr>\n",
       "    <tr>\n",
       "      <th>1364</th>\n",
       "      <td>bxg6G</td>\n",
       "      <td>0.41</td>\n",
       "      <td>0.86</td>\n",
       "      <td>-3.65</td>\n",
       "      <td>73.60</td>\n",
       "    </tr>\n",
       "    <tr>\n",
       "      <th>16633</th>\n",
       "      <td>fiKDv</td>\n",
       "      <td>0.16</td>\n",
       "      <td>1.03</td>\n",
       "      <td>5.59</td>\n",
       "      <td>95.82</td>\n",
       "    </tr>\n",
       "    <tr>\n",
       "      <th>90815</th>\n",
       "      <td>fiKDv</td>\n",
       "      <td>0.05</td>\n",
       "      <td>0.84</td>\n",
       "      <td>6.39</td>\n",
       "      <td>137.35</td>\n",
       "    </tr>\n",
       "  </tbody>\n",
       "</table>\n",
       "</div>"
      ],
      "text/plain": [
       "          id    f0    f1    f2  product\n",
       "66136  74z30  1.08 -0.31  6.99   127.64\n",
       "64022  74z30  0.74  0.46  5.15   140.77\n",
       "51970  A5aEY -0.18  0.94 -2.09    33.02\n",
       "3389   A5aEY -0.04  0.16  0.21    89.25\n",
       "69163  AGS9W -0.93  0.12 -3.66    19.23\n",
       "42529  AGS9W  1.45 -0.48  0.68   126.37\n",
       "931    HZww2  0.76  0.37  1.86    30.68\n",
       "7530   HZww2  1.06 -0.37 10.43   158.83\n",
       "63593  QcMuo  0.64 -0.47  0.86    64.58\n",
       "1949   QcMuo  0.51 -0.32 -2.22    75.50\n",
       "75715  Tdehs  0.11  0.43  3.22    60.96\n",
       "21426  Tdehs  0.83  0.30 -0.05    96.04\n",
       "92341  TtcGQ  0.11  1.02  0.91   101.32\n",
       "60140  TtcGQ  0.57 -0.10  6.44    85.35\n",
       "89582  bsk9y  0.40 -0.40 10.12   163.43\n",
       "97785  bsk9y  0.38  0.01  0.16   160.64\n",
       "41724  bxg6G -0.82  0.55  3.63    93.01\n",
       "1364   bxg6G  0.41  0.86 -3.65    73.60\n",
       "16633  fiKDv  0.16  1.03  5.59    95.82\n",
       "90815  fiKDv  0.05  0.84  6.39   137.35"
      ]
     },
     "metadata": {},
     "output_type": "display_data"
    },
    {
     "name": "stdout",
     "output_type": "stream",
     "text": [
      "---------------------------------------\n",
      "region_2 : Количество дубликатов 4\n"
     ]
    },
    {
     "data": {
      "text/html": [
       "<div>\n",
       "<style scoped>\n",
       "    .dataframe tbody tr th:only-of-type {\n",
       "        vertical-align: middle;\n",
       "    }\n",
       "\n",
       "    .dataframe tbody tr th {\n",
       "        vertical-align: top;\n",
       "    }\n",
       "\n",
       "    .dataframe thead th {\n",
       "        text-align: right;\n",
       "    }\n",
       "</style>\n",
       "<table border=\"1\" class=\"dataframe\">\n",
       "  <thead>\n",
       "    <tr style=\"text-align: right;\">\n",
       "      <th></th>\n",
       "      <th>id</th>\n",
       "      <th>f0</th>\n",
       "      <th>f1</th>\n",
       "      <th>f2</th>\n",
       "      <th>product</th>\n",
       "    </tr>\n",
       "  </thead>\n",
       "  <tbody>\n",
       "    <tr>\n",
       "      <th>5849</th>\n",
       "      <td>5ltQ6</td>\n",
       "      <td>-3.44</td>\n",
       "      <td>-12.30</td>\n",
       "      <td>2.00</td>\n",
       "      <td>57.09</td>\n",
       "    </tr>\n",
       "    <tr>\n",
       "      <th>84461</th>\n",
       "      <td>5ltQ6</td>\n",
       "      <td>18.21</td>\n",
       "      <td>2.19</td>\n",
       "      <td>3.99</td>\n",
       "      <td>107.81</td>\n",
       "    </tr>\n",
       "    <tr>\n",
       "      <th>1305</th>\n",
       "      <td>LHZR0</td>\n",
       "      <td>11.17</td>\n",
       "      <td>-1.95</td>\n",
       "      <td>3.00</td>\n",
       "      <td>80.86</td>\n",
       "    </tr>\n",
       "    <tr>\n",
       "      <th>41906</th>\n",
       "      <td>LHZR0</td>\n",
       "      <td>-8.99</td>\n",
       "      <td>-4.29</td>\n",
       "      <td>2.01</td>\n",
       "      <td>57.09</td>\n",
       "    </tr>\n",
       "    <tr>\n",
       "      <th>2721</th>\n",
       "      <td>bfPNe</td>\n",
       "      <td>-9.49</td>\n",
       "      <td>-5.46</td>\n",
       "      <td>4.01</td>\n",
       "      <td>110.99</td>\n",
       "    </tr>\n",
       "    <tr>\n",
       "      <th>82178</th>\n",
       "      <td>bfPNe</td>\n",
       "      <td>-6.20</td>\n",
       "      <td>-4.82</td>\n",
       "      <td>3.00</td>\n",
       "      <td>84.04</td>\n",
       "    </tr>\n",
       "    <tr>\n",
       "      <th>47591</th>\n",
       "      <td>wt4Uk</td>\n",
       "      <td>-9.09</td>\n",
       "      <td>-8.11</td>\n",
       "      <td>-0.00</td>\n",
       "      <td>3.18</td>\n",
       "    </tr>\n",
       "    <tr>\n",
       "      <th>82873</th>\n",
       "      <td>wt4Uk</td>\n",
       "      <td>10.26</td>\n",
       "      <td>-9.38</td>\n",
       "      <td>4.99</td>\n",
       "      <td>134.77</td>\n",
       "    </tr>\n",
       "  </tbody>\n",
       "</table>\n",
       "</div>"
      ],
      "text/plain": [
       "          id    f0     f1    f2  product\n",
       "5849   5ltQ6 -3.44 -12.30  2.00    57.09\n",
       "84461  5ltQ6 18.21   2.19  3.99   107.81\n",
       "1305   LHZR0 11.17  -1.95  3.00    80.86\n",
       "41906  LHZR0 -8.99  -4.29  2.01    57.09\n",
       "2721   bfPNe -9.49  -5.46  4.01   110.99\n",
       "82178  bfPNe -6.20  -4.82  3.00    84.04\n",
       "47591  wt4Uk -9.09  -8.11 -0.00     3.18\n",
       "82873  wt4Uk 10.26  -9.38  4.99   134.77"
      ]
     },
     "metadata": {},
     "output_type": "display_data"
    },
    {
     "name": "stdout",
     "output_type": "stream",
     "text": [
      "---------------------------------------\n",
      "region_3 : Количество дубликатов 4\n"
     ]
    },
    {
     "data": {
      "text/html": [
       "<div>\n",
       "<style scoped>\n",
       "    .dataframe tbody tr th:only-of-type {\n",
       "        vertical-align: middle;\n",
       "    }\n",
       "\n",
       "    .dataframe tbody tr th {\n",
       "        vertical-align: top;\n",
       "    }\n",
       "\n",
       "    .dataframe thead th {\n",
       "        text-align: right;\n",
       "    }\n",
       "</style>\n",
       "<table border=\"1\" class=\"dataframe\">\n",
       "  <thead>\n",
       "    <tr style=\"text-align: right;\">\n",
       "      <th></th>\n",
       "      <th>id</th>\n",
       "      <th>f0</th>\n",
       "      <th>f1</th>\n",
       "      <th>f2</th>\n",
       "      <th>product</th>\n",
       "    </tr>\n",
       "  </thead>\n",
       "  <tbody>\n",
       "    <tr>\n",
       "      <th>45404</th>\n",
       "      <td>KUPhW</td>\n",
       "      <td>0.23</td>\n",
       "      <td>-1.70</td>\n",
       "      <td>4.99</td>\n",
       "      <td>11.72</td>\n",
       "    </tr>\n",
       "    <tr>\n",
       "      <th>55967</th>\n",
       "      <td>KUPhW</td>\n",
       "      <td>1.21</td>\n",
       "      <td>3.18</td>\n",
       "      <td>5.54</td>\n",
       "      <td>132.83</td>\n",
       "    </tr>\n",
       "    <tr>\n",
       "      <th>11449</th>\n",
       "      <td>VF7Jo</td>\n",
       "      <td>2.12</td>\n",
       "      <td>-0.86</td>\n",
       "      <td>5.75</td>\n",
       "      <td>181.72</td>\n",
       "    </tr>\n",
       "    <tr>\n",
       "      <th>49564</th>\n",
       "      <td>VF7Jo</td>\n",
       "      <td>-0.88</td>\n",
       "      <td>0.56</td>\n",
       "      <td>0.72</td>\n",
       "      <td>136.23</td>\n",
       "    </tr>\n",
       "    <tr>\n",
       "      <th>44378</th>\n",
       "      <td>Vcm5J</td>\n",
       "      <td>-1.23</td>\n",
       "      <td>-2.44</td>\n",
       "      <td>1.22</td>\n",
       "      <td>137.97</td>\n",
       "    </tr>\n",
       "    <tr>\n",
       "      <th>95090</th>\n",
       "      <td>Vcm5J</td>\n",
       "      <td>2.59</td>\n",
       "      <td>1.99</td>\n",
       "      <td>2.48</td>\n",
       "      <td>92.33</td>\n",
       "    </tr>\n",
       "    <tr>\n",
       "      <th>28039</th>\n",
       "      <td>xCHr8</td>\n",
       "      <td>1.63</td>\n",
       "      <td>0.37</td>\n",
       "      <td>-2.38</td>\n",
       "      <td>6.12</td>\n",
       "    </tr>\n",
       "    <tr>\n",
       "      <th>43233</th>\n",
       "      <td>xCHr8</td>\n",
       "      <td>-0.85</td>\n",
       "      <td>2.10</td>\n",
       "      <td>5.60</td>\n",
       "      <td>184.39</td>\n",
       "    </tr>\n",
       "  </tbody>\n",
       "</table>\n",
       "</div>"
      ],
      "text/plain": [
       "          id    f0    f1    f2  product\n",
       "45404  KUPhW  0.23 -1.70  4.99    11.72\n",
       "55967  KUPhW  1.21  3.18  5.54   132.83\n",
       "11449  VF7Jo  2.12 -0.86  5.75   181.72\n",
       "49564  VF7Jo -0.88  0.56  0.72   136.23\n",
       "44378  Vcm5J -1.23 -2.44  1.22   137.97\n",
       "95090  Vcm5J  2.59  1.99  2.48    92.33\n",
       "28039  xCHr8  1.63  0.37 -2.38     6.12\n",
       "43233  xCHr8 -0.85  2.10  5.60   184.39"
      ]
     },
     "metadata": {},
     "output_type": "display_data"
    },
    {
     "name": "stdout",
     "output_type": "stream",
     "text": [
      "---------------------------------------\n"
     ]
    }
   ],
   "source": [
    "# Посмотрим наличие дубликатов по каждому датафрейму\n",
    "for name,i in group_df.items():\n",
    "    print(name,': Количество дубликатов', i['id'].duplicated().sum())\n",
    "    display(i[i.id.duplicated(keep=False)].sort_values(by='id'))\n",
    "    print('---------------------------------------')"
   ]
  },
  {
   "cell_type": "code",
   "execution_count": 8,
   "metadata": {},
   "outputs": [
    {
     "data": {
      "text/plain": [
       "((99990, 5), (99996, 5), (99996, 5))"
      ]
     },
     "execution_count": 8,
     "metadata": {},
     "output_type": "execute_result"
    }
   ],
   "source": [
    "# Удалим дубликаты, в которых запас больше\n",
    "df_1.drop(labels=[64022, 3389, 42529, 7530, 1949, 21426, 92341, 89582, 41724, 90815],\n",
    "                axis=0,\n",
    "                inplace=True)\n",
    "\n",
    "df_2.drop(labels=[84461, 1305, 2721, 82873],\n",
    "                axis=0,\n",
    "                inplace=True)\n",
    "\n",
    "df_3.drop(labels=[55967, 11449, 44378, 43233],\n",
    "                axis=0,\n",
    "                inplace=True)\n",
    "\n",
    "#Проверим, что дубликаты удалились\n",
    "df_1.shape, df_2.shape, df_3.shape"
   ]
  },
  {
   "cell_type": "code",
   "execution_count": 9,
   "metadata": {},
   "outputs": [
    {
     "name": "stdout",
     "output_type": "stream",
     "text": [
      "\u001b[1mregion_1\u001b[0m\n"
     ]
    },
    {
     "data": {
      "image/png": "[encoded data removed]",
      "text/plain": [
       "<Figure size 432x288 with 4 Axes>"
      ]
     },
     "metadata": {
      "needs_background": "light"
     },
     "output_type": "display_data"
    }
   ],
   "source": [
    "# Посмотрим как распределены данные в датафреймах\n",
    "print(colored('region_1', attrs=['bold']))\n",
    "df_1.hist();"
   ]
  },
  {
   "cell_type": "code",
   "execution_count": 10,
   "metadata": {},
   "outputs": [
    {
     "name": "stdout",
     "output_type": "stream",
     "text": [
      "\u001b[1mregion_2\u001b[0m\n"
     ]
    },
    {
     "data": {
      "image/png": "[encoded data removed]",
      "text/plain": [
       "<Figure size 432x288 with 4 Axes>"
      ]
     },
     "metadata": {
      "needs_background": "light"
     },
     "output_type": "display_data"
    }
   ],
   "source": [
    "print(colored('region_2', attrs=['bold']))\n",
    "df_2.hist();"
   ]
  },
  {
   "cell_type": "code",
   "execution_count": 11,
   "metadata": {},
   "outputs": [
    {
     "name": "stdout",
     "output_type": "stream",
     "text": [
      "\u001b[1mregion_3\u001b[0m\n"
     ]
    },
    {
     "data": {
      "image/png": "[encoded data removed]",
      "text/plain": [
       "<Figure size 432x288 with 4 Axes>"
      ]
     },
     "metadata": {
      "needs_background": "light"
     },
     "output_type": "display_data"
    }
   ],
   "source": [
    "print(colored('region_3', attrs=['bold']))\n",
    "df_3.hist();"
   ]
  },
  {
   "cell_type": "code",
   "execution_count": 12,
   "metadata": {},
   "outputs": [],
   "source": [
    "# Удалим лишний признак из всех датафреймов, а именно столбец с id скважины\n",
    "for name,i in group_df.items():\n",
    "    i = i.drop(columns=['id'], axis=1, inplace=True)  "
   ]
  },
  {
   "cell_type": "code",
   "execution_count": 13,
   "metadata": {},
   "outputs": [
    {
     "data": {
      "text/plain": [
       "'region_1'"
      ]
     },
     "metadata": {},
     "output_type": "display_data"
    },
    {
     "data": {
      "text/html": [
       "<div>\n",
       "<style scoped>\n",
       "    .dataframe tbody tr th:only-of-type {\n",
       "        vertical-align: middle;\n",
       "    }\n",
       "\n",
       "    .dataframe tbody tr th {\n",
       "        vertical-align: top;\n",
       "    }\n",
       "\n",
       "    .dataframe thead th {\n",
       "        text-align: right;\n",
       "    }\n",
       "</style>\n",
       "<table border=\"1\" class=\"dataframe\">\n",
       "  <thead>\n",
       "    <tr style=\"text-align: right;\">\n",
       "      <th></th>\n",
       "      <th>f0</th>\n",
       "      <th>f1</th>\n",
       "      <th>f2</th>\n",
       "      <th>product</th>\n",
       "    </tr>\n",
       "  </thead>\n",
       "  <tbody>\n",
       "    <tr>\n",
       "      <th>0</th>\n",
       "      <td>0.71</td>\n",
       "      <td>-0.50</td>\n",
       "      <td>1.22</td>\n",
       "      <td>105.28</td>\n",
       "    </tr>\n",
       "    <tr>\n",
       "      <th>1</th>\n",
       "      <td>1.33</td>\n",
       "      <td>-0.34</td>\n",
       "      <td>4.37</td>\n",
       "      <td>73.04</td>\n",
       "    </tr>\n",
       "    <tr>\n",
       "      <th>2</th>\n",
       "      <td>1.02</td>\n",
       "      <td>0.15</td>\n",
       "      <td>1.42</td>\n",
       "      <td>85.27</td>\n",
       "    </tr>\n",
       "    <tr>\n",
       "      <th>3</th>\n",
       "      <td>-0.03</td>\n",
       "      <td>0.14</td>\n",
       "      <td>2.98</td>\n",
       "      <td>168.62</td>\n",
       "    </tr>\n",
       "    <tr>\n",
       "      <th>4</th>\n",
       "      <td>1.99</td>\n",
       "      <td>0.16</td>\n",
       "      <td>4.75</td>\n",
       "      <td>154.04</td>\n",
       "    </tr>\n",
       "  </tbody>\n",
       "</table>\n",
       "</div>"
      ],
      "text/plain": [
       "     f0    f1   f2  product\n",
       "0  0.71 -0.50 1.22   105.28\n",
       "1  1.33 -0.34 4.37    73.04\n",
       "2  1.02  0.15 1.42    85.27\n",
       "3 -0.03  0.14 2.98   168.62\n",
       "4  1.99  0.16 4.75   154.04"
      ]
     },
     "metadata": {},
     "output_type": "display_data"
    },
    {
     "name": "stdout",
     "output_type": "stream",
     "text": [
      "------------------------\n"
     ]
    },
    {
     "data": {
      "text/plain": [
       "'region_2'"
      ]
     },
     "metadata": {},
     "output_type": "display_data"
    },
    {
     "data": {
      "text/html": [
       "<div>\n",
       "<style scoped>\n",
       "    .dataframe tbody tr th:only-of-type {\n",
       "        vertical-align: middle;\n",
       "    }\n",
       "\n",
       "    .dataframe tbody tr th {\n",
       "        vertical-align: top;\n",
       "    }\n",
       "\n",
       "    .dataframe thead th {\n",
       "        text-align: right;\n",
       "    }\n",
       "</style>\n",
       "<table border=\"1\" class=\"dataframe\">\n",
       "  <thead>\n",
       "    <tr style=\"text-align: right;\">\n",
       "      <th></th>\n",
       "      <th>f0</th>\n",
       "      <th>f1</th>\n",
       "      <th>f2</th>\n",
       "      <th>product</th>\n",
       "    </tr>\n",
       "  </thead>\n",
       "  <tbody>\n",
       "    <tr>\n",
       "      <th>0</th>\n",
       "      <td>-15.00</td>\n",
       "      <td>-8.28</td>\n",
       "      <td>-0.01</td>\n",
       "      <td>3.18</td>\n",
       "    </tr>\n",
       "    <tr>\n",
       "      <th>1</th>\n",
       "      <td>14.27</td>\n",
       "      <td>-3.48</td>\n",
       "      <td>1.00</td>\n",
       "      <td>26.95</td>\n",
       "    </tr>\n",
       "    <tr>\n",
       "      <th>2</th>\n",
       "      <td>6.26</td>\n",
       "      <td>-5.95</td>\n",
       "      <td>5.00</td>\n",
       "      <td>134.77</td>\n",
       "    </tr>\n",
       "    <tr>\n",
       "      <th>3</th>\n",
       "      <td>-13.08</td>\n",
       "      <td>-11.51</td>\n",
       "      <td>5.00</td>\n",
       "      <td>137.95</td>\n",
       "    </tr>\n",
       "    <tr>\n",
       "      <th>4</th>\n",
       "      <td>12.70</td>\n",
       "      <td>-8.15</td>\n",
       "      <td>5.00</td>\n",
       "      <td>134.77</td>\n",
       "    </tr>\n",
       "  </tbody>\n",
       "</table>\n",
       "</div>"
      ],
      "text/plain": [
       "      f0     f1    f2  product\n",
       "0 -15.00  -8.28 -0.01     3.18\n",
       "1  14.27  -3.48  1.00    26.95\n",
       "2   6.26  -5.95  5.00   134.77\n",
       "3 -13.08 -11.51  5.00   137.95\n",
       "4  12.70  -8.15  5.00   134.77"
      ]
     },
     "metadata": {},
     "output_type": "display_data"
    },
    {
     "name": "stdout",
     "output_type": "stream",
     "text": [
      "------------------------\n"
     ]
    },
    {
     "data": {
      "text/plain": [
       "'region_3'"
      ]
     },
     "metadata": {},
     "output_type": "display_data"
    },
    {
     "data": {
      "text/html": [
       "<div>\n",
       "<style scoped>\n",
       "    .dataframe tbody tr th:only-of-type {\n",
       "        vertical-align: middle;\n",
       "    }\n",
       "\n",
       "    .dataframe tbody tr th {\n",
       "        vertical-align: top;\n",
       "    }\n",
       "\n",
       "    .dataframe thead th {\n",
       "        text-align: right;\n",
       "    }\n",
       "</style>\n",
       "<table border=\"1\" class=\"dataframe\">\n",
       "  <thead>\n",
       "    <tr style=\"text-align: right;\">\n",
       "      <th></th>\n",
       "      <th>f0</th>\n",
       "      <th>f1</th>\n",
       "      <th>f2</th>\n",
       "      <th>product</th>\n",
       "    </tr>\n",
       "  </thead>\n",
       "  <tbody>\n",
       "    <tr>\n",
       "      <th>0</th>\n",
       "      <td>-1.15</td>\n",
       "      <td>0.96</td>\n",
       "      <td>-0.83</td>\n",
       "      <td>27.76</td>\n",
       "    </tr>\n",
       "    <tr>\n",
       "      <th>1</th>\n",
       "      <td>0.26</td>\n",
       "      <td>0.27</td>\n",
       "      <td>-2.53</td>\n",
       "      <td>56.07</td>\n",
       "    </tr>\n",
       "    <tr>\n",
       "      <th>2</th>\n",
       "      <td>0.19</td>\n",
       "      <td>0.29</td>\n",
       "      <td>-5.59</td>\n",
       "      <td>62.87</td>\n",
       "    </tr>\n",
       "    <tr>\n",
       "      <th>3</th>\n",
       "      <td>2.24</td>\n",
       "      <td>-0.55</td>\n",
       "      <td>0.93</td>\n",
       "      <td>114.57</td>\n",
       "    </tr>\n",
       "    <tr>\n",
       "      <th>4</th>\n",
       "      <td>-0.52</td>\n",
       "      <td>1.72</td>\n",
       "      <td>5.90</td>\n",
       "      <td>149.60</td>\n",
       "    </tr>\n",
       "  </tbody>\n",
       "</table>\n",
       "</div>"
      ],
      "text/plain": [
       "     f0    f1    f2  product\n",
       "0 -1.15  0.96 -0.83    27.76\n",
       "1  0.26  0.27 -2.53    56.07\n",
       "2  0.19  0.29 -5.59    62.87\n",
       "3  2.24 -0.55  0.93   114.57\n",
       "4 -0.52  1.72  5.90   149.60"
      ]
     },
     "metadata": {},
     "output_type": "display_data"
    },
    {
     "name": "stdout",
     "output_type": "stream",
     "text": [
      "------------------------\n"
     ]
    }
   ],
   "source": [
    "# Проверим, что признак удалился во всех датафреймах\n",
    "for name,i in group_df.items():\n",
    "    display(name, i.head())\n",
    "    print('------------------------')"
   ]
  },
  {
   "cell_type": "code",
   "execution_count": 14,
   "metadata": {},
   "outputs": [
    {
     "name": "stdout",
     "output_type": "stream",
     "text": [
      "\u001b[1mregion_1\u001b[0m\n"
     ]
    },
    {
     "data": {
      "image/png": "[encoded data removed]",
      "text/plain": [
       "<Figure size 432x288 with 2 Axes>"
      ]
     },
     "metadata": {
      "needs_background": "light"
     },
     "output_type": "display_data"
    }
   ],
   "source": [
    "# Построим карту корреляции по каждому датафрейму\n",
    "df_1_corr = df_1.corr(method=\"pearson\")\n",
    "sns.heatmap(df_1_corr, annot=True,annot_kws={\"size\":12},cmap=\"coolwarm\");\n",
    "print(colored('region_1', attrs=['bold']))"
   ]
  },
  {
   "cell_type": "code",
   "execution_count": 15,
   "metadata": {},
   "outputs": [
    {
     "name": "stdout",
     "output_type": "stream",
     "text": [
      "\u001b[1mregion_2\u001b[0m\n"
     ]
    },
    {
     "data": {
      "image/png": "[encoded data removed]",
      "text/plain": [
       "<Figure size 432x288 with 2 Axes>"
      ]
     },
     "metadata": {
      "needs_background": "light"
     },
     "output_type": "display_data"
    }
   ],
   "source": [
    "df_2_corr = df_2.corr(method=\"pearson\")\n",
    "sns.heatmap(df_2_corr, annot=True,annot_kws={\"size\":12},cmap=\"coolwarm\");\n",
    "print(colored('region_2', attrs=['bold']))"
   ]
  },
  {
   "cell_type": "code",
   "execution_count": 16,
   "metadata": {},
   "outputs": [
    {
     "name": "stdout",
     "output_type": "stream",
     "text": [
      "\u001b[1mregion_3\u001b[0m\n"
     ]
    },
    {
     "data": {
      "image/png": "[encoded data removed]",
      "text/plain": [
       "<Figure size 432x288 with 2 Axes>"
      ]
     },
     "metadata": {
      "needs_background": "light"
     },
     "output_type": "display_data"
    }
   ],
   "source": [
    "df_3_corr = df_3.corr(method=\"pearson\")\n",
    "sns.heatmap(df_3_corr, annot=True,annot_kws={\"size\":12},cmap=\"coolwarm\");\n",
    "print(colored('region_3', attrs=['bold']))"
   ]
  },
  {
   "cell_type": "markdown",
   "metadata": {},
   "source": [
    "### Вывод: \n",
    "- В исходных данных содержится информация о трех регионах по 100 000 месторождений в каждом.\n",
    "- Данные не содержат пропусков\n",
    "- Обнаружено и удалено несколько дубликатов скважин с одинаковым ID.\n",
    "- Признаки **f0, f1** вне зависимости от региона имеют характер распределения близкий к нормальному. Признак **f2** в первом и третьем регионе имеет распределние, близкое к нормальному, а во втором регионе распределние не соответствует нормальному.\n",
    "- Пизнак **f2** имеет наиболее высокую корреляцию с объемом запасов в скважине, особенно во втором регионе. Это говорит о том, что при обучении модели этот признак будет самым значимым\n",
    "- Признаки **f0, f1** имеют больше выбросов значений во втором регионе, в то время как признак **f2** наоборот, во втором регионе имеет самый маленький разброс значений.\n",
    "- Объем запасов в скважинах в первом и третьем регионе имеет нормальное распределние, во втором регионе - запас в скважинах в основной массе находится на одном уровне. Средние значения запаса во втором регионе ниже, чем в двух других.\n",
    "- Для дальнейшего построения модели мы удалили лишний признак с ID скважины.\n",
    "- Признаки **f1, f2 и f3** не имеют большого разброса значений, поэтому масштабировать их не будем"
   ]
  },
  {
   "cell_type": "markdown",
   "metadata": {},
   "source": [
    "## Обучение и проверка модели"
   ]
  },
  {
   "cell_type": "code",
   "execution_count": 17,
   "metadata": {},
   "outputs": [],
   "source": [
    "# Создадим функцию для обучения модели и расчета показателей RMSE и среднего запаса сырья\n",
    "\n",
    "def model(data):\n",
    "    \n",
    "    features = data.drop(['product'], axis=1) # Выделяем признаки\n",
    "    target = data['product'] # Определяем целевой признак\n",
    "    \n",
    "    # Разбиваем на обучающую и валидационную выборки в соотношении 3:1\n",
    "    features_train, features_valid, target_train, target_valid = train_test_split(\n",
    "        features, target, test_size=0.25, random_state=12345)\n",
    "    \n",
    "    # Обучим модель линейной регрессии\n",
    "    model = LinearRegression().fit(features_train, target_train)\n",
    "    \n",
    "    # Сделаем предсказания и преобразуем в Series\n",
    "    predictions_valid = model.predict(features_valid)\n",
    "    predictions_valid = pd.Series(predictions_valid)\n",
    "    \n",
    "    # Сбросим индексы у target\n",
    "    target_valid = target_valid.reset_index(drop=True)\n",
    "    \n",
    "    # Расчитаем RMSE модели\n",
    "    rmse = mean_squared_error(target_valid, predictions_valid) ** 0.5\n",
    "    \n",
    "    # Расчитаем средний предсказанный запас сырья\n",
    "    pred_target_mean = predictions_valid.sum()/len(predictions_valid)\n",
    "    \n",
    "    return target_valid, predictions_valid, rmse, pred_target_mean"
   ]
  },
  {
   "cell_type": "code",
   "execution_count": 18,
   "metadata": {},
   "outputs": [],
   "source": [
    "# Сохраним показатели, которые нам понадобятся в расчетах\n",
    "target_valid_1, predictions_valid_1, rmse_1, pred_target_mean_1 = model(df_1)\n",
    "target_valid_2, predictions_valid_2, rmse_2, pred_target_mean_2 = model(df_2)\n",
    "target_valid_3, predictions_valid_3, rmse_3, pred_target_mean_3 = model(df_3)"
   ]
  },
  {
   "cell_type": "code",
   "execution_count": 19,
   "metadata": {},
   "outputs": [
    {
     "name": "stdout",
     "output_type": "stream",
     "text": [
      "Регион_1. RMSE: 37.59 Средний предсказанный запас сырья: 92.61\n",
      "Регион_2. RMSE: 0.89 Средний предсказанный запас сырья: 69.0\n",
      "Регион_3. RMSE: 40.27 Средний предсказанный запас сырья: 94.95\n"
     ]
    }
   ],
   "source": [
    "# Выведем на экран средний предсказанный запас сырья и RMSE для регионов\n",
    "print('Регион_1.', 'RMSE:', rmse_1.round(2), 'Средний предсказанный запас сырья:', pred_target_mean_1.round(2))\n",
    "print('Регион_2.', 'RMSE:', rmse_2.round(2), 'Средний предсказанный запас сырья:', pred_target_mean_2.round(2))\n",
    "print('Регион_3.', 'RMSE:', rmse_3.round(2), 'Средний предсказанный запас сырья:', pred_target_mean_3.round(2))"
   ]
  },
  {
   "cell_type": "markdown",
   "metadata": {},
   "source": [
    "### Вывод:\n",
    "- Самый низкий показатель RMSE получился у модели второго региона. Очевидно, это  связано с сильной корреляцией одного из признаков с целевым. У первой и третьей модели RMSE значительно выше, так как и корреляция признака **f2** в них тоже гораздо ниже. Поскольку данные у нас синтетические, разобраться в причинах такой связи нет возможности.\n",
    "- Самый низкий предсказанный запас сырья у второй модели, а у первой и третьей - выше, что соответствует средним данным по регионам.\n",
    "- Также на данном этапе мы подготовили и сохранили часть данных для дальнейших расчетов."
   ]
  },
  {
   "cell_type": "markdown",
   "metadata": {},
   "source": [
    "## Подготовка к расчёту прибыли"
   ]
  },
  {
   "cell_type": "code",
   "execution_count": 20,
   "metadata": {},
   "outputs": [],
   "source": [
    "# Сохраняем ключевые значения в отдельных переменных\n",
    "TOTAL_OIL_WELL = 500 # количество скважин для исследования\n",
    "OIL_WELL = 200 # количество скважин для разработки\n",
    "BUDGET = 10_000_000_000 # бюджет на разработку\n",
    "INCOM = 450000 # доход на 1 тыс.баррелей"
   ]
  },
  {
   "cell_type": "code",
   "execution_count": 21,
   "metadata": {},
   "outputs": [
    {
     "name": "stdout",
     "output_type": "stream",
     "text": [
      "Достаточный запас сырья для безубыточной разработки скважины: 111.11111111111111 тыс.бар\n"
     ]
    }
   ],
   "source": [
    "# Рассчитаем достаточный запас сырья для безубыточной разработки скважины\n",
    "sufficient_supply = BUDGET / OIL_WELL / INCOM\n",
    "print('Достаточный запас сырья для безубыточной разработки скважины:',\n",
    "      sufficient_supply, 'тыс.бар' )"
   ]
  },
  {
   "cell_type": "code",
   "execution_count": 22,
   "metadata": {},
   "outputs": [
    {
     "name": "stdout",
     "output_type": "stream",
     "text": [
      "Средний запас сырья в region_1 меньше достаточного на -18.61367994135695\n",
      "Средний запас сырья в region_2 меньше достаточного на -42.28770248755704\n",
      "Средний запас сырья в region_3 меньше достаточного на -16.113680269386833\n"
     ]
    }
   ],
   "source": [
    "# Сравним средний запас сырья по регионам с достаточным\n",
    "for name, i in group_df.items():\n",
    "    res = i['product'].mean() - sufficient_supply\n",
    "    if res < 0:\n",
    "        print('Средний запас сырья в', name, 'меньше достаточного на', res)\n",
    "    else:\n",
    "        print('Средний запас сырья в', name, 'больше достаточного на', res)\n",
    "            "
   ]
  },
  {
   "cell_type": "markdown",
   "metadata": {},
   "source": [
    "### Вывод:\n",
    "На данном этапе сделано следующее:\n",
    "- Ключевым значениям присвоены отдельные переменные\n",
    "- Рассчитан достаточный запас сырья на скважину для безубыточной работы. Его значение равно 111.11 тыс.баррелей\n",
    "- Проверены и сравнены средние запасы сырья по каждому региону с достаточным запасом для безубыточной работы. В результате, все три региона имеют средний показатель запаса ниже достаточного уровня безубыточности\n"
   ]
  },
  {
   "cell_type": "markdown",
   "metadata": {},
   "source": [
    "## Расчёт прибыли и рисков "
   ]
  },
  {
   "cell_type": "code",
   "execution_count": 23,
   "metadata": {},
   "outputs": [],
   "source": [
    "# Создаем функцию для расчёта прибыли по выбранным скважинам и предсказаниям модели\n",
    "def revenue(target, probabilities, count):\n",
    "    probs_sorted = probabilities.sort_values(ascending=False)\n",
    "    selected = target[probs_sorted.index][:count] \n",
    "    return INCOM * selected.sum() - BUDGET"
   ]
  },
  {
   "cell_type": "code",
   "execution_count": 24,
   "metadata": {
    "scrolled": true
   },
   "outputs": [],
   "source": [
    "# Посчитаем прибыль и риски для каждого региона\n",
    "def result(target_valid, predictions_valid):\n",
    "    state = np.random.RandomState(12345)\n",
    "    values = []\n",
    "    for i in range(1000):\n",
    "        target_subsample = target_valid.sample(n=TOTAL_OIL_WELL, replace=True, random_state=state)\n",
    "        probs_subsample = predictions_valid[target_subsample.index] \n",
    "        res = revenue(target_subsample, probs_subsample, OIL_WELL)\n",
    "        values.append(res/1000000)\n",
    "\n",
    "    values = pd.Series(values)\n",
    "    # Нижняя граница доверительного интервала\n",
    "    lower = values.quantile(0.025) \n",
    "    # Верхняя граница доверительного интервала\n",
    "    upper = values.quantile(0.975) \n",
    "    # Средняя прибыль\n",
    "    mean = values.mean() \n",
    "    # Риск убытков\n",
    "    risk = (values < 0).sum().sum() / 10 \n",
    "            \n",
    "    print('Средняя прибыль:', mean.round(2), 'млн.руб')\n",
    "    print('95-й доверительный интервал:', '(', lower, ',', upper, ')')\n",
    "    print('Риск убытков:', risk, '%')"
   ]
  },
  {
   "cell_type": "code",
   "execution_count": 25,
   "metadata": {},
   "outputs": [
    {
     "name": "stdout",
     "output_type": "stream",
     "text": [
      "-Регион 1-\n",
      "Средняя прибыль: 425.49 млн.руб\n",
      "95-й доверительный интервал: ( -88.63790506060987 , 966.9568525786822 )\n",
      "Риск убытков: 5.3 %\n",
      "\n",
      "-Регион 2-\n",
      "Средняя прибыль: 514.55 млн.руб\n",
      "95-й доверительный интервал: ( 66.04779794967651 , 934.3496937404443 )\n",
      "Риск убытков: 0.7 %\n",
      "\n",
      "-Регион 3-\n",
      "Средняя прибыль: 343.23 млн.руб\n",
      "95-й доверительный интервал: ( -203.2291641869327 , 912.187392641192 )\n",
      "Риск убытков: 10.3 %\n"
     ]
    }
   ],
   "source": [
    "print('-Регион 1-')\n",
    "result(target_valid_1, predictions_valid_1)\n",
    "print()\n",
    "print('-Регион 2-')\n",
    "result(target_valid_2, predictions_valid_2)\n",
    "print()\n",
    "print('-Регион 3-')\n",
    "result(target_valid_3, predictions_valid_3)"
   ]
  },
  {
   "cell_type": "markdown",
   "metadata": {},
   "source": [
    "### Вывод:\n",
    "В результате расчетов, получены следующие данные:\n",
    "- Наибольшая величина средней прибыли во втором регионе, в нем же самый низкий процент риска убытков.\n",
    "- Самый рискованный - третий регион, помимо этого у него самое низкое значение средней прибыли\n",
    "- Самый узкий 95% доверительный интервал во втором регионе."
   ]
  },
  {
   "cell_type": "markdown",
   "metadata": {},
   "source": [
    "## Общий вывод:\n",
    "1. В ходе изучения и подготовки данных, предоставленных для проекта, было обнаружено следующее:\n",
    " - Данные не содержали пропуски\n",
    " - В каждом датасете было несколько дубликатов по номеру `id` скважины. Для получения более чистого результата они были удалены.\n",
    " - Признаки `f0`, `f1`и `f2`не имели большого разброса значений, поэтому в дальнейшем не были масштабированы\n",
    " - Выявлена корреляция признака `f2` с целевым признаком, особенно сильная во втором регионе. У двух других признаков `f0` и `f1` корреляции с целевым признаком не обнаружено\n",
    "2. При обучении и проверки модели получены следующие результаты:\n",
    " - Самый низкий показатель `RMSE - 0,89` получился у модели второго региона. Очевидно, это  связано с сильной корреляцией одного из признаков с целевым. У первой и третьей модели RMSE значительно выше. \n",
    " - Самый низкий средний предсказанный запас сырья -`69.0 тыс.бар.`, оказался у второй модели, а у третьей - самый высокий - `94,95 тыс.бар`. Во всех регионах средний предсказанный запас сырья оказался ниже достаточного запаса для безубыточной работы, который по расчетным данным составил `111,11 тыс.бар`.  \n",
    "3. Результаты расчета прибыли и возможных рисков следующие:\n",
    " - Наибольшая величина средней прибыли `514.55 млн.руб` во втором регионе, в нем же самый низкий процент риска убытков - `0.7 %`.\n",
    " - Самый рискованный - третий регион, помимо этого у него самое низкое значение средней прибыли\n",
    " - Самый узкий 95% доверительный интервал во втором регионе. \n",
    "\n",
    "**По итогам проекта, к дальнейшей разработке скважин предлагается `второй регион`, поскольку он имеет самый высокий показатель средней прибыли и самый низкий процент риска убытков.**"
   ]
  }
 ],
 "metadata": {
  "ExecuteTimeLog": [
   {
    "duration": 444,
    "start_time": "2023-07-28T11:00:57.689Z"
   },
   {
    "duration": 1838,
    "start_time": "2023-07-28T11:00:59.205Z"
   },
   {
    "duration": 161,
    "start_time": "2023-07-28T11:01:53.569Z"
   },
   {
    "duration": 284,
    "start_time": "2023-07-28T11:02:11.612Z"
   },
   {
    "duration": 447,
    "start_time": "2023-07-28T11:02:24.692Z"
   },
   {
    "duration": 417,
    "start_time": "2023-07-28T11:02:59.915Z"
   },
   {
    "duration": 395,
    "start_time": "2023-07-28T11:03:47.589Z"
   },
   {
    "duration": 401,
    "start_time": "2023-07-28T11:05:26.399Z"
   },
   {
    "duration": 20,
    "start_time": "2023-07-28T11:06:35.501Z"
   },
   {
    "duration": 11,
    "start_time": "2023-07-28T11:07:37.910Z"
   },
   {
    "duration": 14,
    "start_time": "2023-07-28T11:07:57.572Z"
   },
   {
    "duration": 9,
    "start_time": "2023-07-28T11:08:12.703Z"
   },
   {
    "duration": 16,
    "start_time": "2023-07-28T11:08:24.239Z"
   },
   {
    "duration": 2,
    "start_time": "2023-07-28T11:08:36.390Z"
   },
   {
    "duration": 426,
    "start_time": "2023-07-28T11:08:36.398Z"
   },
   {
    "duration": 32,
    "start_time": "2023-07-28T11:08:36.826Z"
   },
   {
    "duration": 13,
    "start_time": "2023-07-28T11:08:36.862Z"
   },
   {
    "duration": 27,
    "start_time": "2023-07-28T11:08:36.881Z"
   },
   {
    "duration": 8,
    "start_time": "2023-07-28T11:08:36.911Z"
   },
   {
    "duration": 17,
    "start_time": "2023-07-28T11:08:36.921Z"
   },
   {
    "duration": 3,
    "start_time": "2023-07-28T11:09:32.376Z"
   },
   {
    "duration": 482,
    "start_time": "2023-07-28T11:09:32.381Z"
   },
   {
    "duration": 13,
    "start_time": "2023-07-28T11:09:32.867Z"
   },
   {
    "duration": 43,
    "start_time": "2023-07-28T11:09:32.882Z"
   },
   {
    "duration": 13,
    "start_time": "2023-07-28T11:09:32.928Z"
   },
   {
    "duration": 36,
    "start_time": "2023-07-28T11:09:32.942Z"
   },
   {
    "duration": 18,
    "start_time": "2023-07-28T11:09:32.980Z"
   },
   {
    "duration": 27,
    "start_time": "2023-07-28T11:09:33.000Z"
   },
   {
    "duration": 40,
    "start_time": "2023-07-28T11:19:30.614Z"
   },
   {
    "duration": 1324,
    "start_time": "2023-07-28T11:37:29.361Z"
   },
   {
    "duration": 408,
    "start_time": "2023-07-28T11:39:30.495Z"
   },
   {
    "duration": 455,
    "start_time": "2023-07-28T11:39:52.926Z"
   },
   {
    "duration": 45,
    "start_time": "2023-07-28T11:40:53.804Z"
   },
   {
    "duration": 38,
    "start_time": "2023-07-28T11:41:14.723Z"
   },
   {
    "duration": 3,
    "start_time": "2023-07-28T11:41:36.402Z"
   },
   {
    "duration": 397,
    "start_time": "2023-07-28T11:41:36.413Z"
   },
   {
    "duration": 10,
    "start_time": "2023-07-28T11:41:36.812Z"
   },
   {
    "duration": 34,
    "start_time": "2023-07-28T11:41:36.824Z"
   },
   {
    "duration": 41,
    "start_time": "2023-07-28T11:41:36.860Z"
   },
   {
    "duration": 378,
    "start_time": "2023-07-28T11:41:36.904Z"
   },
   {
    "duration": 10,
    "start_time": "2023-07-28T11:41:37.284Z"
   },
   {
    "duration": 28,
    "start_time": "2023-07-28T11:41:37.295Z"
   },
   {
    "duration": 64,
    "start_time": "2023-07-28T11:41:37.325Z"
   },
   {
    "duration": 421,
    "start_time": "2023-07-28T11:41:37.391Z"
   },
   {
    "duration": 12,
    "start_time": "2023-07-28T11:41:37.814Z"
   },
   {
    "duration": 29,
    "start_time": "2023-07-28T11:41:37.828Z"
   },
   {
    "duration": 44,
    "start_time": "2023-07-28T11:41:37.860Z"
   },
   {
    "duration": 412,
    "start_time": "2023-07-28T11:41:37.906Z"
   },
   {
    "duration": 348,
    "start_time": "2023-07-28T12:04:39.027Z"
   },
   {
    "duration": 4,
    "start_time": "2023-07-28T12:05:10.930Z"
   },
   {
    "duration": 5,
    "start_time": "2023-07-28T12:05:34.780Z"
   },
   {
    "duration": 75,
    "start_time": "2023-07-28T12:05:53.972Z"
   },
   {
    "duration": 3,
    "start_time": "2023-07-28T12:06:27.195Z"
   },
   {
    "duration": 457,
    "start_time": "2023-07-28T12:06:27.200Z"
   },
   {
    "duration": 8,
    "start_time": "2023-07-28T12:06:27.659Z"
   },
   {
    "duration": 23,
    "start_time": "2023-07-28T12:06:27.669Z"
   },
   {
    "duration": 36,
    "start_time": "2023-07-28T12:06:27.694Z"
   },
   {
    "duration": 364,
    "start_time": "2023-07-28T12:06:27.732Z"
   },
   {
    "duration": 9,
    "start_time": "2023-07-28T12:06:28.097Z"
   },
   {
    "duration": 33,
    "start_time": "2023-07-28T12:06:28.108Z"
   },
   {
    "duration": 40,
    "start_time": "2023-07-28T12:06:28.143Z"
   },
   {
    "duration": 495,
    "start_time": "2023-07-28T12:06:28.186Z"
   },
   {
    "duration": 8,
    "start_time": "2023-07-28T12:06:28.683Z"
   },
   {
    "duration": 27,
    "start_time": "2023-07-28T12:06:28.693Z"
   },
   {
    "duration": 52,
    "start_time": "2023-07-28T12:06:28.722Z"
   },
   {
    "duration": 441,
    "start_time": "2023-07-28T12:06:28.776Z"
   },
   {
    "duration": 3,
    "start_time": "2023-07-28T12:06:29.219Z"
   },
   {
    "duration": 12,
    "start_time": "2023-07-28T12:06:29.224Z"
   },
   {
    "duration": 23,
    "start_time": "2023-07-28T12:06:29.239Z"
   },
   {
    "duration": 9,
    "start_time": "2023-07-28T12:06:45.171Z"
   },
   {
    "duration": 8,
    "start_time": "2023-07-28T12:17:02.841Z"
   },
   {
    "duration": 10,
    "start_time": "2023-07-28T12:20:16.138Z"
   },
   {
    "duration": 11,
    "start_time": "2023-07-28T12:25:57.912Z"
   },
   {
    "duration": 9,
    "start_time": "2023-07-28T12:26:10.262Z"
   },
   {
    "duration": 9,
    "start_time": "2023-07-28T12:36:11.772Z"
   },
   {
    "duration": 3,
    "start_time": "2023-07-28T12:36:36.093Z"
   },
   {
    "duration": 422,
    "start_time": "2023-07-28T12:36:36.098Z"
   },
   {
    "duration": 8,
    "start_time": "2023-07-28T12:36:36.522Z"
   },
   {
    "duration": 24,
    "start_time": "2023-07-28T12:36:36.532Z"
   },
   {
    "duration": 45,
    "start_time": "2023-07-28T12:36:36.560Z"
   },
   {
    "duration": 366,
    "start_time": "2023-07-28T12:36:36.607Z"
   },
   {
    "duration": 14,
    "start_time": "2023-07-28T12:36:36.975Z"
   },
   {
    "duration": 17,
    "start_time": "2023-07-28T12:36:36.990Z"
   },
   {
    "duration": 60,
    "start_time": "2023-07-28T12:36:37.009Z"
   },
   {
    "duration": 476,
    "start_time": "2023-07-28T12:36:37.072Z"
   },
   {
    "duration": 15,
    "start_time": "2023-07-28T12:36:37.550Z"
   },
   {
    "duration": 26,
    "start_time": "2023-07-28T12:36:37.567Z"
   },
   {
    "duration": 33,
    "start_time": "2023-07-28T12:36:37.595Z"
   },
   {
    "duration": 384,
    "start_time": "2023-07-28T12:36:37.631Z"
   },
   {
    "duration": 11,
    "start_time": "2023-07-28T12:36:38.017Z"
   },
   {
    "duration": 10,
    "start_time": "2023-07-28T12:36:38.029Z"
   },
   {
    "duration": 11,
    "start_time": "2023-07-28T12:37:24.473Z"
   },
   {
    "duration": 8,
    "start_time": "2023-07-28T12:37:40.273Z"
   },
   {
    "duration": 779,
    "start_time": "2023-07-28T13:14:54.617Z"
   },
   {
    "duration": 572,
    "start_time": "2023-07-28T13:14:55.400Z"
   },
   {
    "duration": 13,
    "start_time": "2023-07-28T13:14:55.977Z"
   },
   {
    "duration": 37,
    "start_time": "2023-07-28T13:14:55.992Z"
   },
   {
    "duration": 55,
    "start_time": "2023-07-28T13:14:56.032Z"
   },
   {
    "duration": 410,
    "start_time": "2023-07-28T13:14:56.092Z"
   },
   {
    "duration": 19,
    "start_time": "2023-07-28T13:14:56.504Z"
   },
   {
    "duration": 41,
    "start_time": "2023-07-28T13:14:56.525Z"
   },
   {
    "duration": 47,
    "start_time": "2023-07-28T13:14:56.574Z"
   },
   {
    "duration": 399,
    "start_time": "2023-07-28T13:14:56.622Z"
   },
   {
    "duration": 8,
    "start_time": "2023-07-28T13:14:57.024Z"
   },
   {
    "duration": 38,
    "start_time": "2023-07-28T13:14:57.034Z"
   },
   {
    "duration": 42,
    "start_time": "2023-07-28T13:14:57.073Z"
   },
   {
    "duration": 496,
    "start_time": "2023-07-28T13:14:57.117Z"
   },
   {
    "duration": 11,
    "start_time": "2023-07-28T13:14:57.614Z"
   },
   {
    "duration": 21,
    "start_time": "2023-07-28T13:14:57.627Z"
   },
   {
    "duration": 22,
    "start_time": "2023-07-28T13:14:57.657Z"
   },
   {
    "duration": 10,
    "start_time": "2023-07-28T13:14:57.686Z"
   },
   {
    "duration": 439,
    "start_time": "2023-07-28T13:14:57.699Z"
   },
   {
    "duration": 4,
    "start_time": "2023-07-28T13:16:44.006Z"
   },
   {
    "duration": 555,
    "start_time": "2023-07-28T13:16:44.012Z"
   },
   {
    "duration": 19,
    "start_time": "2023-07-28T13:16:44.569Z"
   },
   {
    "duration": 20,
    "start_time": "2023-07-28T13:16:44.591Z"
   },
   {
    "duration": 73,
    "start_time": "2023-07-28T13:16:44.614Z"
   },
   {
    "duration": 748,
    "start_time": "2023-07-28T13:16:44.689Z"
   },
   {
    "duration": 20,
    "start_time": "2023-07-28T13:16:45.439Z"
   },
   {
    "duration": 24,
    "start_time": "2023-07-28T13:16:45.462Z"
   },
   {
    "duration": 39,
    "start_time": "2023-07-28T13:16:45.490Z"
   },
   {
    "duration": 463,
    "start_time": "2023-07-28T13:16:45.531Z"
   },
   {
    "duration": 15,
    "start_time": "2023-07-28T13:16:45.996Z"
   },
   {
    "duration": 50,
    "start_time": "2023-07-28T13:16:46.014Z"
   },
   {
    "duration": 57,
    "start_time": "2023-07-28T13:16:46.066Z"
   },
   {
    "duration": 583,
    "start_time": "2023-07-28T13:16:46.125Z"
   },
   {
    "duration": 26,
    "start_time": "2023-07-28T13:16:46.710Z"
   },
   {
    "duration": 21,
    "start_time": "2023-07-28T13:16:46.738Z"
   },
   {
    "duration": 34,
    "start_time": "2023-07-28T13:16:46.763Z"
   },
   {
    "duration": 15,
    "start_time": "2023-07-28T13:16:46.799Z"
   },
   {
    "duration": 402,
    "start_time": "2023-07-28T13:16:46.816Z"
   },
   {
    "duration": 399,
    "start_time": "2023-07-28T13:16:47.221Z"
   },
   {
    "duration": 453,
    "start_time": "2023-07-28T13:16:47.622Z"
   },
   {
    "duration": 106,
    "start_time": "2023-07-28T13:21:06.222Z"
   },
   {
    "duration": 8,
    "start_time": "2023-07-28T13:21:17.210Z"
   },
   {
    "duration": 612,
    "start_time": "2023-07-28T13:21:17.225Z"
   },
   {
    "duration": 29,
    "start_time": "2023-07-28T13:21:17.840Z"
   },
   {
    "duration": 40,
    "start_time": "2023-07-28T13:21:17.872Z"
   },
   {
    "duration": 64,
    "start_time": "2023-07-28T13:21:17.922Z"
   },
   {
    "duration": 586,
    "start_time": "2023-07-28T13:21:17.989Z"
   },
   {
    "duration": 22,
    "start_time": "2023-07-28T13:21:18.577Z"
   },
   {
    "duration": 31,
    "start_time": "2023-07-28T13:21:18.603Z"
   },
   {
    "duration": 55,
    "start_time": "2023-07-28T13:21:18.639Z"
   },
   {
    "duration": 567,
    "start_time": "2023-07-28T13:21:18.697Z"
   },
   {
    "duration": 18,
    "start_time": "2023-07-28T13:21:19.273Z"
   },
   {
    "duration": 36,
    "start_time": "2023-07-28T13:21:19.294Z"
   },
   {
    "duration": 58,
    "start_time": "2023-07-28T13:21:19.337Z"
   },
   {
    "duration": 797,
    "start_time": "2023-07-28T13:21:19.398Z"
   },
   {
    "duration": 25,
    "start_time": "2023-07-28T13:21:20.200Z"
   },
   {
    "duration": 0,
    "start_time": "2023-07-28T13:21:20.231Z"
   },
   {
    "duration": 0,
    "start_time": "2023-07-28T13:21:20.232Z"
   },
   {
    "duration": 0,
    "start_time": "2023-07-28T13:21:20.233Z"
   },
   {
    "duration": 0,
    "start_time": "2023-07-28T13:21:20.234Z"
   },
   {
    "duration": 0,
    "start_time": "2023-07-28T13:21:20.235Z"
   },
   {
    "duration": 0,
    "start_time": "2023-07-28T13:21:20.236Z"
   },
   {
    "duration": 21,
    "start_time": "2023-07-28T13:22:12.636Z"
   },
   {
    "duration": 3,
    "start_time": "2023-07-28T13:22:34.349Z"
   },
   {
    "duration": 809,
    "start_time": "2023-07-28T13:22:34.355Z"
   },
   {
    "duration": 19,
    "start_time": "2023-07-28T13:22:35.167Z"
   },
   {
    "duration": 22,
    "start_time": "2023-07-28T13:22:35.188Z"
   },
   {
    "duration": 73,
    "start_time": "2023-07-28T13:22:35.213Z"
   },
   {
    "duration": 556,
    "start_time": "2023-07-28T13:22:35.288Z"
   },
   {
    "duration": 21,
    "start_time": "2023-07-28T13:22:35.846Z"
   },
   {
    "duration": 50,
    "start_time": "2023-07-28T13:22:35.870Z"
   },
   {
    "duration": 49,
    "start_time": "2023-07-28T13:22:35.922Z"
   },
   {
    "duration": 503,
    "start_time": "2023-07-28T13:22:35.975Z"
   },
   {
    "duration": 16,
    "start_time": "2023-07-28T13:22:36.484Z"
   },
   {
    "duration": 29,
    "start_time": "2023-07-28T13:22:36.505Z"
   },
   {
    "duration": 65,
    "start_time": "2023-07-28T13:22:36.536Z"
   },
   {
    "duration": 667,
    "start_time": "2023-07-28T13:22:36.604Z"
   },
   {
    "duration": 20,
    "start_time": "2023-07-28T13:22:37.279Z"
   },
   {
    "duration": 17,
    "start_time": "2023-07-28T13:22:37.308Z"
   },
   {
    "duration": 22,
    "start_time": "2023-07-28T13:22:37.327Z"
   },
   {
    "duration": 18,
    "start_time": "2023-07-28T13:22:37.351Z"
   },
   {
    "duration": 442,
    "start_time": "2023-07-28T13:22:37.371Z"
   },
   {
    "duration": 379,
    "start_time": "2023-07-28T13:22:37.815Z"
   },
   {
    "duration": 383,
    "start_time": "2023-07-28T13:22:38.197Z"
   },
   {
    "duration": 18,
    "start_time": "2023-07-28T13:25:05.890Z"
   },
   {
    "duration": 21,
    "start_time": "2023-07-28T13:31:54.561Z"
   },
   {
    "duration": 35,
    "start_time": "2023-07-28T13:33:19.352Z"
   },
   {
    "duration": 16,
    "start_time": "2023-07-28T13:33:38.113Z"
   },
   {
    "duration": 20,
    "start_time": "2023-07-28T13:33:47.114Z"
   },
   {
    "duration": 10,
    "start_time": "2023-07-28T13:33:53.453Z"
   },
   {
    "duration": 458,
    "start_time": "2023-07-28T13:33:53.466Z"
   },
   {
    "duration": 11,
    "start_time": "2023-07-28T13:33:53.926Z"
   },
   {
    "duration": 33,
    "start_time": "2023-07-28T13:33:53.939Z"
   },
   {
    "duration": 51,
    "start_time": "2023-07-28T13:33:53.974Z"
   },
   {
    "duration": 427,
    "start_time": "2023-07-28T13:33:54.027Z"
   },
   {
    "duration": 26,
    "start_time": "2023-07-28T13:33:54.456Z"
   },
   {
    "duration": 16,
    "start_time": "2023-07-28T13:33:54.483Z"
   },
   {
    "duration": 75,
    "start_time": "2023-07-28T13:33:54.501Z"
   },
   {
    "duration": 399,
    "start_time": "2023-07-28T13:33:54.579Z"
   },
   {
    "duration": 14,
    "start_time": "2023-07-28T13:33:54.981Z"
   },
   {
    "duration": 58,
    "start_time": "2023-07-28T13:33:54.997Z"
   },
   {
    "duration": 41,
    "start_time": "2023-07-28T13:33:55.071Z"
   },
   {
    "duration": 418,
    "start_time": "2023-07-28T13:33:55.114Z"
   },
   {
    "duration": 12,
    "start_time": "2023-07-28T13:33:55.534Z"
   },
   {
    "duration": 31,
    "start_time": "2023-07-28T13:33:55.548Z"
   },
   {
    "duration": 11,
    "start_time": "2023-07-28T13:33:55.581Z"
   },
   {
    "duration": 20,
    "start_time": "2023-07-28T13:33:55.595Z"
   },
   {
    "duration": 24,
    "start_time": "2023-07-28T13:33:55.618Z"
   },
   {
    "duration": 378,
    "start_time": "2023-07-28T13:33:55.644Z"
   },
   {
    "duration": 576,
    "start_time": "2023-07-28T13:33:56.024Z"
   },
   {
    "duration": 399,
    "start_time": "2023-07-28T13:33:56.602Z"
   },
   {
    "duration": 6,
    "start_time": "2023-07-28T13:34:23.567Z"
   },
   {
    "duration": 565,
    "start_time": "2023-07-28T13:34:23.581Z"
   },
   {
    "duration": 26,
    "start_time": "2023-07-28T13:34:24.149Z"
   },
   {
    "duration": 24,
    "start_time": "2023-07-28T13:34:24.182Z"
   },
   {
    "duration": 65,
    "start_time": "2023-07-28T13:34:24.209Z"
   },
   {
    "duration": 440,
    "start_time": "2023-07-28T13:34:24.281Z"
   },
   {
    "duration": 10,
    "start_time": "2023-07-28T13:34:24.723Z"
   },
   {
    "duration": 41,
    "start_time": "2023-07-28T13:34:24.735Z"
   },
   {
    "duration": 42,
    "start_time": "2023-07-28T13:34:24.778Z"
   },
   {
    "duration": 460,
    "start_time": "2023-07-28T13:34:24.822Z"
   },
   {
    "duration": 10,
    "start_time": "2023-07-28T13:34:25.286Z"
   },
   {
    "duration": 31,
    "start_time": "2023-07-28T13:34:25.298Z"
   },
   {
    "duration": 54,
    "start_time": "2023-07-28T13:34:25.332Z"
   },
   {
    "duration": 397,
    "start_time": "2023-07-28T13:34:25.388Z"
   },
   {
    "duration": 16,
    "start_time": "2023-07-28T13:34:25.788Z"
   },
   {
    "duration": 0,
    "start_time": "2023-07-28T13:34:25.806Z"
   },
   {
    "duration": 0,
    "start_time": "2023-07-28T13:34:25.807Z"
   },
   {
    "duration": 0,
    "start_time": "2023-07-28T13:34:25.809Z"
   },
   {
    "duration": 0,
    "start_time": "2023-07-28T13:34:25.810Z"
   },
   {
    "duration": 0,
    "start_time": "2023-07-28T13:34:25.811Z"
   },
   {
    "duration": 0,
    "start_time": "2023-07-28T13:34:25.812Z"
   },
   {
    "duration": 0,
    "start_time": "2023-07-28T13:34:25.813Z"
   },
   {
    "duration": 4,
    "start_time": "2023-07-28T13:34:58.322Z"
   },
   {
    "duration": 424,
    "start_time": "2023-07-28T13:34:58.328Z"
   },
   {
    "duration": 31,
    "start_time": "2023-07-28T13:34:58.754Z"
   },
   {
    "duration": 17,
    "start_time": "2023-07-28T13:34:58.788Z"
   },
   {
    "duration": 66,
    "start_time": "2023-07-28T13:34:58.808Z"
   },
   {
    "duration": 466,
    "start_time": "2023-07-28T13:34:58.876Z"
   },
   {
    "duration": 19,
    "start_time": "2023-07-28T13:34:59.344Z"
   },
   {
    "duration": 22,
    "start_time": "2023-07-28T13:34:59.366Z"
   },
   {
    "duration": 44,
    "start_time": "2023-07-28T13:34:59.390Z"
   },
   {
    "duration": 482,
    "start_time": "2023-07-28T13:34:59.457Z"
   },
   {
    "duration": 40,
    "start_time": "2023-07-28T13:34:59.942Z"
   },
   {
    "duration": 17,
    "start_time": "2023-07-28T13:34:59.985Z"
   },
   {
    "duration": 37,
    "start_time": "2023-07-28T13:35:00.004Z"
   },
   {
    "duration": 392,
    "start_time": "2023-07-28T13:35:00.044Z"
   },
   {
    "duration": 32,
    "start_time": "2023-07-28T13:35:00.438Z"
   },
   {
    "duration": 0,
    "start_time": "2023-07-28T13:35:00.472Z"
   },
   {
    "duration": 0,
    "start_time": "2023-07-28T13:35:00.473Z"
   },
   {
    "duration": 0,
    "start_time": "2023-07-28T13:35:00.475Z"
   },
   {
    "duration": 0,
    "start_time": "2023-07-28T13:35:00.477Z"
   },
   {
    "duration": 0,
    "start_time": "2023-07-28T13:35:00.478Z"
   },
   {
    "duration": 0,
    "start_time": "2023-07-28T13:35:00.479Z"
   },
   {
    "duration": 0,
    "start_time": "2023-07-28T13:35:00.481Z"
   },
   {
    "duration": 4,
    "start_time": "2023-07-28T13:35:19.299Z"
   },
   {
    "duration": 408,
    "start_time": "2023-07-28T13:35:19.313Z"
   },
   {
    "duration": 10,
    "start_time": "2023-07-28T13:35:19.723Z"
   },
   {
    "duration": 40,
    "start_time": "2023-07-28T13:35:19.735Z"
   },
   {
    "duration": 55,
    "start_time": "2023-07-28T13:35:19.776Z"
   },
   {
    "duration": 363,
    "start_time": "2023-07-28T13:35:19.837Z"
   },
   {
    "duration": 9,
    "start_time": "2023-07-28T13:35:20.204Z"
   },
   {
    "duration": 60,
    "start_time": "2023-07-28T13:35:20.216Z"
   },
   {
    "duration": 37,
    "start_time": "2023-07-28T13:35:20.279Z"
   },
   {
    "duration": 400,
    "start_time": "2023-07-28T13:35:20.318Z"
   },
   {
    "duration": 11,
    "start_time": "2023-07-28T13:35:20.720Z"
   },
   {
    "duration": 71,
    "start_time": "2023-07-28T13:35:20.733Z"
   },
   {
    "duration": 38,
    "start_time": "2023-07-28T13:35:20.806Z"
   },
   {
    "duration": 437,
    "start_time": "2023-07-28T13:35:20.846Z"
   },
   {
    "duration": 10,
    "start_time": "2023-07-28T13:35:21.288Z"
   },
   {
    "duration": 15,
    "start_time": "2023-07-28T13:35:21.301Z"
   },
   {
    "duration": 54,
    "start_time": "2023-07-28T13:35:21.320Z"
   },
   {
    "duration": 15,
    "start_time": "2023-07-28T13:35:21.376Z"
   },
   {
    "duration": 9,
    "start_time": "2023-07-28T13:35:21.393Z"
   },
   {
    "duration": 707,
    "start_time": "2023-07-28T13:35:21.405Z"
   },
   {
    "duration": 369,
    "start_time": "2023-07-28T13:35:22.114Z"
   },
   {
    "duration": 359,
    "start_time": "2023-07-28T13:35:22.486Z"
   },
   {
    "duration": 80,
    "start_time": "2023-07-28T13:37:05.363Z"
   },
   {
    "duration": 18,
    "start_time": "2023-07-28T13:37:36.301Z"
   },
   {
    "duration": 4,
    "start_time": "2023-07-28T13:37:41.245Z"
   },
   {
    "duration": 522,
    "start_time": "2023-07-28T13:37:41.252Z"
   },
   {
    "duration": 13,
    "start_time": "2023-07-28T13:37:41.776Z"
   },
   {
    "duration": 21,
    "start_time": "2023-07-28T13:37:41.792Z"
   },
   {
    "duration": 73,
    "start_time": "2023-07-28T13:37:41.816Z"
   },
   {
    "duration": 528,
    "start_time": "2023-07-28T13:37:41.892Z"
   },
   {
    "duration": 12,
    "start_time": "2023-07-28T13:37:42.422Z"
   },
   {
    "duration": 31,
    "start_time": "2023-07-28T13:37:42.436Z"
   },
   {
    "duration": 48,
    "start_time": "2023-07-28T13:37:42.469Z"
   },
   {
    "duration": 539,
    "start_time": "2023-07-28T13:37:42.521Z"
   },
   {
    "duration": 12,
    "start_time": "2023-07-28T13:37:43.062Z"
   },
   {
    "duration": 23,
    "start_time": "2023-07-28T13:37:43.076Z"
   },
   {
    "duration": 79,
    "start_time": "2023-07-28T13:37:43.101Z"
   },
   {
    "duration": 659,
    "start_time": "2023-07-28T13:37:43.182Z"
   },
   {
    "duration": 18,
    "start_time": "2023-07-28T13:37:43.843Z"
   },
   {
    "duration": 20,
    "start_time": "2023-07-28T13:37:43.864Z"
   },
   {
    "duration": 16,
    "start_time": "2023-07-28T13:37:43.887Z"
   },
   {
    "duration": 16,
    "start_time": "2023-07-28T13:37:43.906Z"
   },
   {
    "duration": 39,
    "start_time": "2023-07-28T13:37:43.925Z"
   },
   {
    "duration": 478,
    "start_time": "2023-07-28T13:37:43.966Z"
   },
   {
    "duration": 432,
    "start_time": "2023-07-28T13:37:44.447Z"
   },
   {
    "duration": 396,
    "start_time": "2023-07-28T13:37:44.881Z"
   },
   {
    "duration": 802,
    "start_time": "2023-07-28T13:40:16.470Z"
   },
   {
    "duration": 375,
    "start_time": "2023-07-28T13:41:33.357Z"
   },
   {
    "duration": 988,
    "start_time": "2023-07-28T13:43:58.308Z"
   },
   {
    "duration": 1299,
    "start_time": "2023-07-28T13:47:04.667Z"
   },
   {
    "duration": 1872,
    "start_time": "2023-07-28T13:47:05.968Z"
   },
   {
    "duration": 20,
    "start_time": "2023-07-28T13:47:07.844Z"
   },
   {
    "duration": 28,
    "start_time": "2023-07-28T13:47:07.868Z"
   },
   {
    "duration": 64,
    "start_time": "2023-07-28T13:47:07.899Z"
   },
   {
    "duration": 551,
    "start_time": "2023-07-28T13:47:07.965Z"
   },
   {
    "duration": 22,
    "start_time": "2023-07-28T13:47:08.518Z"
   },
   {
    "duration": 39,
    "start_time": "2023-07-28T13:47:08.544Z"
   },
   {
    "duration": 45,
    "start_time": "2023-07-28T13:47:08.586Z"
   },
   {
    "duration": 527,
    "start_time": "2023-07-28T13:47:08.635Z"
   },
   {
    "duration": 14,
    "start_time": "2023-07-28T13:47:09.165Z"
   },
   {
    "duration": 66,
    "start_time": "2023-07-28T13:47:09.185Z"
   },
   {
    "duration": 52,
    "start_time": "2023-07-28T13:47:09.253Z"
   },
   {
    "duration": 497,
    "start_time": "2023-07-28T13:47:09.307Z"
   },
   {
    "duration": 16,
    "start_time": "2023-07-28T13:47:09.806Z"
   },
   {
    "duration": 15,
    "start_time": "2023-07-28T13:47:09.825Z"
   },
   {
    "duration": 452,
    "start_time": "2023-07-28T13:47:09.856Z"
   },
   {
    "duration": 464,
    "start_time": "2023-07-28T13:47:10.311Z"
   },
   {
    "duration": 451,
    "start_time": "2023-07-28T13:47:10.778Z"
   },
   {
    "duration": 14,
    "start_time": "2023-07-28T13:51:33.928Z"
   },
   {
    "duration": 16,
    "start_time": "2023-07-28T13:51:46.469Z"
   },
   {
    "duration": 10,
    "start_time": "2023-07-28T13:51:54.232Z"
   },
   {
    "duration": 15,
    "start_time": "2023-07-28T13:52:07.508Z"
   },
   {
    "duration": 4,
    "start_time": "2023-07-28T13:52:42.547Z"
   },
   {
    "duration": 12,
    "start_time": "2023-07-28T13:52:58.597Z"
   },
   {
    "duration": 3,
    "start_time": "2023-07-28T13:55:41.016Z"
   },
   {
    "duration": 554,
    "start_time": "2023-07-28T13:55:41.021Z"
   },
   {
    "duration": 4,
    "start_time": "2023-07-28T13:55:41.586Z"
   },
   {
    "duration": 25,
    "start_time": "2023-07-28T13:55:41.591Z"
   },
   {
    "duration": 19,
    "start_time": "2023-07-28T13:55:41.619Z"
   },
   {
    "duration": 184,
    "start_time": "2023-07-28T13:55:41.641Z"
   },
   {
    "duration": 45,
    "start_time": "2023-07-28T13:55:41.827Z"
   },
   {
    "duration": 163,
    "start_time": "2023-07-28T13:55:41.880Z"
   },
   {
    "duration": 0,
    "start_time": "2023-07-28T13:55:42.046Z"
   },
   {
    "duration": 0,
    "start_time": "2023-07-28T13:55:42.047Z"
   },
   {
    "duration": 0,
    "start_time": "2023-07-28T13:55:42.049Z"
   },
   {
    "duration": 0,
    "start_time": "2023-07-28T13:55:42.058Z"
   },
   {
    "duration": 0,
    "start_time": "2023-07-28T13:55:42.059Z"
   },
   {
    "duration": 0,
    "start_time": "2023-07-28T13:55:42.060Z"
   },
   {
    "duration": 0,
    "start_time": "2023-07-28T13:55:42.060Z"
   },
   {
    "duration": 0,
    "start_time": "2023-07-28T13:55:42.061Z"
   },
   {
    "duration": 0,
    "start_time": "2023-07-28T13:55:42.062Z"
   },
   {
    "duration": 0,
    "start_time": "2023-07-28T13:55:42.064Z"
   },
   {
    "duration": 0,
    "start_time": "2023-07-28T13:55:42.065Z"
   },
   {
    "duration": 0,
    "start_time": "2023-07-28T13:55:42.066Z"
   },
   {
    "duration": 0,
    "start_time": "2023-07-28T13:55:42.067Z"
   },
   {
    "duration": 0,
    "start_time": "2023-07-28T13:55:42.068Z"
   },
   {
    "duration": 0,
    "start_time": "2023-07-28T13:55:42.069Z"
   },
   {
    "duration": 119,
    "start_time": "2023-07-28T13:56:12.204Z"
   },
   {
    "duration": 4,
    "start_time": "2023-07-28T13:57:58.214Z"
   },
   {
    "duration": 607,
    "start_time": "2023-07-28T13:57:58.220Z"
   },
   {
    "duration": 5,
    "start_time": "2023-07-28T13:57:58.833Z"
   },
   {
    "duration": 30,
    "start_time": "2023-07-28T13:57:58.841Z"
   },
   {
    "duration": 67,
    "start_time": "2023-07-28T13:57:58.874Z"
   },
   {
    "duration": 119,
    "start_time": "2023-07-28T13:57:58.944Z"
   },
   {
    "duration": 520,
    "start_time": "2023-07-28T13:57:59.067Z"
   },
   {
    "duration": 542,
    "start_time": "2023-07-28T13:57:59.593Z"
   },
   {
    "duration": 543,
    "start_time": "2023-07-28T13:58:00.136Z"
   },
   {
    "duration": 21,
    "start_time": "2023-07-28T13:58:00.682Z"
   },
   {
    "duration": 30,
    "start_time": "2023-07-28T13:58:00.706Z"
   },
   {
    "duration": 407,
    "start_time": "2023-07-28T13:58:00.739Z"
   },
   {
    "duration": 431,
    "start_time": "2023-07-28T13:58:01.148Z"
   },
   {
    "duration": 435,
    "start_time": "2023-07-28T13:58:01.584Z"
   },
   {
    "duration": 11,
    "start_time": "2023-07-28T13:58:41.700Z"
   },
   {
    "duration": 18,
    "start_time": "2023-07-28T14:01:13.711Z"
   },
   {
    "duration": 16,
    "start_time": "2023-07-28T14:01:40.974Z"
   },
   {
    "duration": 12,
    "start_time": "2023-07-28T14:12:48.143Z"
   },
   {
    "duration": 14,
    "start_time": "2023-07-28T14:13:05.495Z"
   },
   {
    "duration": 21,
    "start_time": "2023-07-28T14:13:27.198Z"
   },
   {
    "duration": 95,
    "start_time": "2023-07-28T14:14:10.353Z"
   },
   {
    "duration": 93,
    "start_time": "2023-07-28T14:14:26.794Z"
   },
   {
    "duration": 15,
    "start_time": "2023-07-28T14:14:36.912Z"
   },
   {
    "duration": 14,
    "start_time": "2023-07-28T14:16:13.574Z"
   },
   {
    "duration": 9,
    "start_time": "2023-07-28T14:16:48.425Z"
   },
   {
    "duration": 113,
    "start_time": "2023-07-28T14:30:23.942Z"
   },
   {
    "duration": 15,
    "start_time": "2023-07-28T14:32:03.730Z"
   },
   {
    "duration": 4,
    "start_time": "2023-07-28T14:33:39.789Z"
   },
   {
    "duration": 26,
    "start_time": "2023-07-28T14:33:59.948Z"
   },
   {
    "duration": 24,
    "start_time": "2023-07-28T14:40:37.201Z"
   },
   {
    "duration": 18,
    "start_time": "2023-07-28T15:13:21.769Z"
   },
   {
    "duration": 13,
    "start_time": "2023-07-28T15:13:30.319Z"
   },
   {
    "duration": 15,
    "start_time": "2023-07-28T15:13:56.851Z"
   },
   {
    "duration": 18,
    "start_time": "2023-07-28T15:14:11.648Z"
   },
   {
    "duration": 13,
    "start_time": "2023-07-28T15:14:50.120Z"
   },
   {
    "duration": 100,
    "start_time": "2023-07-28T15:26:32.454Z"
   },
   {
    "duration": 6,
    "start_time": "2023-07-28T15:26:58.402Z"
   },
   {
    "duration": 11,
    "start_time": "2023-07-28T15:27:15.188Z"
   },
   {
    "duration": 6,
    "start_time": "2023-07-28T15:43:53.656Z"
   },
   {
    "duration": 433,
    "start_time": "2023-07-28T15:43:53.665Z"
   },
   {
    "duration": 3,
    "start_time": "2023-07-28T15:43:54.100Z"
   },
   {
    "duration": 12,
    "start_time": "2023-07-28T15:43:54.105Z"
   },
   {
    "duration": 0,
    "start_time": "2023-07-28T15:43:54.118Z"
   },
   {
    "duration": 0,
    "start_time": "2023-07-28T15:43:54.119Z"
   },
   {
    "duration": 0,
    "start_time": "2023-07-28T15:43:54.120Z"
   },
   {
    "duration": 0,
    "start_time": "2023-07-28T15:43:54.122Z"
   },
   {
    "duration": 0,
    "start_time": "2023-07-28T15:43:54.123Z"
   },
   {
    "duration": 0,
    "start_time": "2023-07-28T15:43:54.124Z"
   },
   {
    "duration": 0,
    "start_time": "2023-07-28T15:43:54.125Z"
   },
   {
    "duration": 0,
    "start_time": "2023-07-28T15:43:54.126Z"
   },
   {
    "duration": 0,
    "start_time": "2023-07-28T15:43:54.127Z"
   },
   {
    "duration": 0,
    "start_time": "2023-07-28T15:43:54.156Z"
   },
   {
    "duration": 14,
    "start_time": "2023-07-28T15:47:34.731Z"
   },
   {
    "duration": 4,
    "start_time": "2023-07-28T15:48:01.660Z"
   },
   {
    "duration": 11,
    "start_time": "2023-07-28T15:48:24.731Z"
   },
   {
    "duration": 3,
    "start_time": "2023-07-28T15:49:23.586Z"
   },
   {
    "duration": 22,
    "start_time": "2023-07-28T15:50:27.754Z"
   },
   {
    "duration": 41,
    "start_time": "2023-07-28T15:50:50.857Z"
   },
   {
    "duration": 40,
    "start_time": "2023-07-28T15:51:09.209Z"
   },
   {
    "duration": 39,
    "start_time": "2023-07-28T15:51:21.635Z"
   },
   {
    "duration": 88,
    "start_time": "2023-07-28T15:51:55.765Z"
   },
   {
    "duration": 85,
    "start_time": "2023-07-28T15:52:08.194Z"
   },
   {
    "duration": 6,
    "start_time": "2023-07-28T15:52:22.357Z"
   },
   {
    "duration": 403,
    "start_time": "2023-07-28T15:52:22.370Z"
   },
   {
    "duration": 8,
    "start_time": "2023-07-28T15:52:22.776Z"
   },
   {
    "duration": 22,
    "start_time": "2023-07-28T15:52:22.786Z"
   },
   {
    "duration": 41,
    "start_time": "2023-07-28T15:52:22.810Z"
   },
   {
    "duration": 93,
    "start_time": "2023-07-28T15:52:22.853Z"
   },
   {
    "duration": 364,
    "start_time": "2023-07-28T15:52:22.947Z"
   },
   {
    "duration": 491,
    "start_time": "2023-07-28T15:52:23.313Z"
   },
   {
    "duration": 365,
    "start_time": "2023-07-28T15:52:23.806Z"
   },
   {
    "duration": 9,
    "start_time": "2023-07-28T15:52:24.173Z"
   },
   {
    "duration": 0,
    "start_time": "2023-07-28T15:52:24.184Z"
   },
   {
    "duration": 0,
    "start_time": "2023-07-28T15:52:24.185Z"
   },
   {
    "duration": 0,
    "start_time": "2023-07-28T15:52:24.186Z"
   },
   {
    "duration": 0,
    "start_time": "2023-07-28T15:52:24.187Z"
   },
   {
    "duration": 15,
    "start_time": "2023-07-28T15:53:55.990Z"
   },
   {
    "duration": 9,
    "start_time": "2023-07-28T15:54:36.045Z"
   },
   {
    "duration": 9,
    "start_time": "2023-07-28T15:54:48.670Z"
   },
   {
    "duration": 305,
    "start_time": "2023-07-28T15:54:53.299Z"
   },
   {
    "duration": 295,
    "start_time": "2023-07-28T15:54:54.884Z"
   },
   {
    "duration": 314,
    "start_time": "2023-07-28T15:54:56.003Z"
   },
   {
    "duration": 326,
    "start_time": "2023-07-28T16:07:15.690Z"
   },
   {
    "duration": 369,
    "start_time": "2023-07-28T16:07:22.961Z"
   },
   {
    "duration": 549,
    "start_time": "2023-07-28T16:07:28.525Z"
   },
   {
    "duration": 280,
    "start_time": "2023-07-28T16:07:49.791Z"
   },
   {
    "duration": 275,
    "start_time": "2023-07-28T16:07:56.896Z"
   },
   {
    "duration": 311,
    "start_time": "2023-07-28T16:08:02.540Z"
   },
   {
    "duration": 627,
    "start_time": "2023-07-28T16:23:08.440Z"
   },
   {
    "duration": 572,
    "start_time": "2023-07-28T16:23:20.744Z"
   },
   {
    "duration": 606,
    "start_time": "2023-07-28T16:23:29.807Z"
   },
   {
    "duration": 544,
    "start_time": "2023-07-28T16:23:58.976Z"
   },
   {
    "duration": 3,
    "start_time": "2023-07-28T16:24:00.306Z"
   },
   {
    "duration": 358,
    "start_time": "2023-07-28T16:24:01.538Z"
   },
   {
    "duration": 336,
    "start_time": "2023-07-28T16:24:11.416Z"
   },
   {
    "duration": 3,
    "start_time": "2023-07-28T16:54:27.694Z"
   },
   {
    "duration": 405,
    "start_time": "2023-07-28T16:54:27.699Z"
   },
   {
    "duration": 3,
    "start_time": "2023-07-28T16:54:28.105Z"
   },
   {
    "duration": 18,
    "start_time": "2023-07-28T16:54:28.110Z"
   },
   {
    "duration": 46,
    "start_time": "2023-07-28T16:54:28.130Z"
   },
   {
    "duration": 92,
    "start_time": "2023-07-28T16:54:28.178Z"
   },
   {
    "duration": 351,
    "start_time": "2023-07-28T16:54:28.272Z"
   },
   {
    "duration": 386,
    "start_time": "2023-07-28T16:54:28.625Z"
   },
   {
    "duration": 357,
    "start_time": "2023-07-28T16:54:29.013Z"
   },
   {
    "duration": 15,
    "start_time": "2023-07-28T16:54:29.372Z"
   },
   {
    "duration": 15,
    "start_time": "2023-07-28T16:54:29.388Z"
   },
   {
    "duration": 500,
    "start_time": "2023-07-28T16:54:29.405Z"
   },
   {
    "duration": 302,
    "start_time": "2023-07-28T16:54:29.907Z"
   },
   {
    "duration": 338,
    "start_time": "2023-07-28T16:54:30.211Z"
   },
   {
    "duration": 1279,
    "start_time": "2023-07-29T14:49:11.649Z"
   },
   {
    "duration": 2011,
    "start_time": "2023-07-29T14:49:12.930Z"
   },
   {
    "duration": 3,
    "start_time": "2023-07-29T14:49:14.942Z"
   },
   {
    "duration": 19,
    "start_time": "2023-07-29T14:49:14.947Z"
   },
   {
    "duration": 76,
    "start_time": "2023-07-29T14:49:14.967Z"
   },
   {
    "duration": 109,
    "start_time": "2023-07-29T14:49:15.044Z"
   },
   {
    "duration": 351,
    "start_time": "2023-07-29T14:49:15.154Z"
   },
   {
    "duration": 333,
    "start_time": "2023-07-29T14:49:15.507Z"
   },
   {
    "duration": 326,
    "start_time": "2023-07-29T14:49:15.842Z"
   },
   {
    "duration": 19,
    "start_time": "2023-07-29T14:49:16.175Z"
   },
   {
    "duration": 22,
    "start_time": "2023-07-29T14:49:16.195Z"
   },
   {
    "duration": 329,
    "start_time": "2023-07-29T14:49:16.219Z"
   },
   {
    "duration": 313,
    "start_time": "2023-07-29T14:49:16.549Z"
   },
   {
    "duration": 317,
    "start_time": "2023-07-29T14:49:16.863Z"
   },
   {
    "duration": 2,
    "start_time": "2023-07-29T14:50:37.129Z"
   },
   {
    "duration": 401,
    "start_time": "2023-07-29T14:50:37.135Z"
   },
   {
    "duration": 2,
    "start_time": "2023-07-29T14:50:37.538Z"
   },
   {
    "duration": 11,
    "start_time": "2023-07-29T14:50:37.542Z"
   },
   {
    "duration": 56,
    "start_time": "2023-07-29T14:50:37.554Z"
   },
   {
    "duration": 111,
    "start_time": "2023-07-29T14:50:37.612Z"
   },
   {
    "duration": 0,
    "start_time": "2023-07-29T14:50:37.725Z"
   },
   {
    "duration": 0,
    "start_time": "2023-07-29T14:50:37.809Z"
   },
   {
    "duration": 0,
    "start_time": "2023-07-29T14:50:37.810Z"
   },
   {
    "duration": 0,
    "start_time": "2023-07-29T14:50:37.812Z"
   },
   {
    "duration": 0,
    "start_time": "2023-07-29T14:50:37.812Z"
   },
   {
    "duration": 1,
    "start_time": "2023-07-29T14:50:37.813Z"
   },
   {
    "duration": 0,
    "start_time": "2023-07-29T14:50:37.815Z"
   },
   {
    "duration": 0,
    "start_time": "2023-07-29T14:50:37.816Z"
   },
   {
    "duration": 0,
    "start_time": "2023-07-29T14:50:37.817Z"
   },
   {
    "duration": 15,
    "start_time": "2023-07-29T14:51:12.493Z"
   },
   {
    "duration": 8,
    "start_time": "2023-07-29T14:52:22.728Z"
   },
   {
    "duration": 40,
    "start_time": "2023-07-29T14:52:52.013Z"
   },
   {
    "duration": 131,
    "start_time": "2023-07-29T14:56:14.112Z"
   },
   {
    "duration": 91,
    "start_time": "2023-07-29T14:56:20.608Z"
   },
   {
    "duration": 345,
    "start_time": "2023-07-29T14:56:24.548Z"
   },
   {
    "duration": 361,
    "start_time": "2023-07-29T14:56:27.550Z"
   },
   {
    "duration": 335,
    "start_time": "2023-07-29T14:56:28.804Z"
   },
   {
    "duration": 19,
    "start_time": "2023-07-29T14:56:30.089Z"
   },
   {
    "duration": 9,
    "start_time": "2023-07-29T14:56:33.333Z"
   },
   {
    "duration": 292,
    "start_time": "2023-07-29T14:56:38.303Z"
   },
   {
    "duration": 298,
    "start_time": "2023-07-29T14:56:39.525Z"
   },
   {
    "duration": 346,
    "start_time": "2023-07-29T14:56:40.533Z"
   },
   {
    "duration": 3,
    "start_time": "2023-07-29T14:57:24.844Z"
   },
   {
    "duration": 465,
    "start_time": "2023-07-29T14:57:24.849Z"
   },
   {
    "duration": 2,
    "start_time": "2023-07-29T14:57:25.316Z"
   },
   {
    "duration": 42,
    "start_time": "2023-07-29T14:57:25.320Z"
   },
   {
    "duration": 70,
    "start_time": "2023-07-29T14:57:25.365Z"
   },
   {
    "duration": 47,
    "start_time": "2023-07-29T14:57:25.437Z"
   },
   {
    "duration": 146,
    "start_time": "2023-07-29T14:57:25.491Z"
   },
   {
    "duration": 95,
    "start_time": "2023-07-29T14:57:25.638Z"
   },
   {
    "duration": 337,
    "start_time": "2023-07-29T14:57:25.735Z"
   },
   {
    "duration": 446,
    "start_time": "2023-07-29T14:57:26.079Z"
   },
   {
    "duration": 329,
    "start_time": "2023-07-29T14:57:26.526Z"
   },
   {
    "duration": 12,
    "start_time": "2023-07-29T14:57:26.856Z"
   },
   {
    "duration": 29,
    "start_time": "2023-07-29T14:57:26.877Z"
   },
   {
    "duration": 310,
    "start_time": "2023-07-29T14:57:26.908Z"
   },
   {
    "duration": 285,
    "start_time": "2023-07-29T14:57:27.220Z"
   },
   {
    "duration": 300,
    "start_time": "2023-07-29T14:57:27.507Z"
   },
   {
    "duration": 24,
    "start_time": "2023-07-29T14:58:25.039Z"
   },
   {
    "duration": 3,
    "start_time": "2023-07-29T14:58:31.225Z"
   },
   {
    "duration": 458,
    "start_time": "2023-07-29T14:58:31.230Z"
   },
   {
    "duration": 5,
    "start_time": "2023-07-29T14:58:31.689Z"
   },
   {
    "duration": 46,
    "start_time": "2023-07-29T14:58:31.698Z"
   },
   {
    "duration": 82,
    "start_time": "2023-07-29T14:58:31.746Z"
   },
   {
    "duration": 40,
    "start_time": "2023-07-29T14:58:31.830Z"
   },
   {
    "duration": 170,
    "start_time": "2023-07-29T14:58:31.875Z"
   },
   {
    "duration": 49,
    "start_time": "2023-07-29T14:58:32.047Z"
   },
   {
    "duration": 109,
    "start_time": "2023-07-29T14:58:32.107Z"
   },
   {
    "duration": 390,
    "start_time": "2023-07-29T14:58:32.220Z"
   },
   {
    "duration": 344,
    "start_time": "2023-07-29T14:58:32.612Z"
   },
   {
    "duration": 437,
    "start_time": "2023-07-29T14:58:32.957Z"
   },
   {
    "duration": 15,
    "start_time": "2023-07-29T14:58:33.395Z"
   },
   {
    "duration": 29,
    "start_time": "2023-07-29T14:58:33.412Z"
   },
   {
    "duration": 372,
    "start_time": "2023-07-29T14:58:33.443Z"
   },
   {
    "duration": 301,
    "start_time": "2023-07-29T14:58:33.817Z"
   },
   {
    "duration": 295,
    "start_time": "2023-07-29T14:58:34.120Z"
   },
   {
    "duration": 32,
    "start_time": "2023-07-29T15:01:02.963Z"
   },
   {
    "duration": 23,
    "start_time": "2023-07-29T15:01:07.586Z"
   },
   {
    "duration": 3,
    "start_time": "2023-07-29T15:01:14.098Z"
   },
   {
    "duration": 386,
    "start_time": "2023-07-29T15:01:14.103Z"
   },
   {
    "duration": 3,
    "start_time": "2023-07-29T15:01:14.493Z"
   },
   {
    "duration": 24,
    "start_time": "2023-07-29T15:01:14.499Z"
   },
   {
    "duration": 64,
    "start_time": "2023-07-29T15:01:14.524Z"
   },
   {
    "duration": 52,
    "start_time": "2023-07-29T15:01:14.590Z"
   },
   {
    "duration": 63,
    "start_time": "2023-07-29T15:01:14.644Z"
   },
   {
    "duration": 41,
    "start_time": "2023-07-29T15:01:14.708Z"
   },
   {
    "duration": 96,
    "start_time": "2023-07-29T15:01:14.751Z"
   },
   {
    "duration": 318,
    "start_time": "2023-07-29T15:01:14.850Z"
   },
   {
    "duration": 315,
    "start_time": "2023-07-29T15:01:15.177Z"
   },
   {
    "duration": 317,
    "start_time": "2023-07-29T15:01:15.493Z"
   },
   {
    "duration": 11,
    "start_time": "2023-07-29T15:01:15.812Z"
   },
   {
    "duration": 17,
    "start_time": "2023-07-29T15:01:15.824Z"
   },
   {
    "duration": 441,
    "start_time": "2023-07-29T15:01:15.842Z"
   },
   {
    "duration": 275,
    "start_time": "2023-07-29T15:01:16.289Z"
   },
   {
    "duration": 292,
    "start_time": "2023-07-29T15:01:16.565Z"
   },
   {
    "duration": 94,
    "start_time": "2023-07-29T15:02:40.351Z"
   },
   {
    "duration": 1209,
    "start_time": "2023-07-29T15:02:50.659Z"
   },
   {
    "duration": 2,
    "start_time": "2023-07-29T15:03:04.598Z"
   },
   {
    "duration": 406,
    "start_time": "2023-07-29T15:03:04.602Z"
   },
   {
    "duration": 3,
    "start_time": "2023-07-29T15:03:05.009Z"
   },
   {
    "duration": 16,
    "start_time": "2023-07-29T15:03:05.015Z"
   },
   {
    "duration": 51,
    "start_time": "2023-07-29T15:03:05.033Z"
   },
   {
    "duration": 44,
    "start_time": "2023-07-29T15:03:05.085Z"
   },
   {
    "duration": 64,
    "start_time": "2023-07-29T15:03:05.130Z"
   },
   {
    "duration": 38,
    "start_time": "2023-07-29T15:03:05.196Z"
   },
   {
    "duration": 106,
    "start_time": "2023-07-29T15:03:05.235Z"
   },
   {
    "duration": 325,
    "start_time": "2023-07-29T15:03:05.343Z"
   },
   {
    "duration": 345,
    "start_time": "2023-07-29T15:03:05.670Z"
   },
   {
    "duration": 334,
    "start_time": "2023-07-29T15:03:06.016Z"
   },
   {
    "duration": 11,
    "start_time": "2023-07-29T15:03:06.352Z"
   },
   {
    "duration": 19,
    "start_time": "2023-07-29T15:03:06.364Z"
   },
   {
    "duration": 305,
    "start_time": "2023-07-29T15:03:06.385Z"
   },
   {
    "duration": 307,
    "start_time": "2023-07-29T15:03:06.694Z"
   },
   {
    "duration": 385,
    "start_time": "2023-07-29T15:03:07.003Z"
   },
   {
    "duration": 21,
    "start_time": "2023-07-29T15:05:19.997Z"
   },
   {
    "duration": 3,
    "start_time": "2023-07-29T15:05:36.981Z"
   },
   {
    "duration": 356,
    "start_time": "2023-07-29T15:05:36.986Z"
   },
   {
    "duration": 2,
    "start_time": "2023-07-29T15:05:37.344Z"
   },
   {
    "duration": 41,
    "start_time": "2023-07-29T15:05:37.348Z"
   },
   {
    "duration": 36,
    "start_time": "2023-07-29T15:05:37.391Z"
   },
   {
    "duration": 39,
    "start_time": "2023-07-29T15:05:37.428Z"
   },
   {
    "duration": 53,
    "start_time": "2023-07-29T15:05:37.468Z"
   },
   {
    "duration": 34,
    "start_time": "2023-07-29T15:05:37.522Z"
   },
   {
    "duration": 101,
    "start_time": "2023-07-29T15:05:37.558Z"
   },
   {
    "duration": 301,
    "start_time": "2023-07-29T15:05:37.662Z"
   },
   {
    "duration": 327,
    "start_time": "2023-07-29T15:05:37.965Z"
   },
   {
    "duration": 312,
    "start_time": "2023-07-29T15:05:38.294Z"
   },
   {
    "duration": 11,
    "start_time": "2023-07-29T15:05:38.608Z"
   },
   {
    "duration": 16,
    "start_time": "2023-07-29T15:05:38.620Z"
   },
   {
    "duration": 346,
    "start_time": "2023-07-29T15:05:38.638Z"
   },
   {
    "duration": 304,
    "start_time": "2023-07-29T15:05:38.986Z"
   },
   {
    "duration": 302,
    "start_time": "2023-07-29T15:05:39.292Z"
   },
   {
    "duration": 18,
    "start_time": "2023-07-29T15:06:10.551Z"
   },
   {
    "duration": 26,
    "start_time": "2023-07-29T15:07:03.993Z"
   },
   {
    "duration": 37,
    "start_time": "2023-07-29T15:07:23.368Z"
   },
   {
    "duration": 26,
    "start_time": "2023-07-29T15:07:31.895Z"
   },
   {
    "duration": 22,
    "start_time": "2023-07-29T15:07:53.940Z"
   },
   {
    "duration": 21,
    "start_time": "2023-07-29T15:08:13.240Z"
   },
   {
    "duration": 12,
    "start_time": "2023-07-29T15:09:18.783Z"
   },
   {
    "duration": 22,
    "start_time": "2023-07-29T15:09:19.921Z"
   },
   {
    "duration": 3,
    "start_time": "2023-07-29T15:09:32.197Z"
   },
   {
    "duration": 442,
    "start_time": "2023-07-29T15:09:32.201Z"
   },
   {
    "duration": 3,
    "start_time": "2023-07-29T15:09:32.645Z"
   },
   {
    "duration": 57,
    "start_time": "2023-07-29T15:09:32.649Z"
   },
   {
    "duration": 42,
    "start_time": "2023-07-29T15:09:32.708Z"
   },
   {
    "duration": 50,
    "start_time": "2023-07-29T15:09:32.752Z"
   },
   {
    "duration": 8,
    "start_time": "2023-07-29T15:09:32.805Z"
   },
   {
    "duration": 0,
    "start_time": "2023-07-29T15:09:32.815Z"
   },
   {
    "duration": 0,
    "start_time": "2023-07-29T15:09:32.816Z"
   },
   {
    "duration": 0,
    "start_time": "2023-07-29T15:09:32.818Z"
   },
   {
    "duration": 0,
    "start_time": "2023-07-29T15:09:32.819Z"
   },
   {
    "duration": 0,
    "start_time": "2023-07-29T15:09:32.820Z"
   },
   {
    "duration": 0,
    "start_time": "2023-07-29T15:09:32.821Z"
   },
   {
    "duration": 0,
    "start_time": "2023-07-29T15:09:32.823Z"
   },
   {
    "duration": 0,
    "start_time": "2023-07-29T15:09:32.824Z"
   },
   {
    "duration": 0,
    "start_time": "2023-07-29T15:09:32.826Z"
   },
   {
    "duration": 0,
    "start_time": "2023-07-29T15:09:32.827Z"
   },
   {
    "duration": 8,
    "start_time": "2023-07-29T15:09:59.114Z"
   },
   {
    "duration": 10,
    "start_time": "2023-07-29T15:10:35.121Z"
   },
   {
    "duration": 102,
    "start_time": "2023-07-29T15:15:54.218Z"
   },
   {
    "duration": 125,
    "start_time": "2023-07-29T15:16:22.897Z"
   },
   {
    "duration": 97,
    "start_time": "2023-07-29T15:16:49.735Z"
   },
   {
    "duration": 135,
    "start_time": "2023-07-29T15:17:01.300Z"
   },
   {
    "duration": 25,
    "start_time": "2023-07-29T15:23:16.194Z"
   },
   {
    "duration": 50,
    "start_time": "2023-07-29T15:23:18.742Z"
   },
   {
    "duration": 2,
    "start_time": "2023-07-29T15:23:35.492Z"
   },
   {
    "duration": 417,
    "start_time": "2023-07-29T15:23:35.496Z"
   },
   {
    "duration": 6,
    "start_time": "2023-07-29T15:23:35.915Z"
   },
   {
    "duration": 45,
    "start_time": "2023-07-29T15:23:35.923Z"
   },
   {
    "duration": 55,
    "start_time": "2023-07-29T15:23:35.970Z"
   },
   {
    "duration": 116,
    "start_time": "2023-07-29T15:23:36.027Z"
   },
   {
    "duration": 31,
    "start_time": "2023-07-29T15:23:36.145Z"
   },
   {
    "duration": 95,
    "start_time": "2023-07-29T15:23:36.179Z"
   },
   {
    "duration": 455,
    "start_time": "2023-07-29T15:23:36.276Z"
   },
   {
    "duration": 343,
    "start_time": "2023-07-29T15:23:36.733Z"
   },
   {
    "duration": 338,
    "start_time": "2023-07-29T15:23:37.078Z"
   },
   {
    "duration": 12,
    "start_time": "2023-07-29T15:23:37.418Z"
   },
   {
    "duration": 31,
    "start_time": "2023-07-29T15:23:37.431Z"
   },
   {
    "duration": 333,
    "start_time": "2023-07-29T15:23:37.464Z"
   },
   {
    "duration": 305,
    "start_time": "2023-07-29T15:23:37.798Z"
   },
   {
    "duration": 302,
    "start_time": "2023-07-29T15:23:38.105Z"
   },
   {
    "duration": 126,
    "start_time": "2023-07-29T15:26:19.938Z"
   },
   {
    "duration": 115,
    "start_time": "2023-07-29T15:27:13.401Z"
   },
   {
    "duration": 113,
    "start_time": "2023-07-29T15:27:28.559Z"
   },
   {
    "duration": 26,
    "start_time": "2023-07-29T15:28:15.865Z"
   },
   {
    "duration": 1140,
    "start_time": "2023-07-29T15:29:31.635Z"
   },
   {
    "duration": 4,
    "start_time": "2023-07-29T15:29:40.346Z"
   },
   {
    "duration": 452,
    "start_time": "2023-07-29T15:29:40.352Z"
   },
   {
    "duration": 3,
    "start_time": "2023-07-29T15:29:40.806Z"
   },
   {
    "duration": 47,
    "start_time": "2023-07-29T15:29:40.812Z"
   },
   {
    "duration": 52,
    "start_time": "2023-07-29T15:29:40.861Z"
   },
   {
    "duration": 125,
    "start_time": "2023-07-29T15:29:40.914Z"
   },
   {
    "duration": 46,
    "start_time": "2023-07-29T15:29:41.041Z"
   },
   {
    "duration": 115,
    "start_time": "2023-07-29T15:29:41.091Z"
   },
   {
    "duration": 349,
    "start_time": "2023-07-29T15:29:41.208Z"
   },
   {
    "duration": 501,
    "start_time": "2023-07-29T15:29:41.558Z"
   },
   {
    "duration": 359,
    "start_time": "2023-07-29T15:29:42.061Z"
   },
   {
    "duration": 12,
    "start_time": "2023-07-29T15:29:42.422Z"
   },
   {
    "duration": 39,
    "start_time": "2023-07-29T15:29:42.437Z"
   },
   {
    "duration": 336,
    "start_time": "2023-07-29T15:29:42.478Z"
   },
   {
    "duration": 355,
    "start_time": "2023-07-29T15:29:42.816Z"
   },
   {
    "duration": 306,
    "start_time": "2023-07-29T15:29:43.174Z"
   },
   {
    "duration": 3,
    "start_time": "2023-07-29T15:30:05.540Z"
   },
   {
    "duration": 486,
    "start_time": "2023-07-29T15:30:05.545Z"
   },
   {
    "duration": 2,
    "start_time": "2023-07-29T15:30:06.033Z"
   },
   {
    "duration": 54,
    "start_time": "2023-07-29T15:30:06.037Z"
   },
   {
    "duration": 52,
    "start_time": "2023-07-29T15:30:06.094Z"
   },
   {
    "duration": 172,
    "start_time": "2023-07-29T15:30:06.147Z"
   },
   {
    "duration": 26,
    "start_time": "2023-07-29T15:30:06.321Z"
   },
   {
    "duration": 165,
    "start_time": "2023-07-29T15:30:06.350Z"
   },
   {
    "duration": 418,
    "start_time": "2023-07-29T15:30:06.517Z"
   },
   {
    "duration": 478,
    "start_time": "2023-07-29T15:30:06.938Z"
   },
   {
    "duration": 634,
    "start_time": "2023-07-29T15:30:07.420Z"
   },
   {
    "duration": 29,
    "start_time": "2023-07-29T15:30:08.056Z"
   },
   {
    "duration": 47,
    "start_time": "2023-07-29T15:30:08.087Z"
   },
   {
    "duration": 402,
    "start_time": "2023-07-29T15:30:08.137Z"
   },
   {
    "duration": 341,
    "start_time": "2023-07-29T15:30:08.541Z"
   },
   {
    "duration": 374,
    "start_time": "2023-07-29T15:30:08.884Z"
   },
   {
    "duration": 1657,
    "start_time": "2023-08-01T19:28:30.983Z"
   },
   {
    "duration": 780,
    "start_time": "2023-08-01T19:28:32.642Z"
   },
   {
    "duration": 2,
    "start_time": "2023-08-01T19:28:33.424Z"
   },
   {
    "duration": 64,
    "start_time": "2023-08-01T19:28:33.429Z"
   },
   {
    "duration": 40,
    "start_time": "2023-08-01T19:28:33.495Z"
   },
   {
    "duration": 146,
    "start_time": "2023-08-01T19:28:33.537Z"
   },
   {
    "duration": 26,
    "start_time": "2023-08-01T19:28:33.685Z"
   },
   {
    "duration": 123,
    "start_time": "2023-08-01T19:28:33.713Z"
   },
   {
    "duration": 374,
    "start_time": "2023-08-01T19:28:33.838Z"
   },
   {
    "duration": 361,
    "start_time": "2023-08-01T19:28:34.215Z"
   },
   {
    "duration": 442,
    "start_time": "2023-08-01T19:28:34.578Z"
   },
   {
    "duration": 17,
    "start_time": "2023-08-01T19:28:35.022Z"
   },
   {
    "duration": 51,
    "start_time": "2023-08-01T19:28:35.041Z"
   },
   {
    "duration": 389,
    "start_time": "2023-08-01T19:28:35.094Z"
   },
   {
    "duration": 315,
    "start_time": "2023-08-01T19:28:35.485Z"
   },
   {
    "duration": 319,
    "start_time": "2023-08-01T19:28:35.802Z"
   },
   {
    "duration": 147,
    "start_time": "2023-08-01T19:28:36.123Z"
   },
   {
    "duration": 222,
    "start_time": "2023-08-01T19:30:24.350Z"
   },
   {
    "duration": 4,
    "start_time": "2023-08-01T19:30:59.231Z"
   },
   {
    "duration": 385,
    "start_time": "2023-08-01T19:30:59.236Z"
   },
   {
    "duration": 3,
    "start_time": "2023-08-01T19:30:59.622Z"
   },
   {
    "duration": 31,
    "start_time": "2023-08-01T19:30:59.627Z"
   },
   {
    "duration": 44,
    "start_time": "2023-08-01T19:30:59.660Z"
   },
   {
    "duration": 111,
    "start_time": "2023-08-01T19:30:59.706Z"
   },
   {
    "duration": 21,
    "start_time": "2023-08-01T19:30:59.819Z"
   },
   {
    "duration": 132,
    "start_time": "2023-08-01T19:30:59.841Z"
   },
   {
    "duration": 365,
    "start_time": "2023-08-01T19:30:59.975Z"
   },
   {
    "duration": 383,
    "start_time": "2023-08-01T19:31:00.342Z"
   },
   {
    "duration": 393,
    "start_time": "2023-08-01T19:31:00.727Z"
   },
   {
    "duration": 14,
    "start_time": "2023-08-01T19:31:01.122Z"
   },
   {
    "duration": 69,
    "start_time": "2023-08-01T19:31:01.139Z"
   },
   {
    "duration": 368,
    "start_time": "2023-08-01T19:31:01.211Z"
   },
   {
    "duration": 431,
    "start_time": "2023-08-01T19:31:01.581Z"
   },
   {
    "duration": 318,
    "start_time": "2023-08-01T19:31:02.014Z"
   },
   {
    "duration": 442,
    "start_time": "2023-08-01T19:31:02.334Z"
   },
   {
    "duration": 288,
    "start_time": "2023-08-01T19:37:43.393Z"
   },
   {
    "duration": 3,
    "start_time": "2023-08-01T19:38:53.207Z"
   },
   {
    "duration": 375,
    "start_time": "2023-08-01T19:38:53.212Z"
   },
   {
    "duration": 3,
    "start_time": "2023-08-01T19:38:53.589Z"
   },
   {
    "duration": 37,
    "start_time": "2023-08-01T19:38:53.594Z"
   },
   {
    "duration": 40,
    "start_time": "2023-08-01T19:38:53.633Z"
   },
   {
    "duration": 117,
    "start_time": "2023-08-01T19:38:53.674Z"
   },
   {
    "duration": 22,
    "start_time": "2023-08-01T19:38:53.793Z"
   },
   {
    "duration": 117,
    "start_time": "2023-08-01T19:38:53.817Z"
   },
   {
    "duration": 335,
    "start_time": "2023-08-01T19:38:53.936Z"
   },
   {
    "duration": 336,
    "start_time": "2023-08-01T19:38:54.273Z"
   },
   {
    "duration": 361,
    "start_time": "2023-08-01T19:38:54.611Z"
   },
   {
    "duration": 12,
    "start_time": "2023-08-01T19:38:54.974Z"
   },
   {
    "duration": 29,
    "start_time": "2023-08-01T19:38:54.988Z"
   },
   {
    "duration": 356,
    "start_time": "2023-08-01T19:38:55.019Z"
   },
   {
    "duration": 298,
    "start_time": "2023-08-01T19:38:55.376Z"
   },
   {
    "duration": 306,
    "start_time": "2023-08-01T19:38:55.675Z"
   },
   {
    "duration": 393,
    "start_time": "2023-08-01T19:38:55.983Z"
   },
   {
    "duration": 321,
    "start_time": "2023-08-01T19:39:23.951Z"
   },
   {
    "duration": 397,
    "start_time": "2023-08-01T19:39:35.680Z"
   },
   {
    "duration": 343,
    "start_time": "2023-08-01T19:40:24.532Z"
   },
   {
    "duration": 345,
    "start_time": "2023-08-01T19:40:30.038Z"
   },
   {
    "duration": 269,
    "start_time": "2023-08-01T19:40:35.215Z"
   },
   {
    "duration": 339,
    "start_time": "2023-08-01T19:51:05.739Z"
   },
   {
    "duration": 401,
    "start_time": "2023-08-01T19:52:50.280Z"
   },
   {
    "duration": 31,
    "start_time": "2023-08-01T19:54:01.968Z"
   },
   {
    "duration": 103,
    "start_time": "2023-08-01T19:54:40.449Z"
   },
   {
    "duration": 236,
    "start_time": "2023-08-01T19:54:52.634Z"
   },
   {
    "duration": 2070,
    "start_time": "2023-08-01T19:55:10.161Z"
   },
   {
    "duration": 4,
    "start_time": "2023-08-01T19:55:15.882Z"
   },
   {
    "duration": 428,
    "start_time": "2023-08-01T19:55:15.889Z"
   },
   {
    "duration": 3,
    "start_time": "2023-08-01T19:55:16.318Z"
   },
   {
    "duration": 35,
    "start_time": "2023-08-01T19:55:16.323Z"
   },
   {
    "duration": 61,
    "start_time": "2023-08-01T19:55:16.359Z"
   },
   {
    "duration": 129,
    "start_time": "2023-08-01T19:55:16.421Z"
   },
   {
    "duration": 44,
    "start_time": "2023-08-01T19:55:16.552Z"
   },
   {
    "duration": 125,
    "start_time": "2023-08-01T19:55:16.598Z"
   },
   {
    "duration": 396,
    "start_time": "2023-08-01T19:55:16.725Z"
   },
   {
    "duration": 372,
    "start_time": "2023-08-01T19:55:17.123Z"
   },
   {
    "duration": 389,
    "start_time": "2023-08-01T19:55:17.497Z"
   },
   {
    "duration": 17,
    "start_time": "2023-08-01T19:55:17.889Z"
   },
   {
    "duration": 43,
    "start_time": "2023-08-01T19:55:17.909Z"
   },
   {
    "duration": 361,
    "start_time": "2023-08-01T19:55:17.955Z"
   },
   {
    "duration": 336,
    "start_time": "2023-08-01T19:55:18.318Z"
   },
   {
    "duration": 360,
    "start_time": "2023-08-01T19:55:18.656Z"
   },
   {
    "duration": 267,
    "start_time": "2023-08-01T19:55:19.018Z"
   },
   {
    "duration": 3,
    "start_time": "2023-08-01T19:56:23.333Z"
   },
   {
    "duration": 451,
    "start_time": "2023-08-01T19:56:23.338Z"
   },
   {
    "duration": 6,
    "start_time": "2023-08-01T19:56:23.792Z"
   },
   {
    "duration": 32,
    "start_time": "2023-08-01T19:56:23.800Z"
   },
   {
    "duration": 73,
    "start_time": "2023-08-01T19:56:23.834Z"
   },
   {
    "duration": 136,
    "start_time": "2023-08-01T19:56:23.909Z"
   },
   {
    "duration": 43,
    "start_time": "2023-08-01T19:56:24.048Z"
   },
   {
    "duration": 130,
    "start_time": "2023-08-01T19:56:24.093Z"
   },
   {
    "duration": 375,
    "start_time": "2023-08-01T19:56:24.225Z"
   },
   {
    "duration": 459,
    "start_time": "2023-08-01T19:56:24.602Z"
   },
   {
    "duration": 353,
    "start_time": "2023-08-01T19:56:25.063Z"
   },
   {
    "duration": 12,
    "start_time": "2023-08-01T19:56:25.418Z"
   },
   {
    "duration": 41,
    "start_time": "2023-08-01T19:56:25.432Z"
   },
   {
    "duration": 328,
    "start_time": "2023-08-01T19:56:25.476Z"
   },
   {
    "duration": 319,
    "start_time": "2023-08-01T19:56:25.807Z"
   },
   {
    "duration": 395,
    "start_time": "2023-08-01T19:56:26.128Z"
   },
   {
    "duration": 364,
    "start_time": "2023-08-01T19:56:26.525Z"
   },
   {
    "duration": 5,
    "start_time": "2023-08-01T20:51:10.596Z"
   },
   {
    "duration": 5,
    "start_time": "2023-08-01T20:51:28.203Z"
   },
   {
    "duration": 3,
    "start_time": "2023-08-01T21:13:35.201Z"
   },
   {
    "duration": 1746,
    "start_time": "2023-08-02T13:14:35.989Z"
   },
   {
    "duration": 1702,
    "start_time": "2023-08-02T13:14:37.737Z"
   },
   {
    "duration": 2,
    "start_time": "2023-08-02T13:14:39.441Z"
   },
   {
    "duration": 48,
    "start_time": "2023-08-02T13:14:39.445Z"
   },
   {
    "duration": 38,
    "start_time": "2023-08-02T13:14:39.495Z"
   },
   {
    "duration": 162,
    "start_time": "2023-08-02T13:14:39.534Z"
   },
   {
    "duration": 28,
    "start_time": "2023-08-02T13:14:39.698Z"
   },
   {
    "duration": 143,
    "start_time": "2023-08-02T13:14:39.728Z"
   },
   {
    "duration": 383,
    "start_time": "2023-08-02T13:14:39.872Z"
   },
   {
    "duration": 370,
    "start_time": "2023-08-02T13:14:40.257Z"
   },
   {
    "duration": 466,
    "start_time": "2023-08-02T13:14:40.628Z"
   },
   {
    "duration": 18,
    "start_time": "2023-08-02T13:14:41.096Z"
   },
   {
    "duration": 37,
    "start_time": "2023-08-02T13:14:41.116Z"
   },
   {
    "duration": 357,
    "start_time": "2023-08-02T13:14:41.166Z"
   },
   {
    "duration": 344,
    "start_time": "2023-08-02T13:14:41.525Z"
   },
   {
    "duration": 337,
    "start_time": "2023-08-02T13:14:41.871Z"
   },
   {
    "duration": 465,
    "start_time": "2023-08-02T13:14:42.210Z"
   },
   {
    "duration": 5,
    "start_time": "2023-08-02T13:14:42.677Z"
   },
   {
    "duration": 4,
    "start_time": "2023-08-02T13:15:26.751Z"
   },
   {
    "duration": 437,
    "start_time": "2023-08-02T13:15:26.757Z"
   },
   {
    "duration": 3,
    "start_time": "2023-08-02T13:15:27.196Z"
   },
   {
    "duration": 89,
    "start_time": "2023-08-02T13:15:27.201Z"
   },
   {
    "duration": 37,
    "start_time": "2023-08-02T13:15:27.292Z"
   },
   {
    "duration": 165,
    "start_time": "2023-08-02T13:15:27.331Z"
   },
   {
    "duration": 24,
    "start_time": "2023-08-02T13:15:27.497Z"
   },
   {
    "duration": 144,
    "start_time": "2023-08-02T13:15:27.523Z"
   },
   {
    "duration": 364,
    "start_time": "2023-08-02T13:15:27.669Z"
   },
   {
    "duration": 366,
    "start_time": "2023-08-02T13:15:28.035Z"
   },
   {
    "duration": 393,
    "start_time": "2023-08-02T13:15:28.403Z"
   },
   {
    "duration": 15,
    "start_time": "2023-08-02T13:15:28.798Z"
   },
   {
    "duration": 48,
    "start_time": "2023-08-02T13:15:28.815Z"
   },
   {
    "duration": 335,
    "start_time": "2023-08-02T13:15:28.869Z"
   },
   {
    "duration": 487,
    "start_time": "2023-08-02T13:15:29.206Z"
   },
   {
    "duration": 308,
    "start_time": "2023-08-02T13:15:29.695Z"
   },
   {
    "duration": 271,
    "start_time": "2023-08-02T13:15:30.005Z"
   },
   {
    "duration": 6,
    "start_time": "2023-08-02T13:15:30.368Z"
   },
   {
    "duration": 4,
    "start_time": "2023-08-02T13:16:51.540Z"
   },
   {
    "duration": 413,
    "start_time": "2023-08-02T13:16:51.546Z"
   },
   {
    "duration": 7,
    "start_time": "2023-08-02T13:16:51.961Z"
   },
   {
    "duration": 92,
    "start_time": "2023-08-02T13:16:51.969Z"
   },
   {
    "duration": 37,
    "start_time": "2023-08-02T13:16:52.064Z"
   },
   {
    "duration": 164,
    "start_time": "2023-08-02T13:16:52.103Z"
   },
   {
    "duration": 27,
    "start_time": "2023-08-02T13:16:52.270Z"
   },
   {
    "duration": 141,
    "start_time": "2023-08-02T13:16:52.299Z"
   },
   {
    "duration": 376,
    "start_time": "2023-08-02T13:16:52.441Z"
   },
   {
    "duration": 390,
    "start_time": "2023-08-02T13:16:52.819Z"
   },
   {
    "duration": 381,
    "start_time": "2023-08-02T13:16:53.212Z"
   },
   {
    "duration": 14,
    "start_time": "2023-08-02T13:16:53.595Z"
   },
   {
    "duration": 43,
    "start_time": "2023-08-02T13:16:53.611Z"
   },
   {
    "duration": 366,
    "start_time": "2023-08-02T13:16:53.666Z"
   },
   {
    "duration": 348,
    "start_time": "2023-08-02T13:16:54.034Z"
   },
   {
    "duration": 306,
    "start_time": "2023-08-02T13:16:54.385Z"
   },
   {
    "duration": 377,
    "start_time": "2023-08-02T13:16:54.693Z"
   },
   {
    "duration": 3,
    "start_time": "2023-08-02T13:16:55.072Z"
   },
   {
    "duration": 4,
    "start_time": "2023-08-02T13:18:41.052Z"
   },
   {
    "duration": 418,
    "start_time": "2023-08-02T13:18:41.058Z"
   },
   {
    "duration": 3,
    "start_time": "2023-08-02T13:18:41.478Z"
   },
   {
    "duration": 333,
    "start_time": "2023-08-02T13:18:41.483Z"
   },
   {
    "duration": 55,
    "start_time": "2023-08-02T13:18:41.818Z"
   },
   {
    "duration": 163,
    "start_time": "2023-08-02T13:18:41.875Z"
   },
   {
    "duration": 38,
    "start_time": "2023-08-02T13:18:42.040Z"
   },
   {
    "duration": 131,
    "start_time": "2023-08-02T13:18:42.080Z"
   },
   {
    "duration": 372,
    "start_time": "2023-08-02T13:18:42.213Z"
   },
   {
    "duration": 385,
    "start_time": "2023-08-02T13:18:42.587Z"
   },
   {
    "duration": 378,
    "start_time": "2023-08-02T13:18:42.974Z"
   },
   {
    "duration": 17,
    "start_time": "2023-08-02T13:18:43.354Z"
   },
   {
    "duration": 29,
    "start_time": "2023-08-02T13:18:43.373Z"
   },
   {
    "duration": 384,
    "start_time": "2023-08-02T13:18:43.403Z"
   },
   {
    "duration": 346,
    "start_time": "2023-08-02T13:18:43.789Z"
   },
   {
    "duration": 351,
    "start_time": "2023-08-02T13:18:44.137Z"
   },
   {
    "duration": 383,
    "start_time": "2023-08-02T13:18:44.490Z"
   },
   {
    "duration": 5,
    "start_time": "2023-08-02T13:18:44.875Z"
   },
   {
    "duration": 3,
    "start_time": "2023-08-02T13:26:10.782Z"
   },
   {
    "duration": 422,
    "start_time": "2023-08-02T13:26:10.788Z"
   },
   {
    "duration": 4,
    "start_time": "2023-08-02T13:26:11.212Z"
   },
   {
    "duration": 193,
    "start_time": "2023-08-02T13:26:11.217Z"
   },
   {
    "duration": 141,
    "start_time": "2023-08-02T13:26:11.412Z"
   },
   {
    "duration": 0,
    "start_time": "2023-08-02T13:26:11.555Z"
   },
   {
    "duration": 0,
    "start_time": "2023-08-02T13:26:11.556Z"
   },
   {
    "duration": 0,
    "start_time": "2023-08-02T13:26:11.557Z"
   },
   {
    "duration": 0,
    "start_time": "2023-08-02T13:26:11.558Z"
   },
   {
    "duration": 0,
    "start_time": "2023-08-02T13:26:11.559Z"
   },
   {
    "duration": 0,
    "start_time": "2023-08-02T13:26:11.567Z"
   },
   {
    "duration": 0,
    "start_time": "2023-08-02T13:26:11.568Z"
   },
   {
    "duration": 0,
    "start_time": "2023-08-02T13:26:11.569Z"
   },
   {
    "duration": 0,
    "start_time": "2023-08-02T13:26:11.570Z"
   },
   {
    "duration": 0,
    "start_time": "2023-08-02T13:26:11.570Z"
   },
   {
    "duration": 0,
    "start_time": "2023-08-02T13:26:11.571Z"
   },
   {
    "duration": 0,
    "start_time": "2023-08-02T13:26:11.572Z"
   },
   {
    "duration": 0,
    "start_time": "2023-08-02T13:26:11.573Z"
   },
   {
    "duration": 178,
    "start_time": "2023-08-02T13:26:48.337Z"
   },
   {
    "duration": 3,
    "start_time": "2023-08-02T13:38:56.748Z"
   },
   {
    "duration": 381,
    "start_time": "2023-08-02T13:38:57.650Z"
   },
   {
    "duration": 8,
    "start_time": "2023-08-02T13:38:58.847Z"
   },
   {
    "duration": 177,
    "start_time": "2023-08-02T13:39:00.160Z"
   },
   {
    "duration": 4,
    "start_time": "2023-08-02T13:39:33.062Z"
   },
   {
    "duration": 168,
    "start_time": "2023-08-02T13:39:54.151Z"
   },
   {
    "duration": 163,
    "start_time": "2023-08-02T13:41:37.105Z"
   },
   {
    "duration": 763,
    "start_time": "2023-08-02T13:44:42.215Z"
   },
   {
    "duration": 1083,
    "start_time": "2023-08-02T13:45:02.835Z"
   },
   {
    "duration": 398,
    "start_time": "2023-08-02T13:50:32.237Z"
   },
   {
    "duration": 403,
    "start_time": "2023-08-02T13:51:09.586Z"
   },
   {
    "duration": 942,
    "start_time": "2023-08-02T13:52:01.247Z"
   },
   {
    "duration": 1007,
    "start_time": "2023-08-02T13:52:26.419Z"
   },
   {
    "duration": 68,
    "start_time": "2023-08-02T13:53:31.240Z"
   },
   {
    "duration": 960,
    "start_time": "2023-08-02T13:53:40.814Z"
   },
   {
    "duration": 157,
    "start_time": "2023-08-02T13:55:47.317Z"
   },
   {
    "duration": 3,
    "start_time": "2023-08-02T14:00:24.767Z"
   },
   {
    "duration": 153,
    "start_time": "2023-08-02T14:00:26.471Z"
   },
   {
    "duration": 129,
    "start_time": "2023-08-02T14:00:40.162Z"
   },
   {
    "duration": 27,
    "start_time": "2023-08-02T14:00:44.874Z"
   },
   {
    "duration": 445,
    "start_time": "2023-08-02T14:00:58.298Z"
   },
   {
    "duration": 375,
    "start_time": "2023-08-02T14:01:01.627Z"
   },
   {
    "duration": 388,
    "start_time": "2023-08-02T14:01:03.646Z"
   },
   {
    "duration": 15,
    "start_time": "2023-08-02T14:01:10.794Z"
   },
   {
    "duration": 22,
    "start_time": "2023-08-02T14:01:12.543Z"
   },
   {
    "duration": 331,
    "start_time": "2023-08-02T14:01:17.154Z"
   },
   {
    "duration": 300,
    "start_time": "2023-08-02T14:01:19.095Z"
   },
   {
    "duration": 308,
    "start_time": "2023-08-02T14:01:20.859Z"
   },
   {
    "duration": 3,
    "start_time": "2023-08-02T14:03:41.854Z"
   },
   {
    "duration": 376,
    "start_time": "2023-08-02T14:03:41.860Z"
   },
   {
    "duration": 3,
    "start_time": "2023-08-02T14:03:42.239Z"
   },
   {
    "duration": 174,
    "start_time": "2023-08-02T14:03:42.244Z"
   },
   {
    "duration": 1030,
    "start_time": "2023-08-02T14:03:42.419Z"
   },
   {
    "duration": 0,
    "start_time": "2023-08-02T14:03:43.451Z"
   },
   {
    "duration": 0,
    "start_time": "2023-08-02T14:03:43.452Z"
   },
   {
    "duration": 0,
    "start_time": "2023-08-02T14:03:43.454Z"
   },
   {
    "duration": 0,
    "start_time": "2023-08-02T14:03:43.455Z"
   },
   {
    "duration": 0,
    "start_time": "2023-08-02T14:03:43.456Z"
   },
   {
    "duration": 0,
    "start_time": "2023-08-02T14:03:43.457Z"
   },
   {
    "duration": 0,
    "start_time": "2023-08-02T14:03:43.458Z"
   },
   {
    "duration": 0,
    "start_time": "2023-08-02T14:03:43.460Z"
   },
   {
    "duration": 0,
    "start_time": "2023-08-02T14:03:43.461Z"
   },
   {
    "duration": 0,
    "start_time": "2023-08-02T14:03:43.462Z"
   },
   {
    "duration": 0,
    "start_time": "2023-08-02T14:03:43.464Z"
   },
   {
    "duration": 3,
    "start_time": "2023-08-02T14:05:34.531Z"
   },
   {
    "duration": 407,
    "start_time": "2023-08-02T14:05:34.536Z"
   },
   {
    "duration": 6,
    "start_time": "2023-08-02T14:05:34.945Z"
   },
   {
    "duration": 177,
    "start_time": "2023-08-02T14:05:34.954Z"
   },
   {
    "duration": 171,
    "start_time": "2023-08-02T14:05:35.134Z"
   },
   {
    "duration": 24,
    "start_time": "2023-08-02T14:05:35.306Z"
   },
   {
    "duration": 351,
    "start_time": "2023-08-02T14:05:35.332Z"
   },
   {
    "duration": 493,
    "start_time": "2023-08-02T14:05:35.686Z"
   },
   {
    "duration": 345,
    "start_time": "2023-08-02T14:05:36.181Z"
   },
   {
    "duration": 15,
    "start_time": "2023-08-02T14:05:36.528Z"
   },
   {
    "duration": 44,
    "start_time": "2023-08-02T14:05:36.545Z"
   },
   {
    "duration": 317,
    "start_time": "2023-08-02T14:05:36.591Z"
   },
   {
    "duration": 344,
    "start_time": "2023-08-02T14:05:36.910Z"
   },
   {
    "duration": 328,
    "start_time": "2023-08-02T14:05:37.258Z"
   },
   {
    "duration": 293,
    "start_time": "2023-08-02T14:05:37.588Z"
   },
   {
    "duration": 91,
    "start_time": "2023-08-02T14:05:37.883Z"
   },
   {
    "duration": 19,
    "start_time": "2023-08-02T14:08:48.591Z"
   },
   {
    "duration": 15,
    "start_time": "2023-08-02T14:09:17.739Z"
   },
   {
    "duration": 3,
    "start_time": "2023-08-02T14:09:33.633Z"
   },
   {
    "duration": 437,
    "start_time": "2023-08-02T14:09:33.638Z"
   },
   {
    "duration": 4,
    "start_time": "2023-08-02T14:09:34.078Z"
   },
   {
    "duration": 203,
    "start_time": "2023-08-02T14:09:34.084Z"
   },
   {
    "duration": 143,
    "start_time": "2023-08-02T14:09:34.290Z"
   },
   {
    "duration": 51,
    "start_time": "2023-08-02T14:09:34.435Z"
   },
   {
    "duration": 0,
    "start_time": "2023-08-02T14:09:34.488Z"
   },
   {
    "duration": 0,
    "start_time": "2023-08-02T14:09:34.489Z"
   },
   {
    "duration": 0,
    "start_time": "2023-08-02T14:09:34.490Z"
   },
   {
    "duration": 0,
    "start_time": "2023-08-02T14:09:34.491Z"
   },
   {
    "duration": 0,
    "start_time": "2023-08-02T14:09:34.492Z"
   },
   {
    "duration": 0,
    "start_time": "2023-08-02T14:09:34.493Z"
   },
   {
    "duration": 0,
    "start_time": "2023-08-02T14:09:34.494Z"
   },
   {
    "duration": 0,
    "start_time": "2023-08-02T14:09:34.495Z"
   },
   {
    "duration": 0,
    "start_time": "2023-08-02T14:09:34.496Z"
   },
   {
    "duration": 0,
    "start_time": "2023-08-02T14:09:34.498Z"
   },
   {
    "duration": 18,
    "start_time": "2023-08-02T14:09:50.260Z"
   },
   {
    "duration": 4,
    "start_time": "2023-08-02T14:09:52.993Z"
   },
   {
    "duration": 425,
    "start_time": "2023-08-02T14:09:53.000Z"
   },
   {
    "duration": 4,
    "start_time": "2023-08-02T14:09:53.427Z"
   },
   {
    "duration": 183,
    "start_time": "2023-08-02T14:09:53.432Z"
   },
   {
    "duration": 156,
    "start_time": "2023-08-02T14:09:53.618Z"
   },
   {
    "duration": 27,
    "start_time": "2023-08-02T14:09:53.776Z"
   },
   {
    "duration": 429,
    "start_time": "2023-08-02T14:09:53.804Z"
   },
   {
    "duration": 371,
    "start_time": "2023-08-02T14:09:54.235Z"
   },
   {
    "duration": 539,
    "start_time": "2023-08-02T14:09:54.609Z"
   },
   {
    "duration": 18,
    "start_time": "2023-08-02T14:09:55.150Z"
   },
   {
    "duration": 81,
    "start_time": "2023-08-02T14:09:55.169Z"
   },
   {
    "duration": 348,
    "start_time": "2023-08-02T14:09:55.252Z"
   },
   {
    "duration": 325,
    "start_time": "2023-08-02T14:09:55.602Z"
   },
   {
    "duration": 342,
    "start_time": "2023-08-02T14:09:55.930Z"
   },
   {
    "duration": 397,
    "start_time": "2023-08-02T14:09:56.273Z"
   },
   {
    "duration": 3,
    "start_time": "2023-08-02T14:09:56.672Z"
   },
   {
    "duration": 5,
    "start_time": "2023-08-02T14:18:49.929Z"
   },
   {
    "duration": 241,
    "start_time": "2023-08-02T14:26:12.629Z"
   },
   {
    "duration": 3,
    "start_time": "2023-08-02T14:29:57.871Z"
   },
   {
    "duration": 4,
    "start_time": "2023-08-02T14:30:26.391Z"
   },
   {
    "duration": 4,
    "start_time": "2023-08-02T14:30:39.135Z"
   },
   {
    "duration": 7,
    "start_time": "2023-08-02T14:31:18.059Z"
   },
   {
    "duration": 87,
    "start_time": "2023-08-02T14:36:49.147Z"
   },
   {
    "duration": 4,
    "start_time": "2023-08-02T14:36:55.528Z"
   },
   {
    "duration": 4,
    "start_time": "2023-08-02T14:41:31.171Z"
   },
   {
    "duration": 477,
    "start_time": "2023-08-02T14:41:31.177Z"
   },
   {
    "duration": 4,
    "start_time": "2023-08-02T14:41:31.656Z"
   },
   {
    "duration": 251,
    "start_time": "2023-08-02T14:41:31.662Z"
   },
   {
    "duration": 180,
    "start_time": "2023-08-02T14:41:31.916Z"
   },
   {
    "duration": 29,
    "start_time": "2023-08-02T14:41:32.097Z"
   },
   {
    "duration": 484,
    "start_time": "2023-08-02T14:41:32.128Z"
   },
   {
    "duration": 442,
    "start_time": "2023-08-02T14:41:32.615Z"
   },
   {
    "duration": 442,
    "start_time": "2023-08-02T14:41:33.059Z"
   },
   {
    "duration": 16,
    "start_time": "2023-08-02T14:41:33.504Z"
   },
   {
    "duration": 49,
    "start_time": "2023-08-02T14:41:33.522Z"
   },
   {
    "duration": 339,
    "start_time": "2023-08-02T14:41:33.573Z"
   },
   {
    "duration": 488,
    "start_time": "2023-08-02T14:41:33.914Z"
   },
   {
    "duration": 301,
    "start_time": "2023-08-02T14:41:34.404Z"
   },
   {
    "duration": 5,
    "start_time": "2023-08-02T14:41:34.707Z"
   },
   {
    "duration": 357,
    "start_time": "2023-08-02T14:41:34.713Z"
   },
   {
    "duration": 4,
    "start_time": "2023-08-02T14:41:35.072Z"
   },
   {
    "duration": 11,
    "start_time": "2023-08-02T14:41:35.168Z"
   },
   {
    "duration": 14,
    "start_time": "2023-08-02T14:41:35.181Z"
   },
   {
    "duration": 4,
    "start_time": "2023-08-02T14:42:19.909Z"
   },
   {
    "duration": 4,
    "start_time": "2023-08-02T14:42:20.765Z"
   },
   {
    "duration": 3,
    "start_time": "2023-08-02T14:43:34.010Z"
   },
   {
    "duration": 5,
    "start_time": "2023-08-02T14:44:36.775Z"
   },
   {
    "duration": 3,
    "start_time": "2023-08-02T14:44:42.821Z"
   },
   {
    "duration": 426,
    "start_time": "2023-08-02T14:44:42.827Z"
   },
   {
    "duration": 4,
    "start_time": "2023-08-02T14:44:43.256Z"
   },
   {
    "duration": 205,
    "start_time": "2023-08-02T14:44:43.263Z"
   },
   {
    "duration": 137,
    "start_time": "2023-08-02T14:44:43.470Z"
   },
   {
    "duration": 25,
    "start_time": "2023-08-02T14:44:43.609Z"
   },
   {
    "duration": 395,
    "start_time": "2023-08-02T14:44:43.666Z"
   },
   {
    "duration": 383,
    "start_time": "2023-08-02T14:44:44.066Z"
   },
   {
    "duration": 365,
    "start_time": "2023-08-02T14:44:44.452Z"
   },
   {
    "duration": 20,
    "start_time": "2023-08-02T14:44:44.820Z"
   },
   {
    "duration": 54,
    "start_time": "2023-08-02T14:44:44.841Z"
   },
   {
    "duration": 390,
    "start_time": "2023-08-02T14:44:44.897Z"
   },
   {
    "duration": 316,
    "start_time": "2023-08-02T14:44:45.289Z"
   },
   {
    "duration": 373,
    "start_time": "2023-08-02T14:44:45.607Z"
   },
   {
    "duration": 4,
    "start_time": "2023-08-02T14:44:45.982Z"
   },
   {
    "duration": 286,
    "start_time": "2023-08-02T14:44:45.989Z"
   },
   {
    "duration": 92,
    "start_time": "2023-08-02T14:44:46.278Z"
   },
   {
    "duration": 110,
    "start_time": "2023-08-02T14:44:46.372Z"
   },
   {
    "duration": 28,
    "start_time": "2023-08-02T14:44:46.484Z"
   },
   {
    "duration": 14,
    "start_time": "2023-08-02T14:44:46.514Z"
   },
   {
    "duration": 4,
    "start_time": "2023-08-02T14:45:06.488Z"
   },
   {
    "duration": 15,
    "start_time": "2023-08-02T15:06:30.314Z"
   },
   {
    "duration": 4,
    "start_time": "2023-08-02T15:06:58.034Z"
   },
   {
    "duration": 437,
    "start_time": "2023-08-02T15:06:58.040Z"
   },
   {
    "duration": 3,
    "start_time": "2023-08-02T15:06:58.479Z"
   },
   {
    "duration": 331,
    "start_time": "2023-08-02T15:06:58.484Z"
   },
   {
    "duration": 152,
    "start_time": "2023-08-02T15:06:58.817Z"
   },
   {
    "duration": 27,
    "start_time": "2023-08-02T15:06:58.971Z"
   },
   {
    "duration": 398,
    "start_time": "2023-08-02T15:06:59.000Z"
   },
   {
    "duration": 391,
    "start_time": "2023-08-02T15:06:59.400Z"
   },
   {
    "duration": 368,
    "start_time": "2023-08-02T15:06:59.793Z"
   },
   {
    "duration": 14,
    "start_time": "2023-08-02T15:07:00.163Z"
   },
   {
    "duration": 71,
    "start_time": "2023-08-02T15:07:00.179Z"
   },
   {
    "duration": 331,
    "start_time": "2023-08-02T15:07:00.252Z"
   },
   {
    "duration": 301,
    "start_time": "2023-08-02T15:07:00.586Z"
   },
   {
    "duration": 305,
    "start_time": "2023-08-02T15:07:00.891Z"
   },
   {
    "duration": 5,
    "start_time": "2023-08-02T15:07:01.199Z"
   },
   {
    "duration": 366,
    "start_time": "2023-08-02T15:07:01.206Z"
   },
   {
    "duration": 6,
    "start_time": "2023-08-02T15:07:01.574Z"
   },
   {
    "duration": 183,
    "start_time": "2023-08-02T15:07:01.668Z"
   },
   {
    "duration": 280,
    "start_time": "2023-08-02T15:07:01.852Z"
   },
   {
    "duration": 282,
    "start_time": "2023-08-02T15:07:02.133Z"
   },
   {
    "duration": 75,
    "start_time": "2023-08-02T15:07:02.417Z"
   },
   {
    "duration": 4,
    "start_time": "2023-08-02T15:07:47.765Z"
   },
   {
    "duration": 70,
    "start_time": "2023-08-02T15:20:44.233Z"
   },
   {
    "duration": 13,
    "start_time": "2023-08-02T15:22:20.600Z"
   },
   {
    "duration": 7,
    "start_time": "2023-08-02T15:22:41.852Z"
   },
   {
    "duration": 7,
    "start_time": "2023-08-02T15:23:42.390Z"
   },
   {
    "duration": 4,
    "start_time": "2023-08-02T15:32:27.287Z"
   },
   {
    "duration": 426,
    "start_time": "2023-08-02T15:32:27.294Z"
   },
   {
    "duration": 4,
    "start_time": "2023-08-02T15:32:27.722Z"
   },
   {
    "duration": 206,
    "start_time": "2023-08-02T15:32:27.728Z"
   },
   {
    "duration": 183,
    "start_time": "2023-08-02T15:32:27.937Z"
   },
   {
    "duration": 47,
    "start_time": "2023-08-02T15:32:28.122Z"
   },
   {
    "duration": 367,
    "start_time": "2023-08-02T15:32:28.177Z"
   },
   {
    "duration": 553,
    "start_time": "2023-08-02T15:32:28.546Z"
   },
   {
    "duration": 395,
    "start_time": "2023-08-02T15:32:29.100Z"
   },
   {
    "duration": 14,
    "start_time": "2023-08-02T15:32:29.497Z"
   },
   {
    "duration": 34,
    "start_time": "2023-08-02T15:32:29.513Z"
   },
   {
    "duration": 357,
    "start_time": "2023-08-02T15:32:29.549Z"
   },
   {
    "duration": 328,
    "start_time": "2023-08-02T15:32:29.908Z"
   },
   {
    "duration": 363,
    "start_time": "2023-08-02T15:32:30.239Z"
   },
   {
    "duration": 5,
    "start_time": "2023-08-02T15:32:30.604Z"
   },
   {
    "duration": 376,
    "start_time": "2023-08-02T15:32:30.611Z"
   },
   {
    "duration": 84,
    "start_time": "2023-08-02T15:32:30.989Z"
   },
   {
    "duration": 94,
    "start_time": "2023-08-02T15:32:31.076Z"
   },
   {
    "duration": 108,
    "start_time": "2023-08-02T15:32:31.173Z"
   },
   {
    "duration": 22,
    "start_time": "2023-08-02T15:32:31.283Z"
   },
   {
    "duration": 38,
    "start_time": "2023-08-02T15:32:31.307Z"
   },
   {
    "duration": 53,
    "start_time": "2023-08-02T15:32:31.347Z"
   },
   {
    "duration": 1736,
    "start_time": "2023-08-02T16:57:57.984Z"
   },
   {
    "duration": 930,
    "start_time": "2023-08-02T16:57:59.722Z"
   },
   {
    "duration": 3,
    "start_time": "2023-08-02T16:58:00.653Z"
   },
   {
    "duration": 193,
    "start_time": "2023-08-02T16:58:00.659Z"
   },
   {
    "duration": 164,
    "start_time": "2023-08-02T16:58:00.854Z"
   },
   {
    "duration": 33,
    "start_time": "2023-08-02T16:58:01.019Z"
   },
   {
    "duration": 390,
    "start_time": "2023-08-02T16:58:01.055Z"
   },
   {
    "duration": 343,
    "start_time": "2023-08-02T16:58:01.446Z"
   },
   {
    "duration": 437,
    "start_time": "2023-08-02T16:58:01.791Z"
   },
   {
    "duration": 16,
    "start_time": "2023-08-02T16:58:02.231Z"
   },
   {
    "duration": 76,
    "start_time": "2023-08-02T16:58:02.249Z"
   },
   {
    "duration": 421,
    "start_time": "2023-08-02T16:58:02.327Z"
   },
   {
    "duration": 290,
    "start_time": "2023-08-02T16:58:02.750Z"
   },
   {
    "duration": 292,
    "start_time": "2023-08-02T16:58:03.042Z"
   },
   {
    "duration": 5,
    "start_time": "2023-08-02T16:58:03.335Z"
   },
   {
    "duration": 570,
    "start_time": "2023-08-02T16:58:03.342Z"
   },
   {
    "duration": 5,
    "start_time": "2023-08-02T16:58:03.914Z"
   },
   {
    "duration": 592,
    "start_time": "2023-08-02T16:58:03.920Z"
   },
   {
    "duration": 638,
    "start_time": "2023-08-02T16:58:04.514Z"
   },
   {
    "duration": 80,
    "start_time": "2023-08-02T16:58:05.154Z"
   },
   {
    "duration": 32,
    "start_time": "2023-08-02T16:58:05.236Z"
   },
   {
    "duration": 46,
    "start_time": "2023-08-02T16:58:05.270Z"
   },
   {
    "duration": 116,
    "start_time": "2023-08-02T17:16:39.287Z"
   },
   {
    "duration": 23,
    "start_time": "2023-08-02T17:26:46.205Z"
   },
   {
    "duration": 14,
    "start_time": "2023-08-02T17:34:15.060Z"
   },
   {
    "duration": 15,
    "start_time": "2023-08-02T17:34:43.643Z"
   },
   {
    "duration": 3,
    "start_time": "2023-08-02T17:42:22.171Z"
   },
   {
    "duration": 412,
    "start_time": "2023-08-02T17:42:22.176Z"
   },
   {
    "duration": 3,
    "start_time": "2023-08-02T17:42:22.590Z"
   },
   {
    "duration": 254,
    "start_time": "2023-08-02T17:42:22.594Z"
   },
   {
    "duration": 166,
    "start_time": "2023-08-02T17:42:22.849Z"
   },
   {
    "duration": 26,
    "start_time": "2023-08-02T17:42:23.017Z"
   },
   {
    "duration": 363,
    "start_time": "2023-08-02T17:42:23.045Z"
   },
   {
    "duration": 342,
    "start_time": "2023-08-02T17:42:23.410Z"
   },
   {
    "duration": 341,
    "start_time": "2023-08-02T17:42:23.755Z"
   },
   {
    "duration": 20,
    "start_time": "2023-08-02T17:42:24.097Z"
   },
   {
    "duration": 88,
    "start_time": "2023-08-02T17:42:24.119Z"
   },
   {
    "duration": 408,
    "start_time": "2023-08-02T17:42:24.208Z"
   },
   {
    "duration": 442,
    "start_time": "2023-08-02T17:42:24.618Z"
   },
   {
    "duration": 331,
    "start_time": "2023-08-02T17:42:25.062Z"
   },
   {
    "duration": 4,
    "start_time": "2023-08-02T17:42:25.395Z"
   },
   {
    "duration": 411,
    "start_time": "2023-08-02T17:42:25.409Z"
   },
   {
    "duration": 103,
    "start_time": "2023-08-02T17:42:25.909Z"
   },
   {
    "duration": 88,
    "start_time": "2023-08-02T17:42:26.014Z"
   },
   {
    "duration": 30,
    "start_time": "2023-08-02T17:42:26.104Z"
   },
   {
    "duration": 11,
    "start_time": "2023-08-02T17:42:26.135Z"
   },
   {
    "duration": 6,
    "start_time": "2023-08-02T17:42:26.148Z"
   },
   {
    "duration": 12,
    "start_time": "2023-08-02T17:42:26.156Z"
   },
   {
    "duration": 18,
    "start_time": "2023-08-02T17:42:26.170Z"
   },
   {
    "duration": 27,
    "start_time": "2023-08-02T17:42:26.191Z"
   },
   {
    "duration": 24,
    "start_time": "2023-08-02T17:43:39.241Z"
   },
   {
    "duration": 3,
    "start_time": "2023-08-02T17:56:13.526Z"
   },
   {
    "duration": 443,
    "start_time": "2023-08-02T17:56:13.531Z"
   },
   {
    "duration": 4,
    "start_time": "2023-08-02T17:56:13.976Z"
   },
   {
    "duration": 226,
    "start_time": "2023-08-02T17:56:13.982Z"
   },
   {
    "duration": 142,
    "start_time": "2023-08-02T17:56:14.218Z"
   },
   {
    "duration": 26,
    "start_time": "2023-08-02T17:56:14.361Z"
   },
   {
    "duration": 379,
    "start_time": "2023-08-02T17:56:14.389Z"
   },
   {
    "duration": 384,
    "start_time": "2023-08-02T17:56:14.769Z"
   },
   {
    "duration": 355,
    "start_time": "2023-08-02T17:56:15.156Z"
   },
   {
    "duration": 21,
    "start_time": "2023-08-02T17:56:15.513Z"
   },
   {
    "duration": 24,
    "start_time": "2023-08-02T17:56:15.536Z"
   },
   {
    "duration": 357,
    "start_time": "2023-08-02T17:56:15.562Z"
   },
   {
    "duration": 335,
    "start_time": "2023-08-02T17:56:15.925Z"
   },
   {
    "duration": 342,
    "start_time": "2023-08-02T17:56:16.262Z"
   },
   {
    "duration": 13,
    "start_time": "2023-08-02T17:56:16.606Z"
   },
   {
    "duration": 314,
    "start_time": "2023-08-02T17:56:16.621Z"
   },
   {
    "duration": 6,
    "start_time": "2023-08-02T17:56:17.011Z"
   },
   {
    "duration": 119,
    "start_time": "2023-08-02T17:56:17.019Z"
   },
   {
    "duration": 17,
    "start_time": "2023-08-02T17:56:17.140Z"
   },
   {
    "duration": 6,
    "start_time": "2023-08-02T17:56:17.160Z"
   },
   {
    "duration": 11,
    "start_time": "2023-08-02T17:56:17.168Z"
   },
   {
    "duration": 10,
    "start_time": "2023-08-02T17:56:17.182Z"
   },
   {
    "duration": 43,
    "start_time": "2023-08-02T17:56:17.194Z"
   },
   {
    "duration": 5,
    "start_time": "2023-08-02T17:59:39.843Z"
   },
   {
    "duration": 4,
    "start_time": "2023-08-02T18:00:11.155Z"
   },
   {
    "duration": 5,
    "start_time": "2023-08-02T18:00:28.212Z"
   },
   {
    "duration": 11,
    "start_time": "2023-08-02T18:02:57.669Z"
   },
   {
    "duration": 7,
    "start_time": "2023-08-02T18:03:50.309Z"
   },
   {
    "duration": 4,
    "start_time": "2023-08-02T18:04:02.743Z"
   },
   {
    "duration": 417,
    "start_time": "2023-08-02T18:04:02.752Z"
   },
   {
    "duration": 4,
    "start_time": "2023-08-02T18:04:03.171Z"
   },
   {
    "duration": 302,
    "start_time": "2023-08-02T18:04:03.177Z"
   },
   {
    "duration": 151,
    "start_time": "2023-08-02T18:04:03.481Z"
   },
   {
    "duration": 25,
    "start_time": "2023-08-02T18:04:03.634Z"
   },
   {
    "duration": 348,
    "start_time": "2023-08-02T18:04:03.662Z"
   },
   {
    "duration": 335,
    "start_time": "2023-08-02T18:04:04.012Z"
   },
   {
    "duration": 331,
    "start_time": "2023-08-02T18:04:04.348Z"
   },
   {
    "duration": 15,
    "start_time": "2023-08-02T18:04:04.680Z"
   },
   {
    "duration": 63,
    "start_time": "2023-08-02T18:04:04.696Z"
   },
   {
    "duration": 328,
    "start_time": "2023-08-02T18:04:04.761Z"
   },
   {
    "duration": 312,
    "start_time": "2023-08-02T18:04:05.091Z"
   },
   {
    "duration": 302,
    "start_time": "2023-08-02T18:04:05.409Z"
   },
   {
    "duration": 4,
    "start_time": "2023-08-02T18:04:05.714Z"
   },
   {
    "duration": 292,
    "start_time": "2023-08-02T18:04:05.719Z"
   },
   {
    "duration": 96,
    "start_time": "2023-08-02T18:04:06.013Z"
   },
   {
    "duration": 4,
    "start_time": "2023-08-02T18:04:06.111Z"
   },
   {
    "duration": 93,
    "start_time": "2023-08-02T18:04:06.117Z"
   },
   {
    "duration": 10,
    "start_time": "2023-08-02T18:04:06.212Z"
   },
   {
    "duration": 10,
    "start_time": "2023-08-02T18:04:06.223Z"
   },
   {
    "duration": 12,
    "start_time": "2023-08-02T18:04:06.235Z"
   },
   {
    "duration": 14,
    "start_time": "2023-08-02T18:04:06.249Z"
   },
   {
    "duration": 26,
    "start_time": "2023-08-02T18:04:06.265Z"
   },
   {
    "duration": 40,
    "start_time": "2023-08-02T18:04:06.292Z"
   },
   {
    "duration": 6,
    "start_time": "2023-08-02T18:05:06.390Z"
   },
   {
    "duration": 7,
    "start_time": "2023-08-02T18:05:12.718Z"
   },
   {
    "duration": 5,
    "start_time": "2023-08-02T18:05:14.477Z"
   },
   {
    "duration": 4,
    "start_time": "2023-08-02T18:05:28.680Z"
   },
   {
    "duration": 3,
    "start_time": "2023-08-02T18:06:15.095Z"
   },
   {
    "duration": 3,
    "start_time": "2023-08-02T18:06:16.264Z"
   },
   {
    "duration": 4,
    "start_time": "2023-08-02T18:07:14.832Z"
   },
   {
    "duration": 3,
    "start_time": "2023-08-02T18:07:18.130Z"
   },
   {
    "duration": 360,
    "start_time": "2023-08-02T18:07:18.134Z"
   },
   {
    "duration": 3,
    "start_time": "2023-08-02T18:07:18.496Z"
   },
   {
    "duration": 191,
    "start_time": "2023-08-02T18:07:18.500Z"
   },
   {
    "duration": 138,
    "start_time": "2023-08-02T18:07:18.692Z"
   },
   {
    "duration": 24,
    "start_time": "2023-08-02T18:07:18.832Z"
   },
   {
    "duration": 329,
    "start_time": "2023-08-02T18:07:18.858Z"
   },
   {
    "duration": 476,
    "start_time": "2023-08-02T18:07:19.188Z"
   },
   {
    "duration": 328,
    "start_time": "2023-08-02T18:07:19.666Z"
   },
   {
    "duration": 17,
    "start_time": "2023-08-02T18:07:19.996Z"
   },
   {
    "duration": 27,
    "start_time": "2023-08-02T18:07:20.015Z"
   },
   {
    "duration": 291,
    "start_time": "2023-08-02T18:07:20.043Z"
   },
   {
    "duration": 264,
    "start_time": "2023-08-02T18:07:20.335Z"
   },
   {
    "duration": 298,
    "start_time": "2023-08-02T18:07:20.600Z"
   },
   {
    "duration": 12,
    "start_time": "2023-08-02T18:07:20.899Z"
   },
   {
    "duration": 397,
    "start_time": "2023-08-02T18:07:20.912Z"
   },
   {
    "duration": 5,
    "start_time": "2023-08-02T18:07:21.311Z"
   },
   {
    "duration": 100,
    "start_time": "2023-08-02T18:07:21.318Z"
   },
   {
    "duration": 9,
    "start_time": "2023-08-02T18:07:21.420Z"
   },
   {
    "duration": 7,
    "start_time": "2023-08-02T18:07:21.431Z"
   },
   {
    "duration": 11,
    "start_time": "2023-08-02T18:07:21.440Z"
   },
   {
    "duration": 18,
    "start_time": "2023-08-02T18:07:21.452Z"
   },
   {
    "duration": 12,
    "start_time": "2023-08-02T18:07:21.472Z"
   },
   {
    "duration": 10,
    "start_time": "2023-08-02T18:07:21.487Z"
   },
   {
    "duration": 10,
    "start_time": "2023-08-02T18:07:39.623Z"
   },
   {
    "duration": 8,
    "start_time": "2023-08-02T18:07:49.176Z"
   },
   {
    "duration": 5,
    "start_time": "2023-08-02T18:10:43.650Z"
   },
   {
    "duration": 4,
    "start_time": "2023-08-02T18:11:39.734Z"
   },
   {
    "duration": 374,
    "start_time": "2023-08-02T18:11:39.740Z"
   },
   {
    "duration": 3,
    "start_time": "2023-08-02T18:11:40.115Z"
   },
   {
    "duration": 190,
    "start_time": "2023-08-02T18:11:40.120Z"
   },
   {
    "duration": 131,
    "start_time": "2023-08-02T18:11:40.312Z"
   },
   {
    "duration": 25,
    "start_time": "2023-08-02T18:11:40.445Z"
   },
   {
    "duration": 338,
    "start_time": "2023-08-02T18:11:40.472Z"
   },
   {
    "duration": 379,
    "start_time": "2023-08-02T18:11:40.812Z"
   },
   {
    "duration": 442,
    "start_time": "2023-08-02T18:11:41.193Z"
   },
   {
    "duration": 15,
    "start_time": "2023-08-02T18:11:41.637Z"
   },
   {
    "duration": 70,
    "start_time": "2023-08-02T18:11:41.654Z"
   },
   {
    "duration": 329,
    "start_time": "2023-08-02T18:11:41.726Z"
   },
   {
    "duration": 313,
    "start_time": "2023-08-02T18:11:42.057Z"
   },
   {
    "duration": 329,
    "start_time": "2023-08-02T18:11:42.373Z"
   },
   {
    "duration": 7,
    "start_time": "2023-08-02T18:11:42.703Z"
   },
   {
    "duration": 399,
    "start_time": "2023-08-02T18:11:42.712Z"
   },
   {
    "duration": 96,
    "start_time": "2023-08-02T18:11:43.113Z"
   },
   {
    "duration": 19,
    "start_time": "2023-08-02T18:11:43.211Z"
   },
   {
    "duration": 51,
    "start_time": "2023-08-02T18:11:43.232Z"
   },
   {
    "duration": 23,
    "start_time": "2023-08-02T18:11:43.285Z"
   },
   {
    "duration": 29,
    "start_time": "2023-08-02T18:11:43.310Z"
   },
   {
    "duration": 77,
    "start_time": "2023-08-02T18:11:43.341Z"
   },
   {
    "duration": 4,
    "start_time": "2023-08-02T18:12:14.714Z"
   },
   {
    "duration": 3,
    "start_time": "2023-08-02T18:14:01.162Z"
   },
   {
    "duration": 394,
    "start_time": "2023-08-02T18:14:01.167Z"
   },
   {
    "duration": 3,
    "start_time": "2023-08-02T18:14:01.563Z"
   },
   {
    "duration": 188,
    "start_time": "2023-08-02T18:14:01.567Z"
   },
   {
    "duration": 130,
    "start_time": "2023-08-02T18:14:01.757Z"
   },
   {
    "duration": 43,
    "start_time": "2023-08-02T18:14:01.889Z"
   },
   {
    "duration": 341,
    "start_time": "2023-08-02T18:14:01.934Z"
   },
   {
    "duration": 345,
    "start_time": "2023-08-02T18:14:02.277Z"
   },
   {
    "duration": 307,
    "start_time": "2023-08-02T18:14:02.623Z"
   },
   {
    "duration": 14,
    "start_time": "2023-08-02T18:14:02.932Z"
   },
   {
    "duration": 303,
    "start_time": "2023-08-02T18:14:02.947Z"
   },
   {
    "duration": 470,
    "start_time": "2023-08-02T18:14:03.251Z"
   },
   {
    "duration": 295,
    "start_time": "2023-08-02T18:14:03.723Z"
   },
   {
    "duration": 288,
    "start_time": "2023-08-02T18:14:04.020Z"
   },
   {
    "duration": 4,
    "start_time": "2023-08-02T18:14:04.310Z"
   },
   {
    "duration": 202,
    "start_time": "2023-08-02T18:14:04.315Z"
   },
   {
    "duration": 99,
    "start_time": "2023-08-02T18:14:04.609Z"
   },
   {
    "duration": 92,
    "start_time": "2023-08-02T18:14:04.711Z"
   },
   {
    "duration": 21,
    "start_time": "2023-08-02T18:14:04.804Z"
   },
   {
    "duration": 12,
    "start_time": "2023-08-02T18:14:04.827Z"
   },
   {
    "duration": 11,
    "start_time": "2023-08-02T18:14:04.840Z"
   },
   {
    "duration": 3,
    "start_time": "2023-08-02T18:16:24.943Z"
   },
   {
    "duration": 367,
    "start_time": "2023-08-02T18:16:24.948Z"
   },
   {
    "duration": 3,
    "start_time": "2023-08-02T18:16:25.317Z"
   },
   {
    "duration": 164,
    "start_time": "2023-08-02T18:16:25.322Z"
   },
   {
    "duration": 139,
    "start_time": "2023-08-02T18:16:25.488Z"
   },
   {
    "duration": 26,
    "start_time": "2023-08-02T18:16:25.628Z"
   },
   {
    "duration": 413,
    "start_time": "2023-08-02T18:16:25.656Z"
   },
   {
    "duration": 344,
    "start_time": "2023-08-02T18:16:26.071Z"
   },
   {
    "duration": 338,
    "start_time": "2023-08-02T18:16:26.417Z"
   },
   {
    "duration": 13,
    "start_time": "2023-08-02T18:16:26.757Z"
   },
   {
    "duration": 39,
    "start_time": "2023-08-02T18:16:26.772Z"
   },
   {
    "duration": 315,
    "start_time": "2023-08-02T18:16:26.813Z"
   },
   {
    "duration": 291,
    "start_time": "2023-08-02T18:16:27.130Z"
   },
   {
    "duration": 421,
    "start_time": "2023-08-02T18:16:27.422Z"
   },
   {
    "duration": 5,
    "start_time": "2023-08-02T18:16:27.845Z"
   },
   {
    "duration": 357,
    "start_time": "2023-08-02T18:16:27.852Z"
   },
   {
    "duration": 6,
    "start_time": "2023-08-02T18:16:28.211Z"
   },
   {
    "duration": 121,
    "start_time": "2023-08-02T18:16:28.218Z"
   },
   {
    "duration": 16,
    "start_time": "2023-08-02T18:16:28.341Z"
   },
   {
    "duration": 13,
    "start_time": "2023-08-02T18:16:28.358Z"
   },
   {
    "duration": 9,
    "start_time": "2023-08-02T18:16:28.372Z"
   },
   {
    "duration": 3,
    "start_time": "2023-08-02T18:18:14.713Z"
   },
   {
    "duration": 377,
    "start_time": "2023-08-02T18:18:14.718Z"
   },
   {
    "duration": 3,
    "start_time": "2023-08-02T18:18:15.097Z"
   },
   {
    "duration": 176,
    "start_time": "2023-08-02T18:18:15.108Z"
   },
   {
    "duration": 153,
    "start_time": "2023-08-02T18:18:15.286Z"
   },
   {
    "duration": 26,
    "start_time": "2023-08-02T18:18:15.441Z"
   },
   {
    "duration": 335,
    "start_time": "2023-08-02T18:18:15.470Z"
   },
   {
    "duration": 441,
    "start_time": "2023-08-02T18:18:15.809Z"
   },
   {
    "duration": 328,
    "start_time": "2023-08-02T18:18:16.253Z"
   },
   {
    "duration": 15,
    "start_time": "2023-08-02T18:18:16.582Z"
   },
   {
    "duration": 24,
    "start_time": "2023-08-02T18:18:16.608Z"
   },
   {
    "duration": 314,
    "start_time": "2023-08-02T18:18:16.633Z"
   },
   {
    "duration": 312,
    "start_time": "2023-08-02T18:18:16.949Z"
   },
   {
    "duration": 351,
    "start_time": "2023-08-02T18:18:17.263Z"
   },
   {
    "duration": 7,
    "start_time": "2023-08-02T18:18:17.616Z"
   },
   {
    "duration": 294,
    "start_time": "2023-08-02T18:18:17.625Z"
   },
   {
    "duration": 89,
    "start_time": "2023-08-02T18:18:17.921Z"
   },
   {
    "duration": 106,
    "start_time": "2023-08-02T18:18:18.012Z"
   },
   {
    "duration": 5,
    "start_time": "2023-08-02T18:18:18.120Z"
   },
   {
    "duration": 8,
    "start_time": "2023-08-02T18:18:18.127Z"
   },
   {
    "duration": 4,
    "start_time": "2023-08-02T18:18:18.136Z"
   },
   {
    "duration": 1429,
    "start_time": "2023-08-02T18:42:27.022Z"
   },
   {
    "duration": 1485,
    "start_time": "2023-08-02T18:42:46.134Z"
   },
   {
    "duration": 1413,
    "start_time": "2023-08-02T18:43:43.167Z"
   },
   {
    "duration": 1418,
    "start_time": "2023-08-02T18:44:02.194Z"
   },
   {
    "duration": 4,
    "start_time": "2023-08-02T18:51:55.635Z"
   },
   {
    "duration": 6,
    "start_time": "2023-08-02T18:54:17.078Z"
   },
   {
    "duration": 6,
    "start_time": "2023-08-02T18:54:47.963Z"
   },
   {
    "duration": 5,
    "start_time": "2023-08-02T18:54:59.940Z"
   },
   {
    "duration": 6,
    "start_time": "2023-08-02T19:00:18.743Z"
   },
   {
    "duration": 7,
    "start_time": "2023-08-02T19:00:28.231Z"
   },
   {
    "duration": 6,
    "start_time": "2023-08-02T19:01:34.063Z"
   },
   {
    "duration": 1379,
    "start_time": "2023-08-02T19:02:50.768Z"
   },
   {
    "duration": 1366,
    "start_time": "2023-08-02T19:10:32.436Z"
   },
   {
    "duration": 1422,
    "start_time": "2023-08-02T19:11:13.005Z"
   },
   {
    "duration": 24,
    "start_time": "2023-08-02T19:27:07.301Z"
   },
   {
    "duration": 22,
    "start_time": "2023-08-02T19:28:18.024Z"
   },
   {
    "duration": 21,
    "start_time": "2023-08-02T19:29:07.368Z"
   },
   {
    "duration": 22,
    "start_time": "2023-08-02T19:39:05.070Z"
   },
   {
    "duration": 23,
    "start_time": "2023-08-02T19:39:59.798Z"
   },
   {
    "duration": 24,
    "start_time": "2023-08-02T19:40:25.399Z"
   },
   {
    "duration": 20,
    "start_time": "2023-08-02T19:40:34.655Z"
   },
   {
    "duration": 4,
    "start_time": "2023-08-02T19:40:45.876Z"
   },
   {
    "duration": 467,
    "start_time": "2023-08-02T19:40:45.883Z"
   },
   {
    "duration": 3,
    "start_time": "2023-08-02T19:40:46.352Z"
   },
   {
    "duration": 303,
    "start_time": "2023-08-02T19:40:46.356Z"
   },
   {
    "duration": 129,
    "start_time": "2023-08-02T19:40:46.661Z"
   },
   {
    "duration": 29,
    "start_time": "2023-08-02T19:40:46.809Z"
   },
   {
    "duration": 476,
    "start_time": "2023-08-02T19:40:46.840Z"
   },
   {
    "duration": 338,
    "start_time": "2023-08-02T19:40:47.318Z"
   },
   {
    "duration": 346,
    "start_time": "2023-08-02T19:40:47.657Z"
   },
   {
    "duration": 15,
    "start_time": "2023-08-02T19:40:48.005Z"
   },
   {
    "duration": 35,
    "start_time": "2023-08-02T19:40:48.022Z"
   },
   {
    "duration": 367,
    "start_time": "2023-08-02T19:40:48.058Z"
   },
   {
    "duration": 293,
    "start_time": "2023-08-02T19:40:48.427Z"
   },
   {
    "duration": 289,
    "start_time": "2023-08-02T19:40:48.723Z"
   },
   {
    "duration": 6,
    "start_time": "2023-08-02T19:40:49.014Z"
   },
   {
    "duration": 296,
    "start_time": "2023-08-02T19:40:49.022Z"
   },
   {
    "duration": 88,
    "start_time": "2023-08-02T19:40:49.320Z"
   },
   {
    "duration": 99,
    "start_time": "2023-08-02T19:40:49.411Z"
   },
   {
    "duration": 37,
    "start_time": "2023-08-02T19:40:49.512Z"
   },
   {
    "duration": 13,
    "start_time": "2023-08-02T19:40:49.551Z"
   },
   {
    "duration": 6,
    "start_time": "2023-08-02T19:40:49.566Z"
   },
   {
    "duration": 29,
    "start_time": "2023-08-02T19:40:49.573Z"
   },
   {
    "duration": 25,
    "start_time": "2023-08-02T19:41:04.123Z"
   },
   {
    "duration": 4890,
    "start_time": "2023-08-02T19:41:51.156Z"
   },
   {
    "duration": 4851,
    "start_time": "2023-08-02T19:44:00.210Z"
   },
   {
    "duration": 4498,
    "start_time": "2023-08-02T19:44:47.152Z"
   },
   {
    "duration": 4647,
    "start_time": "2023-08-02T19:45:04.882Z"
   },
   {
    "duration": 1508,
    "start_time": "2023-08-02T19:45:30.786Z"
   },
   {
    "duration": 1545,
    "start_time": "2023-08-02T19:45:50.738Z"
   },
   {
    "duration": 4329,
    "start_time": "2023-08-02T19:46:24.346Z"
   },
   {
    "duration": 1405,
    "start_time": "2023-08-02T19:52:10.047Z"
   },
   {
    "duration": 5,
    "start_time": "2023-08-02T19:56:39.155Z"
   },
   {
    "duration": 13,
    "start_time": "2023-08-02T19:57:23.424Z"
   },
   {
    "duration": 3,
    "start_time": "2023-08-02T19:59:13.077Z"
   },
   {
    "duration": 390,
    "start_time": "2023-08-02T19:59:13.083Z"
   },
   {
    "duration": 3,
    "start_time": "2023-08-02T19:59:13.474Z"
   },
   {
    "duration": 165,
    "start_time": "2023-08-02T19:59:13.479Z"
   },
   {
    "duration": 134,
    "start_time": "2023-08-02T19:59:13.645Z"
   },
   {
    "duration": 48,
    "start_time": "2023-08-02T19:59:13.780Z"
   },
   {
    "duration": 484,
    "start_time": "2023-08-02T19:59:13.829Z"
   },
   {
    "duration": 349,
    "start_time": "2023-08-02T19:59:14.314Z"
   },
   {
    "duration": 320,
    "start_time": "2023-08-02T19:59:14.666Z"
   },
   {
    "duration": 21,
    "start_time": "2023-08-02T19:59:14.987Z"
   },
   {
    "duration": 100,
    "start_time": "2023-08-02T19:59:15.010Z"
   },
   {
    "duration": 321,
    "start_time": "2023-08-02T19:59:15.111Z"
   },
   {
    "duration": 282,
    "start_time": "2023-08-02T19:59:15.433Z"
   },
   {
    "duration": 342,
    "start_time": "2023-08-02T19:59:15.717Z"
   },
   {
    "duration": 6,
    "start_time": "2023-08-02T19:59:16.061Z"
   },
   {
    "duration": 344,
    "start_time": "2023-08-02T19:59:16.069Z"
   },
   {
    "duration": 9,
    "start_time": "2023-08-02T19:59:16.415Z"
   },
   {
    "duration": 190,
    "start_time": "2023-08-02T19:59:16.426Z"
   },
   {
    "duration": 15,
    "start_time": "2023-08-02T19:59:16.617Z"
   },
   {
    "duration": 48,
    "start_time": "2023-08-02T19:59:16.634Z"
   },
   {
    "duration": 17,
    "start_time": "2023-08-02T19:59:16.684Z"
   },
   {
    "duration": 25,
    "start_time": "2023-08-02T19:59:16.703Z"
   },
   {
    "duration": 20,
    "start_time": "2023-08-02T19:59:16.730Z"
   },
   {
    "duration": 19,
    "start_time": "2023-08-02T20:09:18.648Z"
   },
   {
    "duration": 12,
    "start_time": "2023-08-02T20:09:45.458Z"
   },
   {
    "duration": 18,
    "start_time": "2023-08-02T20:10:02.630Z"
   },
   {
    "duration": 5,
    "start_time": "2023-08-02T20:11:12.569Z"
   },
   {
    "duration": 5,
    "start_time": "2023-08-02T20:11:34.905Z"
   },
   {
    "duration": 5,
    "start_time": "2023-08-02T20:12:11.146Z"
   },
   {
    "duration": 13,
    "start_time": "2023-08-02T20:12:12.161Z"
   },
   {
    "duration": 5,
    "start_time": "2023-08-02T20:13:28.267Z"
   },
   {
    "duration": 4,
    "start_time": "2023-08-02T20:14:04.621Z"
   },
   {
    "duration": 446,
    "start_time": "2023-08-02T20:14:04.627Z"
   },
   {
    "duration": 3,
    "start_time": "2023-08-02T20:14:05.075Z"
   },
   {
    "duration": 203,
    "start_time": "2023-08-02T20:14:05.081Z"
   },
   {
    "duration": 143,
    "start_time": "2023-08-02T20:14:05.309Z"
   },
   {
    "duration": 27,
    "start_time": "2023-08-02T20:14:05.454Z"
   },
   {
    "duration": 454,
    "start_time": "2023-08-02T20:14:05.483Z"
   },
   {
    "duration": 539,
    "start_time": "2023-08-02T20:14:05.939Z"
   },
   {
    "duration": 345,
    "start_time": "2023-08-02T20:14:06.479Z"
   },
   {
    "duration": 14,
    "start_time": "2023-08-02T20:14:06.826Z"
   },
   {
    "duration": 41,
    "start_time": "2023-08-02T20:14:06.841Z"
   },
   {
    "duration": 383,
    "start_time": "2023-08-02T20:14:06.884Z"
   },
   {
    "duration": 331,
    "start_time": "2023-08-02T20:14:07.269Z"
   },
   {
    "duration": 304,
    "start_time": "2023-08-02T20:14:07.608Z"
   },
   {
    "duration": 5,
    "start_time": "2023-08-02T20:14:07.914Z"
   },
   {
    "duration": 488,
    "start_time": "2023-08-02T20:14:07.920Z"
   },
   {
    "duration": 9,
    "start_time": "2023-08-02T20:14:08.411Z"
   },
   {
    "duration": 99,
    "start_time": "2023-08-02T20:14:08.422Z"
   },
   {
    "duration": 12,
    "start_time": "2023-08-02T20:14:08.523Z"
   },
   {
    "duration": 17,
    "start_time": "2023-08-02T20:14:08.537Z"
   },
   {
    "duration": 10,
    "start_time": "2023-08-02T20:14:08.556Z"
   },
   {
    "duration": 23,
    "start_time": "2023-08-02T20:14:08.568Z"
   },
   {
    "duration": 1487,
    "start_time": "2023-08-02T20:14:08.593Z"
   },
   {
    "duration": 2797,
    "start_time": "2023-08-02T20:14:40.635Z"
   },
   {
    "duration": 4251,
    "start_time": "2023-08-02T20:14:58.099Z"
   },
   {
    "duration": 4208,
    "start_time": "2023-08-02T20:15:27.288Z"
   },
   {
    "duration": 4179,
    "start_time": "2023-08-02T20:15:51.732Z"
   },
   {
    "duration": 4323,
    "start_time": "2023-08-02T20:17:59.924Z"
   },
   {
    "duration": 4230,
    "start_time": "2023-08-02T20:18:41.045Z"
   },
   {
    "duration": 4218,
    "start_time": "2023-08-02T20:18:57.166Z"
   },
   {
    "duration": 3,
    "start_time": "2023-08-02T20:21:40.962Z"
   },
   {
    "duration": 389,
    "start_time": "2023-08-02T20:21:40.992Z"
   },
   {
    "duration": 3,
    "start_time": "2023-08-02T20:21:41.383Z"
   },
   {
    "duration": 172,
    "start_time": "2023-08-02T20:21:41.387Z"
   },
   {
    "duration": 227,
    "start_time": "2023-08-02T20:21:41.561Z"
   },
   {
    "duration": 29,
    "start_time": "2023-08-02T20:21:41.808Z"
   },
   {
    "duration": 407,
    "start_time": "2023-08-02T20:21:41.839Z"
   },
   {
    "duration": 363,
    "start_time": "2023-08-02T20:21:42.248Z"
   },
   {
    "duration": 472,
    "start_time": "2023-08-02T20:21:42.613Z"
   },
   {
    "duration": 12,
    "start_time": "2023-08-02T20:21:43.087Z"
   },
   {
    "duration": 29,
    "start_time": "2023-08-02T20:21:43.101Z"
   },
   {
    "duration": 313,
    "start_time": "2023-08-02T20:21:43.131Z"
   },
   {
    "duration": 293,
    "start_time": "2023-08-02T20:21:43.446Z"
   },
   {
    "duration": 319,
    "start_time": "2023-08-02T20:21:43.741Z"
   },
   {
    "duration": 5,
    "start_time": "2023-08-02T20:21:44.063Z"
   },
   {
    "duration": 353,
    "start_time": "2023-08-02T20:21:44.069Z"
   },
   {
    "duration": 97,
    "start_time": "2023-08-02T20:21:44.424Z"
   },
   {
    "duration": 21,
    "start_time": "2023-08-02T20:21:44.609Z"
   },
   {
    "duration": 10,
    "start_time": "2023-08-02T20:21:44.632Z"
   },
   {
    "duration": 13,
    "start_time": "2023-08-02T20:21:44.644Z"
   },
   {
    "duration": 6,
    "start_time": "2023-08-02T20:21:44.659Z"
   },
   {
    "duration": 18,
    "start_time": "2023-08-02T20:21:44.667Z"
   },
   {
    "duration": 4042,
    "start_time": "2023-08-02T20:21:44.687Z"
   },
   {
    "duration": 4,
    "start_time": "2023-08-02T20:22:25.597Z"
   },
   {
    "duration": 407,
    "start_time": "2023-08-02T20:22:25.604Z"
   },
   {
    "duration": 4,
    "start_time": "2023-08-02T20:22:26.014Z"
   },
   {
    "duration": 215,
    "start_time": "2023-08-02T20:22:26.020Z"
   },
   {
    "duration": 153,
    "start_time": "2023-08-02T20:22:26.240Z"
   },
   {
    "duration": 27,
    "start_time": "2023-08-02T20:22:26.408Z"
   },
   {
    "duration": 371,
    "start_time": "2023-08-02T20:22:26.437Z"
   },
   {
    "duration": 357,
    "start_time": "2023-08-02T20:22:26.810Z"
   },
   {
    "duration": 337,
    "start_time": "2023-08-02T20:22:27.169Z"
   },
   {
    "duration": 14,
    "start_time": "2023-08-02T20:22:27.508Z"
   },
   {
    "duration": 31,
    "start_time": "2023-08-02T20:22:27.525Z"
   },
   {
    "duration": 414,
    "start_time": "2023-08-02T20:22:27.558Z"
   },
   {
    "duration": 425,
    "start_time": "2023-08-02T20:22:27.974Z"
   },
   {
    "duration": 304,
    "start_time": "2023-08-02T20:22:28.408Z"
   },
   {
    "duration": 6,
    "start_time": "2023-08-02T20:22:28.714Z"
   },
   {
    "duration": 297,
    "start_time": "2023-08-02T20:22:28.722Z"
   },
   {
    "duration": 93,
    "start_time": "2023-08-02T20:22:29.020Z"
   },
   {
    "duration": 91,
    "start_time": "2023-08-02T20:22:29.119Z"
   },
   {
    "duration": 8,
    "start_time": "2023-08-02T20:22:29.212Z"
   },
   {
    "duration": 11,
    "start_time": "2023-08-02T20:22:29.222Z"
   },
   {
    "duration": 5,
    "start_time": "2023-08-02T20:22:29.236Z"
   },
   {
    "duration": 11,
    "start_time": "2023-08-02T20:22:29.243Z"
   },
   {
    "duration": 4290,
    "start_time": "2023-08-02T20:22:29.256Z"
   },
   {
    "duration": 5,
    "start_time": "2023-08-02T20:25:26.458Z"
   },
   {
    "duration": 4197,
    "start_time": "2023-08-02T20:25:29.419Z"
   },
   {
    "duration": 8,
    "start_time": "2023-08-02T20:26:55.899Z"
   },
   {
    "duration": 4690,
    "start_time": "2023-08-02T20:26:57.763Z"
   },
   {
    "duration": 4,
    "start_time": "2023-08-02T20:30:58.739Z"
   },
   {
    "duration": 426,
    "start_time": "2023-08-02T20:30:58.746Z"
   },
   {
    "duration": 3,
    "start_time": "2023-08-02T20:30:59.173Z"
   },
   {
    "duration": 252,
    "start_time": "2023-08-02T20:30:59.178Z"
   },
   {
    "duration": 187,
    "start_time": "2023-08-02T20:30:59.434Z"
   },
   {
    "duration": 33,
    "start_time": "2023-08-02T20:30:59.623Z"
   },
   {
    "duration": 416,
    "start_time": "2023-08-02T20:30:59.658Z"
   },
   {
    "duration": 406,
    "start_time": "2023-08-02T20:31:00.075Z"
   },
   {
    "duration": 385,
    "start_time": "2023-08-02T20:31:00.483Z"
   },
   {
    "duration": 15,
    "start_time": "2023-08-02T20:31:00.870Z"
   },
   {
    "duration": 64,
    "start_time": "2023-08-02T20:31:00.887Z"
   },
   {
    "duration": 395,
    "start_time": "2023-08-02T20:31:00.953Z"
   },
   {
    "duration": 339,
    "start_time": "2023-08-02T20:31:01.352Z"
   },
   {
    "duration": 466,
    "start_time": "2023-08-02T20:31:01.693Z"
   },
   {
    "duration": 6,
    "start_time": "2023-08-02T20:31:02.162Z"
   },
   {
    "duration": 372,
    "start_time": "2023-08-02T20:31:02.170Z"
   },
   {
    "duration": 73,
    "start_time": "2023-08-02T20:31:02.546Z"
   },
   {
    "duration": 89,
    "start_time": "2023-08-02T20:31:02.621Z"
   },
   {
    "duration": 35,
    "start_time": "2023-08-02T20:31:02.713Z"
   },
   {
    "duration": 19,
    "start_time": "2023-08-02T20:31:02.751Z"
   },
   {
    "duration": 29,
    "start_time": "2023-08-02T20:31:02.772Z"
   },
   {
    "duration": 56,
    "start_time": "2023-08-02T20:31:02.803Z"
   },
   {
    "duration": 4344,
    "start_time": "2023-08-02T20:31:02.862Z"
   },
   {
    "duration": 5,
    "start_time": "2023-08-02T20:40:37.116Z"
   },
   {
    "duration": 4041,
    "start_time": "2023-08-02T20:40:38.667Z"
   },
   {
    "duration": 6,
    "start_time": "2023-08-02T20:41:00.193Z"
   },
   {
    "duration": 3875,
    "start_time": "2023-08-02T20:41:01.605Z"
   },
   {
    "duration": 8,
    "start_time": "2023-08-02T20:41:42.175Z"
   },
   {
    "duration": 3915,
    "start_time": "2023-08-02T20:41:43.940Z"
   },
   {
    "duration": 6,
    "start_time": "2023-08-02T20:41:52.740Z"
   },
   {
    "duration": 4022,
    "start_time": "2023-08-02T20:41:54.668Z"
   },
   {
    "duration": 6,
    "start_time": "2023-08-02T20:42:05.886Z"
   },
   {
    "duration": 4066,
    "start_time": "2023-08-02T20:42:07.117Z"
   },
   {
    "duration": 5,
    "start_time": "2023-08-02T20:45:36.889Z"
   },
   {
    "duration": 4167,
    "start_time": "2023-08-02T20:45:38.143Z"
   },
   {
    "duration": 1527,
    "start_time": "2023-08-03T15:47:55.577Z"
   },
   {
    "duration": 1110,
    "start_time": "2023-08-03T15:47:58.516Z"
   },
   {
    "duration": 3,
    "start_time": "2023-08-03T15:48:02.629Z"
   },
   {
    "duration": 148,
    "start_time": "2023-08-03T15:49:17.237Z"
   },
   {
    "duration": 158,
    "start_time": "2023-08-03T15:51:32.534Z"
   },
   {
    "duration": 146,
    "start_time": "2023-08-03T15:57:21.235Z"
   },
   {
    "duration": 121,
    "start_time": "2023-08-03T15:57:51.194Z"
   },
   {
    "duration": 10,
    "start_time": "2023-08-03T15:58:49.392Z"
   },
   {
    "duration": 12,
    "start_time": "2023-08-03T15:59:01.549Z"
   },
   {
    "duration": 158,
    "start_time": "2023-08-03T15:59:24.000Z"
   },
   {
    "duration": 15,
    "start_time": "2023-08-03T15:59:40.750Z"
   },
   {
    "duration": 9,
    "start_time": "2023-08-03T16:02:18.395Z"
   },
   {
    "duration": 10,
    "start_time": "2023-08-03T16:02:53.703Z"
   },
   {
    "duration": 10,
    "start_time": "2023-08-03T16:03:11.663Z"
   },
   {
    "duration": 11,
    "start_time": "2023-08-03T16:03:41.100Z"
   },
   {
    "duration": 11,
    "start_time": "2023-08-03T16:03:55.744Z"
   },
   {
    "duration": 143,
    "start_time": "2023-08-03T16:04:35.914Z"
   },
   {
    "duration": 145,
    "start_time": "2023-08-03T16:05:12.591Z"
   },
   {
    "duration": 14,
    "start_time": "2023-08-03T16:05:43.555Z"
   },
   {
    "duration": 11,
    "start_time": "2023-08-03T16:06:04.256Z"
   },
   {
    "duration": 131,
    "start_time": "2023-08-03T16:06:53.465Z"
   },
   {
    "duration": 152,
    "start_time": "2023-08-03T16:07:22.692Z"
   },
   {
    "duration": 134,
    "start_time": "2023-08-03T16:07:41.063Z"
   },
   {
    "duration": 209,
    "start_time": "2023-08-03T16:08:00.860Z"
   },
   {
    "duration": 10,
    "start_time": "2023-08-03T16:08:21.548Z"
   },
   {
    "duration": 13,
    "start_time": "2023-08-03T16:08:43.198Z"
   },
   {
    "duration": 12,
    "start_time": "2023-08-03T16:09:05.347Z"
   },
   {
    "duration": 11,
    "start_time": "2023-08-03T16:09:25.063Z"
   },
   {
    "duration": 159,
    "start_time": "2023-08-03T16:10:02.885Z"
   },
   {
    "duration": 143,
    "start_time": "2023-08-03T16:10:29.590Z"
   },
   {
    "duration": 143,
    "start_time": "2023-08-03T16:10:52.309Z"
   },
   {
    "duration": 135,
    "start_time": "2023-08-03T16:11:14.936Z"
   },
   {
    "duration": 186,
    "start_time": "2023-08-03T16:11:39.393Z"
   },
   {
    "duration": 134,
    "start_time": "2023-08-03T16:12:06.034Z"
   },
   {
    "duration": 162,
    "start_time": "2023-08-03T16:12:23.031Z"
   },
   {
    "duration": 109,
    "start_time": "2023-08-03T16:14:24.457Z"
   },
   {
    "duration": 22,
    "start_time": "2023-08-03T16:14:33.739Z"
   },
   {
    "duration": 289,
    "start_time": "2023-08-03T16:14:36.582Z"
   },
   {
    "duration": 935,
    "start_time": "2023-08-03T16:15:34.841Z"
   },
   {
    "duration": 857,
    "start_time": "2023-08-03T16:15:52.551Z"
   },
   {
    "duration": 925,
    "start_time": "2023-08-03T16:18:16.435Z"
   },
   {
    "duration": 824,
    "start_time": "2023-08-03T16:18:40.314Z"
   },
   {
    "duration": 904,
    "start_time": "2023-08-03T16:19:21.729Z"
   },
   {
    "duration": 984,
    "start_time": "2023-08-03T16:20:03.907Z"
   },
   {
    "duration": 412,
    "start_time": "2023-08-03T16:21:05.052Z"
   },
   {
    "duration": 5,
    "start_time": "2023-08-03T16:21:40.425Z"
   },
   {
    "duration": 381,
    "start_time": "2023-08-03T16:21:42.006Z"
   },
   {
    "duration": 7,
    "start_time": "2023-08-03T16:21:42.859Z"
   },
   {
    "duration": 143,
    "start_time": "2023-08-03T16:21:43.846Z"
   },
   {
    "duration": 99,
    "start_time": "2023-08-03T16:21:45.396Z"
   },
   {
    "duration": 18,
    "start_time": "2023-08-03T16:21:46.836Z"
   },
   {
    "duration": 976,
    "start_time": "2023-08-03T16:21:48.799Z"
   },
   {
    "duration": 818,
    "start_time": "2023-08-03T16:22:31.198Z"
   },
   {
    "duration": 1823,
    "start_time": "2023-08-03T16:23:57.532Z"
   },
   {
    "duration": 961,
    "start_time": "2023-08-03T16:24:19.248Z"
   },
   {
    "duration": 415,
    "start_time": "2023-08-03T16:27:24.299Z"
   },
   {
    "duration": 289,
    "start_time": "2023-08-03T16:31:33.691Z"
   },
   {
    "duration": 300,
    "start_time": "2023-08-03T16:32:45.940Z"
   },
   {
    "duration": 11,
    "start_time": "2023-08-03T16:33:37.172Z"
   },
   {
    "duration": 9,
    "start_time": "2023-08-03T16:34:16.992Z"
   },
   {
    "duration": 400,
    "start_time": "2023-08-03T16:34:25.093Z"
   },
   {
    "duration": 306,
    "start_time": "2023-08-03T16:34:48.736Z"
   },
   {
    "duration": 293,
    "start_time": "2023-08-03T16:34:59.549Z"
   },
   {
    "duration": 12,
    "start_time": "2023-08-03T16:35:03.536Z"
   },
   {
    "duration": 24,
    "start_time": "2023-08-03T16:35:10.246Z"
   },
   {
    "duration": 504,
    "start_time": "2023-08-03T16:35:14.837Z"
   },
   {
    "duration": 329,
    "start_time": "2023-08-03T16:35:42.899Z"
   },
   {
    "duration": 285,
    "start_time": "2023-08-03T16:35:58.003Z"
   },
   {
    "duration": 291,
    "start_time": "2023-08-03T16:36:08.808Z"
   },
   {
    "duration": 8,
    "start_time": "2023-08-03T16:36:28.520Z"
   },
   {
    "duration": 400,
    "start_time": "2023-08-03T16:36:31.646Z"
   },
   {
    "duration": 7,
    "start_time": "2023-08-03T16:36:33.308Z"
   },
   {
    "duration": 3,
    "start_time": "2023-08-03T16:36:37.702Z"
   },
   {
    "duration": 4,
    "start_time": "2023-08-03T16:36:38.800Z"
   },
   {
    "duration": 6,
    "start_time": "2023-08-03T16:36:40.512Z"
   },
   {
    "duration": 9,
    "start_time": "2023-08-03T16:37:14.375Z"
   },
   {
    "duration": 9,
    "start_time": "2023-08-03T16:37:52.136Z"
   },
   {
    "duration": 4,
    "start_time": "2023-08-03T16:38:03.199Z"
   },
   {
    "duration": 8,
    "start_time": "2023-08-03T16:38:11.705Z"
   },
   {
    "duration": 4,
    "start_time": "2023-08-03T16:38:16.991Z"
   },
   {
    "duration": 7,
    "start_time": "2023-08-03T16:38:19.808Z"
   },
   {
    "duration": 3440,
    "start_time": "2023-08-03T16:38:23.447Z"
   },
   {
    "duration": 3,
    "start_time": "2023-08-03T17:32:10.724Z"
   },
   {
    "duration": 352,
    "start_time": "2023-08-03T17:32:10.728Z"
   },
   {
    "duration": 2,
    "start_time": "2023-08-03T17:32:11.082Z"
   },
   {
    "duration": 154,
    "start_time": "2023-08-03T17:32:11.085Z"
   },
   {
    "duration": 104,
    "start_time": "2023-08-03T17:32:11.240Z"
   },
   {
    "duration": 17,
    "start_time": "2023-08-03T17:32:11.346Z"
   },
   {
    "duration": 311,
    "start_time": "2023-08-03T17:32:11.364Z"
   },
   {
    "duration": 279,
    "start_time": "2023-08-03T17:32:11.676Z"
   },
   {
    "duration": 275,
    "start_time": "2023-08-03T17:32:11.957Z"
   },
   {
    "duration": 9,
    "start_time": "2023-08-03T17:32:12.234Z"
   },
   {
    "duration": 23,
    "start_time": "2023-08-03T17:32:12.246Z"
   },
   {
    "duration": 356,
    "start_time": "2023-08-03T17:32:12.270Z"
   },
   {
    "duration": 260,
    "start_time": "2023-08-03T17:32:12.628Z"
   },
   {
    "duration": 293,
    "start_time": "2023-08-03T17:32:12.890Z"
   },
   {
    "duration": 5,
    "start_time": "2023-08-03T17:32:13.184Z"
   },
   {
    "duration": 235,
    "start_time": "2023-08-03T17:32:13.190Z"
   },
   {
    "duration": 92,
    "start_time": "2023-08-03T17:32:13.428Z"
   },
   {
    "duration": 130,
    "start_time": "2023-08-03T17:32:13.522Z"
   },
   {
    "duration": 35,
    "start_time": "2023-08-03T17:32:13.653Z"
   },
   {
    "duration": 28,
    "start_time": "2023-08-03T17:32:13.690Z"
   },
   {
    "duration": 12,
    "start_time": "2023-08-03T17:32:13.720Z"
   },
   {
    "duration": 39,
    "start_time": "2023-08-03T17:32:13.733Z"
   },
   {
    "duration": 3121,
    "start_time": "2023-08-03T17:32:13.774Z"
   },
   {
    "duration": 1251,
    "start_time": "2023-08-03T17:32:44.688Z"
   },
   {
    "duration": 307,
    "start_time": "2023-08-03T17:32:45.941Z"
   },
   {
    "duration": 2,
    "start_time": "2023-08-03T17:32:46.250Z"
   },
   {
    "duration": 142,
    "start_time": "2023-08-03T17:32:46.253Z"
   },
   {
    "duration": 103,
    "start_time": "2023-08-03T17:32:46.397Z"
   },
   {
    "duration": 41,
    "start_time": "2023-08-03T17:32:46.502Z"
   },
   {
    "duration": 279,
    "start_time": "2023-08-03T17:32:46.545Z"
   },
   {
    "duration": 281,
    "start_time": "2023-08-03T17:32:46.825Z"
   },
   {
    "duration": 345,
    "start_time": "2023-08-03T17:32:47.107Z"
   },
   {
    "duration": 12,
    "start_time": "2023-08-03T17:32:47.453Z"
   },
   {
    "duration": 27,
    "start_time": "2023-08-03T17:32:47.466Z"
   },
   {
    "duration": 309,
    "start_time": "2023-08-03T17:32:47.494Z"
   },
   {
    "duration": 286,
    "start_time": "2023-08-03T17:32:47.805Z"
   },
   {
    "duration": 299,
    "start_time": "2023-08-03T17:32:48.095Z"
   },
   {
    "duration": 4,
    "start_time": "2023-08-03T17:32:48.395Z"
   },
   {
    "duration": 420,
    "start_time": "2023-08-03T17:32:48.400Z"
   },
   {
    "duration": 6,
    "start_time": "2023-08-03T17:32:48.822Z"
   },
   {
    "duration": 107,
    "start_time": "2023-08-03T17:32:48.829Z"
   },
   {
    "duration": 20,
    "start_time": "2023-08-03T17:32:48.937Z"
   },
   {
    "duration": 29,
    "start_time": "2023-08-03T17:32:48.959Z"
   },
   {
    "duration": 27,
    "start_time": "2023-08-03T17:32:48.989Z"
   },
   {
    "duration": 20,
    "start_time": "2023-08-03T17:32:49.017Z"
   },
   {
    "duration": 2970,
    "start_time": "2023-08-03T17:32:49.039Z"
   },
   {
    "duration": 2555,
    "start_time": "2023-08-06T11:58:32.813Z"
   },
   {
    "duration": 28455,
    "start_time": "2023-08-06T11:59:28.678Z"
   },
   {
    "duration": 374,
    "start_time": "2023-08-06T12:00:06.346Z"
   },
   {
    "duration": 979,
    "start_time": "2023-08-06T12:00:20.686Z"
   },
   {
    "duration": 267,
    "start_time": "2023-08-06T12:00:35.155Z"
   },
   {
    "duration": 0,
    "start_time": "2023-08-06T12:00:35.432Z"
   },
   {
    "duration": 0,
    "start_time": "2023-08-06T12:00:35.440Z"
   },
   {
    "duration": 0,
    "start_time": "2023-08-06T12:00:35.441Z"
   },
   {
    "duration": 0,
    "start_time": "2023-08-06T12:00:35.442Z"
   },
   {
    "duration": 0,
    "start_time": "2023-08-06T12:00:35.448Z"
   },
   {
    "duration": 0,
    "start_time": "2023-08-06T12:00:35.450Z"
   },
   {
    "duration": 0,
    "start_time": "2023-08-06T12:00:35.456Z"
   },
   {
    "duration": 0,
    "start_time": "2023-08-06T12:00:35.464Z"
   },
   {
    "duration": 0,
    "start_time": "2023-08-06T12:00:35.468Z"
   },
   {
    "duration": 0,
    "start_time": "2023-08-06T12:00:35.469Z"
   },
   {
    "duration": 0,
    "start_time": "2023-08-06T12:00:35.470Z"
   },
   {
    "duration": 0,
    "start_time": "2023-08-06T12:00:35.471Z"
   },
   {
    "duration": 0,
    "start_time": "2023-08-06T12:00:35.488Z"
   },
   {
    "duration": 0,
    "start_time": "2023-08-06T12:00:35.489Z"
   },
   {
    "duration": 0,
    "start_time": "2023-08-06T12:00:35.490Z"
   },
   {
    "duration": 0,
    "start_time": "2023-08-06T12:00:35.491Z"
   },
   {
    "duration": 0,
    "start_time": "2023-08-06T12:00:35.508Z"
   },
   {
    "duration": 0,
    "start_time": "2023-08-06T12:00:35.509Z"
   },
   {
    "duration": 0,
    "start_time": "2023-08-06T12:00:35.510Z"
   },
   {
    "duration": 0,
    "start_time": "2023-08-06T12:00:35.511Z"
   },
   {
    "duration": 0,
    "start_time": "2023-08-06T12:00:35.512Z"
   },
   {
    "duration": 0,
    "start_time": "2023-08-06T12:00:35.520Z"
   },
   {
    "duration": 0,
    "start_time": "2023-08-06T12:00:35.521Z"
   },
   {
    "duration": 3240,
    "start_time": "2023-08-06T12:02:15.248Z"
   },
   {
    "duration": 446,
    "start_time": "2023-08-06T12:02:18.490Z"
   },
   {
    "duration": 1515,
    "start_time": "2023-08-06T12:02:36.881Z"
   },
   {
    "duration": 8032,
    "start_time": "2023-08-06T12:03:07.363Z"
   },
   {
    "duration": 9,
    "start_time": "2023-08-06T12:04:03.536Z"
   },
   {
    "duration": 622,
    "start_time": "2023-08-06T12:04:03.590Z"
   },
   {
    "duration": 6,
    "start_time": "2023-08-06T12:04:04.215Z"
   },
   {
    "duration": 263,
    "start_time": "2023-08-06T12:04:04.223Z"
   },
   {
    "duration": 174,
    "start_time": "2023-08-06T12:04:04.488Z"
   },
   {
    "duration": 43,
    "start_time": "2023-08-06T12:04:04.668Z"
   },
   {
    "duration": 607,
    "start_time": "2023-08-06T12:04:04.717Z"
   },
   {
    "duration": 456,
    "start_time": "2023-08-06T12:04:05.329Z"
   },
   {
    "duration": 520,
    "start_time": "2023-08-06T12:04:05.790Z"
   },
   {
    "duration": 22,
    "start_time": "2023-08-06T12:04:06.322Z"
   },
   {
    "duration": 159,
    "start_time": "2023-08-06T12:04:06.356Z"
   },
   {
    "duration": 466,
    "start_time": "2023-08-06T12:04:06.522Z"
   },
   {
    "duration": 630,
    "start_time": "2023-08-06T12:04:06.994Z"
   },
   {
    "duration": 388,
    "start_time": "2023-08-06T12:04:07.628Z"
   },
   {
    "duration": 13,
    "start_time": "2023-08-06T12:04:08.021Z"
   },
   {
    "duration": 434,
    "start_time": "2023-08-06T12:04:08.036Z"
   },
   {
    "duration": 13,
    "start_time": "2023-08-06T12:04:08.478Z"
   },
   {
    "duration": 225,
    "start_time": "2023-08-06T12:04:08.498Z"
   },
   {
    "duration": 40,
    "start_time": "2023-08-06T12:04:08.724Z"
   },
   {
    "duration": 55,
    "start_time": "2023-08-06T12:04:08.765Z"
   },
   {
    "duration": 24,
    "start_time": "2023-08-06T12:04:08.822Z"
   },
   {
    "duration": 69,
    "start_time": "2023-08-06T12:04:08.848Z"
   },
   {
    "duration": 5485,
    "start_time": "2023-08-06T12:04:08.919Z"
   },
   {
    "duration": 215,
    "start_time": "2023-08-06T12:09:54.504Z"
   },
   {
    "duration": 222,
    "start_time": "2023-08-06T12:10:00.734Z"
   },
   {
    "duration": 7,
    "start_time": "2023-08-06T12:15:18.533Z"
   },
   {
    "duration": 133,
    "start_time": "2023-08-06T12:15:18.542Z"
   },
   {
    "duration": 971,
    "start_time": "2023-08-06T12:15:18.678Z"
   },
   {
    "duration": 3,
    "start_time": "2023-08-06T12:15:19.657Z"
   },
   {
    "duration": 99,
    "start_time": "2023-08-06T12:15:19.663Z"
   },
   {
    "duration": 386,
    "start_time": "2023-08-06T12:15:19.764Z"
   },
   {
    "duration": 168,
    "start_time": "2023-08-06T12:15:20.156Z"
   },
   {
    "duration": 95,
    "start_time": "2023-08-06T12:15:20.329Z"
   },
   {
    "duration": 500,
    "start_time": "2023-08-06T12:15:20.432Z"
   },
   {
    "duration": 635,
    "start_time": "2023-08-06T12:15:20.941Z"
   },
   {
    "duration": 732,
    "start_time": "2023-08-06T12:15:21.584Z"
   },
   {
    "duration": 27,
    "start_time": "2023-08-06T12:15:22.321Z"
   },
   {
    "duration": 231,
    "start_time": "2023-08-06T12:15:22.353Z"
   },
   {
    "duration": 598,
    "start_time": "2023-08-06T12:15:22.590Z"
   },
   {
    "duration": 443,
    "start_time": "2023-08-06T12:15:23.193Z"
   },
   {
    "duration": 359,
    "start_time": "2023-08-06T12:15:23.641Z"
   },
   {
    "duration": 10,
    "start_time": "2023-08-06T12:15:24.005Z"
   },
   {
    "duration": 642,
    "start_time": "2023-08-06T12:15:24.020Z"
   },
   {
    "duration": 43,
    "start_time": "2023-08-06T12:15:24.696Z"
   },
   {
    "duration": 358,
    "start_time": "2023-08-06T12:15:24.746Z"
   },
   {
    "duration": 121,
    "start_time": "2023-08-06T12:15:25.107Z"
   },
   {
    "duration": 143,
    "start_time": "2023-08-06T12:15:25.229Z"
   },
   {
    "duration": 118,
    "start_time": "2023-08-06T12:15:25.374Z"
   },
   {
    "duration": 194,
    "start_time": "2023-08-06T12:15:25.494Z"
   },
   {
    "duration": 5211,
    "start_time": "2023-08-06T12:15:25.689Z"
   },
   {
    "duration": 10,
    "start_time": "2023-08-06T12:19:18.529Z"
   },
   {
    "duration": 2118,
    "start_time": "2023-08-06T12:19:18.546Z"
   },
   {
    "duration": 597,
    "start_time": "2023-08-06T12:19:20.673Z"
   },
   {
    "duration": 6,
    "start_time": "2023-08-06T12:19:21.275Z"
   },
   {
    "duration": 34,
    "start_time": "2023-08-06T12:19:21.286Z"
   },
   {
    "duration": 223,
    "start_time": "2023-08-06T12:19:21.322Z"
   },
   {
    "duration": 161,
    "start_time": "2023-08-06T12:19:21.550Z"
   },
   {
    "duration": 33,
    "start_time": "2023-08-06T12:19:21.716Z"
   },
   {
    "duration": 482,
    "start_time": "2023-08-06T12:19:21.755Z"
   },
   {
    "duration": 402,
    "start_time": "2023-08-06T12:19:22.242Z"
   },
   {
    "duration": 470,
    "start_time": "2023-08-06T12:19:22.650Z"
   },
   {
    "duration": 16,
    "start_time": "2023-08-06T12:19:23.125Z"
   },
   {
    "duration": 215,
    "start_time": "2023-08-06T12:19:23.147Z"
   },
   {
    "duration": 419,
    "start_time": "2023-08-06T12:19:23.376Z"
   },
   {
    "duration": 388,
    "start_time": "2023-08-06T12:19:23.800Z"
   },
   {
    "duration": 411,
    "start_time": "2023-08-06T12:19:24.192Z"
   },
   {
    "duration": 9,
    "start_time": "2023-08-06T12:19:24.608Z"
   },
   {
    "duration": 910,
    "start_time": "2023-08-06T12:19:24.623Z"
   },
   {
    "duration": 15,
    "start_time": "2023-08-06T12:19:25.536Z"
   },
   {
    "duration": 161,
    "start_time": "2023-08-06T12:19:25.554Z"
   },
   {
    "duration": 109,
    "start_time": "2023-08-06T12:19:25.722Z"
   },
   {
    "duration": 83,
    "start_time": "2023-08-06T12:19:25.834Z"
   },
   {
    "duration": 64,
    "start_time": "2023-08-06T12:19:25.926Z"
   },
   {
    "duration": 108,
    "start_time": "2023-08-06T12:19:25.996Z"
   },
   {
    "duration": 5934,
    "start_time": "2023-08-06T12:19:26.114Z"
   },
   {
    "duration": 17926,
    "start_time": "2023-08-06T21:44:31.006Z"
   },
   {
    "duration": 6202,
    "start_time": "2023-08-06T21:44:48.935Z"
   },
   {
    "duration": 910,
    "start_time": "2023-08-06T21:44:55.139Z"
   },
   {
    "duration": 7155,
    "start_time": "2023-08-06T21:44:56.051Z"
   },
   {
    "duration": 10,
    "start_time": "2023-08-06T21:45:27.685Z"
   },
   {
    "duration": 6,
    "start_time": "2023-08-06T21:45:35.212Z"
   }
  ],
  "kernelspec": {
   "display_name": "Python 3 (ipykernel)",
   "language": "python",
   "name": "python3"
  },
  "language_info": {
   "codemirror_mode": {
    "name": "ipython",
    "version": 3
   },
   "file_extension": ".py",
   "mimetype": "text/x-python",
   "name": "python",
   "nbconvert_exporter": "python",
   "pygments_lexer": "ipython3",
   "version": "3.9.5"
  },
  "toc": {
   "base_numbering": 1,
   "nav_menu": {},
   "number_sections": true,
   "sideBar": true,
   "skip_h1_title": true,
   "title_cell": "Table of Contents",
   "title_sidebar": "Contents",
   "toc_cell": false,
   "toc_position": {
    "height": "calc(100% - 180px)",
    "left": "10px",
    "top": "150px",
    "width": "230.797px"
   },
   "toc_section_display": true,
   "toc_window_display": false
  }
 },
 "nbformat": 4,
 "nbformat_minor": 2
}
